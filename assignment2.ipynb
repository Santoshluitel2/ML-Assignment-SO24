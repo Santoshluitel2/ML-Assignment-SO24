{
 "cells": [
  {
   "cell_type": "markdown",
   "id": "27040e26",
   "metadata": {
    "id": "gsqKM5DLlLRm",
    "papermill": {
     "duration": 0.023047,
     "end_time": "2024-05-14T05:54:24.111059",
     "exception": false,
     "start_time": "2024-05-14T05:54:24.088012",
     "status": "completed"
    },
    "tags": []
   },
   "source": [
    "# Machine Learning - Practical 2 - Introduction to Pytorch and Linear Regression with Pytorch\n",
    "\n",
    "Names: {Ayush Poudel, Santosh Luitel}  \n",
    "Summer Term 2024   "
   ]
  },
  {
   "cell_type": "markdown",
   "id": "e32fa43c",
   "metadata": {
    "execution": {
     "iopub.execute_input": "2024-05-12T11:01:29.149071Z",
     "iopub.status.busy": "2024-05-12T11:01:29.148661Z",
     "iopub.status.idle": "2024-05-12T11:01:29.158717Z",
     "shell.execute_reply": "2024-05-12T11:01:29.157027Z",
     "shell.execute_reply.started": "2024-05-12T11:01:29.149040Z"
    },
    "id": "eaoMWjbZdCLf",
    "papermill": {
     "duration": 0.021574,
     "end_time": "2024-05-14T05:54:24.153494",
     "exception": false,
     "start_time": "2024-05-14T05:54:24.131920",
     "status": "completed"
    },
    "tags": []
   },
   "source": [
    "# IMPORTANT SUBMISSION INSTRUCTIONS\n",
    "\n",
    "You should work on the exercises in groups of 2-3. It is on you how you collaborate, but please make sure that everyone contributes equally and also that you understand all the solutions.\n",
    "You will be asked to present your group's solution in the tutorials and you should be well prepared to present any part of it.\n",
    "\n",
    "- When you've completed the exercise, download the notebook and rename it to ```<surname1>_<surname2>_<surname3>.ipynb```.\n",
    "- Only submit the Jupyter Notebook (ipynb file). No other file is required. Upload it on `Stud.IP` -> `Machine learning 1` -> `Files` -> `Submission of Homework 1`.\n",
    "- Make only one submission of the exercise per group.\n",
    "- The deadline is strict.\n",
    "- In addition to the submissions, every member of your group should be prepared to present the exercise in the tutorials.\n",
    "\n",
    "Implementation\n",
    "- Do not change the cells which are marked as \"DO NOT CHANGE\", similarly write your solution to the marked cells."
   ]
  },
  {
   "cell_type": "markdown",
   "id": "f7dcca21",
   "metadata": {
    "id": "KAv3XtBUKLIN",
    "papermill": {
     "duration": 0.020744,
     "end_time": "2024-05-14T05:54:24.194691",
     "exception": false,
     "start_time": "2024-05-14T05:54:24.173947",
     "status": "completed"
    },
    "tags": []
   },
   "source": [
    "## How to work on the exercise?\n",
    "\n",
    "Generally, for machine learning you often need access to a machine with a GPU. This is not strictly required for this homework but we recommend using [Kaggle](https://www.kaggle.com/), which offers convenient access to a GPU and has all the dependencies that we need preinstalled ([here](https://gist.github.com/anwai98/444d3ff11c1365f2c610579d5df0830b) are some initial steps to work with Kaggle Notebooks). You can load this notebook on kaggle via `File` -> `Import Noteboook` -> `Browse and  Import`. Alternatively, you can also use [Colab](https://colab.research.google.com)."
   ]
  },
  {
   "cell_type": "markdown",
   "id": "fb96d465",
   "metadata": {
    "id": "A8RW2QHHFQYe",
    "papermill": {
     "duration": 0.021132,
     "end_time": "2024-05-14T05:54:24.237765",
     "exception": false,
     "start_time": "2024-05-14T05:54:24.216633",
     "status": "completed"
    },
    "tags": []
   },
   "source": [
    "# Introduction\n",
    "\n",
    "In this task you will get to know the basic tools used by the machine learning community.\n",
    "Later, we will build a linear regression model with PyTorch and perform training and prediction the linear regression problem from the previous practical. The goal of this tutorial is to understand the PyTorch framework and getting to know to use it. "
   ]
  },
  {
   "cell_type": "markdown",
   "id": "0fc82e9d",
   "metadata": {
    "id": "Dhw-7EA-10Xm",
    "papermill": {
     "duration": 0.021323,
     "end_time": "2024-05-14T05:54:24.280843",
     "exception": false,
     "start_time": "2024-05-14T05:54:24.259520",
     "status": "completed"
    },
    "tags": []
   },
   "source": [
    "## Tutorials\n",
    "\n",
    "Some python libraries are required to accomplish the tasks assigned in this homework. If you feel like you need to follow a tutorial before, feel free to do so:"
   ]
  },
  {
   "cell_type": "markdown",
   "id": "8e9a4c22",
   "metadata": {
    "id": "VMyEloGz__BZ",
    "papermill": {
     "duration": 0.021599,
     "end_time": "2024-05-14T05:54:24.323542",
     "exception": false,
     "start_time": "2024-05-14T05:54:24.301943",
     "status": "completed"
    },
    "tags": []
   },
   "source": [
    "*   [PyTorch Tutorial](https://pytorch.org/tutorials/)\n",
    "*   [Seaborn Tutorial](https://seaborn.pydata.org/tutorial.html) (data visualization library on top of matplotlib)\n"
   ]
  },
  {
   "cell_type": "code",
   "execution_count": 1,
   "id": "e55d71dd",
   "metadata": {
    "execution": {
     "iopub.execute_input": "2024-05-14T05:54:24.368364Z",
     "iopub.status.busy": "2024-05-14T05:54:24.367634Z",
     "iopub.status.idle": "2024-05-14T05:54:32.157041Z",
     "shell.execute_reply": "2024-05-14T05:54:32.156059Z"
    },
    "id": "LArjND15dGNh",
    "papermill": {
     "duration": 7.814833,
     "end_time": "2024-05-14T05:54:32.159966",
     "exception": false,
     "start_time": "2024-05-14T05:54:24.345133",
     "status": "completed"
    },
    "tags": []
   },
   "outputs": [],
   "source": [
    "import random\n",
    "import numpy as np\n",
    "import matplotlib as mpl\n",
    "import matplotlib.pyplot as plt\n",
    "import seaborn as sns\n",
    "import pandas as pd\n",
    "import torch\n",
    "import pathlib\n",
    "from torchvision import datasets, transforms\n",
    "from torch.utils.data import DataLoader\n",
    "from torch.utils.data import sampler"
   ]
  },
  {
   "cell_type": "code",
   "execution_count": 2,
   "id": "850ded3b",
   "metadata": {
    "execution": {
     "iopub.execute_input": "2024-05-14T05:54:32.208094Z",
     "iopub.status.busy": "2024-05-14T05:54:32.207003Z",
     "iopub.status.idle": "2024-05-14T05:54:32.212404Z",
     "shell.execute_reply": "2024-05-14T05:54:32.211417Z"
    },
    "id": "2AhWDOYgKLIP",
    "papermill": {
     "duration": 0.029801,
     "end_time": "2024-05-14T05:54:32.214414",
     "exception": false,
     "start_time": "2024-05-14T05:54:32.184613",
     "status": "completed"
    },
    "tags": []
   },
   "outputs": [],
   "source": [
    "torch.set_default_dtype(torch.float64)"
   ]
  },
  {
   "cell_type": "markdown",
   "id": "5ff4a089",
   "metadata": {
    "id": "gpqN-O0F_atv",
    "papermill": {
     "duration": 0.02139,
     "end_time": "2024-05-14T05:54:32.256854",
     "exception": false,
     "start_time": "2024-05-14T05:54:32.235464",
     "status": "completed"
    },
    "tags": []
   },
   "source": [
    "## System checks\n",
    "\n",
    "Perform some rudimentary system checks. Do we have a CUDA-capable device? Multiple? Is CuDNN active (huge speedups for some networks)?"
   ]
  },
  {
   "cell_type": "code",
   "execution_count": 3,
   "id": "99e9c270",
   "metadata": {
    "execution": {
     "iopub.execute_input": "2024-05-14T05:54:32.302584Z",
     "iopub.status.busy": "2024-05-14T05:54:32.302203Z",
     "iopub.status.idle": "2024-05-14T05:54:32.407852Z",
     "shell.execute_reply": "2024-05-14T05:54:32.406967Z"
    },
    "id": "b1r5yPHY_hsl",
    "outputId": "fca5e78d-968b-4fbd-94f5-f8ffa985c2cd",
    "papermill": {
     "duration": 0.130486,
     "end_time": "2024-05-14T05:54:32.409864",
     "exception": false,
     "start_time": "2024-05-14T05:54:32.279378",
     "status": "completed"
    },
    "tags": []
   },
   "outputs": [
    {
     "data": {
      "text/plain": [
       "(True, True, 2)"
      ]
     },
     "execution_count": 3,
     "metadata": {},
     "output_type": "execute_result"
    }
   ],
   "source": [
    "torch.cuda.is_available(), torch.backends.cudnn.is_available(), torch.cuda.device_count()"
   ]
  },
  {
   "cell_type": "markdown",
   "id": "2c735ae4",
   "metadata": {
    "id": "UZD5IRFWZX5u",
    "papermill": {
     "duration": 0.021487,
     "end_time": "2024-05-14T05:54:32.453186",
     "exception": false,
     "start_time": "2024-05-14T05:54:32.431699",
     "status": "completed"
    },
    "tags": []
   },
   "source": [
    "If you see now that now that there is no CUDA-capable device available, you have to activate the GPU.\n",
    "\n",
    "Click the top-right corner menu `|<` -> `Settings` -> `Accelerator` -> Select `GPU` as Hardware accelerator.\n",
    "\n",
    "![image.png](data:image/png;base64,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)"
   ]
  },
  {
   "cell_type": "markdown",
   "id": "d9869a28",
   "metadata": {
    "id": "olx30IjdagoU",
    "papermill": {
     "duration": 0.020992,
     "end_time": "2024-05-14T05:54:32.496476",
     "exception": false,
     "start_time": "2024-05-14T05:54:32.475484",
     "status": "completed"
    },
    "tags": []
   },
   "source": [
    "Now check the availability again (after re-running the imports)"
   ]
  },
  {
   "cell_type": "code",
   "execution_count": 4,
   "id": "fe827575",
   "metadata": {
    "execution": {
     "iopub.execute_input": "2024-05-14T05:54:32.540606Z",
     "iopub.status.busy": "2024-05-14T05:54:32.540268Z",
     "iopub.status.idle": "2024-05-14T05:54:32.548884Z",
     "shell.execute_reply": "2024-05-14T05:54:32.548098Z"
    },
    "id": "MMCbCpAFao6q",
    "outputId": "300ea69d-47af-4f31-e1c2-e3b06571446c",
    "papermill": {
     "duration": 0.032653,
     "end_time": "2024-05-14T05:54:32.550915",
     "exception": false,
     "start_time": "2024-05-14T05:54:32.518262",
     "status": "completed"
    },
    "scrolled": true,
    "tags": []
   },
   "outputs": [
    {
     "data": {
      "text/plain": [
       "(True, True, 2, 0)"
      ]
     },
     "execution_count": 4,
     "metadata": {},
     "output_type": "execute_result"
    }
   ],
   "source": [
    "torch.cuda.is_available(), torch.backends.cudnn.is_available(), torch.cuda.device_count(), torch.cuda.current_device()"
   ]
  },
  {
   "cell_type": "markdown",
   "id": "7480b7b4",
   "metadata": {
    "id": "zbFbqGzT_ksO",
    "papermill": {
     "duration": 0.020886,
     "end_time": "2024-05-14T05:54:32.593217",
     "exception": false,
     "start_time": "2024-05-14T05:54:32.572331",
     "status": "completed"
    },
    "tags": []
   },
   "source": [
    "Choose your device for computation. CPU or one of your CUDA devices?"
   ]
  },
  {
   "cell_type": "code",
   "execution_count": 5,
   "id": "f9800342",
   "metadata": {
    "execution": {
     "iopub.execute_input": "2024-05-14T05:54:32.636006Z",
     "iopub.status.busy": "2024-05-14T05:54:32.635730Z",
     "iopub.status.idle": "2024-05-14T05:54:32.641205Z",
     "shell.execute_reply": "2024-05-14T05:54:32.640468Z"
    },
    "id": "dk3DvooB_nFx",
    "outputId": "f73e40b2-a238-4dd0-f111-9dd215975c1c",
    "papermill": {
     "duration": 0.028944,
     "end_time": "2024-05-14T05:54:32.643262",
     "exception": false,
     "start_time": "2024-05-14T05:54:32.614318",
     "status": "completed"
    },
    "tags": []
   },
   "outputs": [
    {
     "name": "stdout",
     "output_type": "stream",
     "text": [
      "Using device cuda:0\n"
     ]
    }
   ],
   "source": [
    "# DO NOT CHANGE\n",
    "use_cuda = True\n",
    "#use_cuda = False\n",
    "use_cuda = False if not use_cuda else torch.cuda.is_available()\n",
    "device = torch.device('cuda:0' if use_cuda else 'cpu')\n",
    "torch.cuda.get_device_name(device) if use_cuda else 'cpu'\n",
    "print('Using device', device)"
   ]
  },
  {
   "cell_type": "markdown",
   "id": "6f126b66",
   "metadata": {
    "id": "kGmTWnQYq2Ug",
    "papermill": {
     "duration": 0.022484,
     "end_time": "2024-05-14T05:54:32.686821",
     "exception": false,
     "start_time": "2024-05-14T05:54:32.664337",
     "status": "completed"
    },
    "tags": []
   },
   "source": [
    "# PyTorch: Getting to know Tensors\n",
    "\n",
    "*feel free to skip this before 'Machine Learning with Pytorch' section if you feel confident enough*   \n",
    "PyTorch is a library for machine learning on arbitrary datasets, including irregular input data such as graphs, point clouds and manifolds.\n",
    "\n",
    "In this short tutorial we will explore some of its features to handle data in tensors.\n",
    "If you want, you can look into more [detailed PyTorch tutorials](https://pytorch.org/tutorials/) online."
   ]
  },
  {
   "cell_type": "code",
   "execution_count": 6,
   "id": "695eeed3",
   "metadata": {
    "execution": {
     "iopub.execute_input": "2024-05-14T05:54:32.731916Z",
     "iopub.status.busy": "2024-05-14T05:54:32.731138Z",
     "iopub.status.idle": "2024-05-14T05:54:32.740913Z",
     "shell.execute_reply": "2024-05-14T05:54:32.740059Z"
    },
    "id": "gadPm82Ce7NA",
    "papermill": {
     "duration": 0.034378,
     "end_time": "2024-05-14T05:54:32.742706",
     "exception": false,
     "start_time": "2024-05-14T05:54:32.708328",
     "status": "completed"
    },
    "tags": []
   },
   "outputs": [],
   "source": [
    "# create a numpy array\n",
    "numpyarray = np.arange(10).reshape(2, 5)\n",
    "# convert to pytorch tensor\n",
    "a = torch.from_numpy(numpyarray)"
   ]
  },
  {
   "cell_type": "markdown",
   "id": "fcb7304d",
   "metadata": {
    "id": "aUpPhyFZfMWM",
    "papermill": {
     "duration": 0.060079,
     "end_time": "2024-05-14T05:54:32.824320",
     "exception": false,
     "start_time": "2024-05-14T05:54:32.764241",
     "status": "completed"
    },
    "tags": []
   },
   "source": [
    "Let us find out what the properties of this tensor 'a' are."
   ]
  },
  {
   "cell_type": "code",
   "execution_count": 7,
   "id": "00f65c19",
   "metadata": {
    "execution": {
     "iopub.execute_input": "2024-05-14T05:54:32.871073Z",
     "iopub.status.busy": "2024-05-14T05:54:32.870261Z",
     "iopub.status.idle": "2024-05-14T05:54:32.892467Z",
     "shell.execute_reply": "2024-05-14T05:54:32.891463Z"
    },
    "id": "DbD1a1PEfu-5",
    "outputId": "52bed402-de34-4698-feaa-a3692ed3cebc",
    "papermill": {
     "duration": 0.04764,
     "end_time": "2024-05-14T05:54:32.894517",
     "exception": false,
     "start_time": "2024-05-14T05:54:32.846877",
     "status": "completed"
    },
    "tags": []
   },
   "outputs": [
    {
     "name": "stdout",
     "output_type": "stream",
     "text": [
      "tensor([[0, 1, 2, 3, 4],\n",
      "        [5, 6, 7, 8, 9]])\n"
     ]
    }
   ],
   "source": [
    "# TODO print the tensor\n",
    "print(a)\n"
   ]
  },
  {
   "cell_type": "code",
   "execution_count": 8,
   "id": "312465ae",
   "metadata": {
    "execution": {
     "iopub.execute_input": "2024-05-14T05:54:32.939984Z",
     "iopub.status.busy": "2024-05-14T05:54:32.939521Z",
     "iopub.status.idle": "2024-05-14T05:54:32.944270Z",
     "shell.execute_reply": "2024-05-14T05:54:32.943464Z"
    },
    "id": "2SK56a7Rf7w1",
    "outputId": "d3551a5b-5305-4c8e-f555-7ec5fc5d4642",
    "papermill": {
     "duration": 0.029433,
     "end_time": "2024-05-14T05:54:32.946272",
     "exception": false,
     "start_time": "2024-05-14T05:54:32.916839",
     "status": "completed"
    },
    "tags": []
   },
   "outputs": [
    {
     "name": "stdout",
     "output_type": "stream",
     "text": [
      "torch.LongTensor\n",
      "torch.int64\n"
     ]
    }
   ],
   "source": [
    "# TODO print its type\n",
    "print(a.type())\n",
    "print(a.dtype)"
   ]
  },
  {
   "cell_type": "code",
   "execution_count": 9,
   "id": "71879b9c",
   "metadata": {
    "execution": {
     "iopub.execute_input": "2024-05-14T05:54:32.991890Z",
     "iopub.status.busy": "2024-05-14T05:54:32.991346Z",
     "iopub.status.idle": "2024-05-14T05:54:32.995957Z",
     "shell.execute_reply": "2024-05-14T05:54:32.994915Z"
    },
    "id": "Q4pQdKBEf-fq",
    "outputId": "d0cfcdac-5dfb-4e93-c0d1-9b8482e72444",
    "papermill": {
     "duration": 0.029034,
     "end_time": "2024-05-14T05:54:32.997798",
     "exception": false,
     "start_time": "2024-05-14T05:54:32.968764",
     "status": "completed"
    },
    "tags": []
   },
   "outputs": [
    {
     "name": "stdout",
     "output_type": "stream",
     "text": [
      "torch.Size([2, 5])\n"
     ]
    }
   ],
   "source": [
    "# TODO print its shape\n",
    "print(a.shape)"
   ]
  },
  {
   "cell_type": "code",
   "execution_count": 10,
   "id": "decc23bc",
   "metadata": {
    "execution": {
     "iopub.execute_input": "2024-05-14T05:54:33.043678Z",
     "iopub.status.busy": "2024-05-14T05:54:33.043393Z",
     "iopub.status.idle": "2024-05-14T05:54:33.047613Z",
     "shell.execute_reply": "2024-05-14T05:54:33.046685Z"
    },
    "id": "wpPKk4_jgFGK",
    "outputId": "0e62930b-761d-42e8-b84b-ceb2e45532c5",
    "papermill": {
     "duration": 0.029507,
     "end_time": "2024-05-14T05:54:33.049785",
     "exception": false,
     "start_time": "2024-05-14T05:54:33.020278",
     "status": "completed"
    },
    "tags": []
   },
   "outputs": [
    {
     "name": "stdout",
     "output_type": "stream",
     "text": [
      "torch.Size([2, 5])\n"
     ]
    }
   ],
   "source": [
    "# TODO print its size\n",
    "print(a.size())\n"
   ]
  },
  {
   "cell_type": "code",
   "execution_count": 11,
   "id": "0ce93d77",
   "metadata": {
    "execution": {
     "iopub.execute_input": "2024-05-14T05:54:33.094717Z",
     "iopub.status.busy": "2024-05-14T05:54:33.094450Z",
     "iopub.status.idle": "2024-05-14T05:54:33.100859Z",
     "shell.execute_reply": "2024-05-14T05:54:33.100016Z"
    },
    "id": "mA6fS0Bo0iWP",
    "outputId": "bffa4493-4187-473b-b201-b7ce21e33b09",
    "papermill": {
     "duration": 0.031092,
     "end_time": "2024-05-14T05:54:33.103084",
     "exception": false,
     "start_time": "2024-05-14T05:54:33.071992",
     "status": "completed"
    },
    "tags": []
   },
   "outputs": [
    {
     "name": "stdout",
     "output_type": "stream",
     "text": [
      "(2, 5)\n",
      "10\n"
     ]
    }
   ],
   "source": [
    "# TODO create a new numpy array out of the tensor and print its size\n",
    "b = a.numpy()\n",
    "print(b.shape)\n",
    "print(b.size)\n"
   ]
  },
  {
   "cell_type": "markdown",
   "id": "58550992",
   "metadata": {
    "id": "g48rvntriAwy",
    "papermill": {
     "duration": 0.022214,
     "end_time": "2024-05-14T05:54:33.147465",
     "exception": false,
     "start_time": "2024-05-14T05:54:33.125251",
     "status": "completed"
    },
    "tags": []
   },
   "source": [
    "Let's create some new tensors."
   ]
  },
  {
   "cell_type": "code",
   "execution_count": 12,
   "id": "02e96624",
   "metadata": {
    "execution": {
     "iopub.execute_input": "2024-05-14T05:54:33.193881Z",
     "iopub.status.busy": "2024-05-14T05:54:33.193520Z",
     "iopub.status.idle": "2024-05-14T05:54:33.239090Z",
     "shell.execute_reply": "2024-05-14T05:54:33.238081Z"
    },
    "id": "IbJHIVPKic65",
    "outputId": "61b870a1-05e2-495b-f582-35d937343936",
    "papermill": {
     "duration": 0.071181,
     "end_time": "2024-05-14T05:54:33.241233",
     "exception": false,
     "start_time": "2024-05-14T05:54:33.170052",
     "status": "completed"
    },
    "tags": []
   },
   "outputs": [
    {
     "name": "stdout",
     "output_type": "stream",
     "text": [
      "tensor([[1., 1., 1., 1., 1.],\n",
      "        [1., 1., 1., 1., 1.]])\n"
     ]
    }
   ],
   "source": [
    "# TODO create a tensor of shape (2,5) filled with ones of type int and print it\n",
    "myTensor = torch.ones(2,5)\n",
    "print(myTensor)\n"
   ]
  },
  {
   "cell_type": "code",
   "execution_count": 13,
   "id": "0c0fa298",
   "metadata": {
    "execution": {
     "iopub.execute_input": "2024-05-14T05:54:33.288330Z",
     "iopub.status.busy": "2024-05-14T05:54:33.287979Z",
     "iopub.status.idle": "2024-05-14T05:54:33.294962Z",
     "shell.execute_reply": "2024-05-14T05:54:33.293958Z"
    },
    "id": "3GgCNZ3ei0J7",
    "outputId": "a64a141f-7309-4235-9842-eaa8f7b7ac1e",
    "papermill": {
     "duration": 0.032149,
     "end_time": "2024-05-14T05:54:33.296831",
     "exception": false,
     "start_time": "2024-05-14T05:54:33.264682",
     "status": "completed"
    },
    "tags": []
   },
   "outputs": [
    {
     "name": "stdout",
     "output_type": "stream",
     "text": [
      "tensor([[0., 0., 0., 0.],\n",
      "        [0., 0., 0., 0.],\n",
      "        [0., 0., 0., 0.]])\n"
     ]
    }
   ],
   "source": [
    "# TODO create a tensor of shape (3,4) filled with zeros and print it\n",
    "secondTensor = torch.zeros(3,4)\n",
    "print(secondTensor)"
   ]
  },
  {
   "cell_type": "code",
   "execution_count": 14,
   "id": "e7f133ee",
   "metadata": {
    "execution": {
     "iopub.execute_input": "2024-05-14T05:54:33.343729Z",
     "iopub.status.busy": "2024-05-14T05:54:33.343448Z",
     "iopub.status.idle": "2024-05-14T05:54:33.352178Z",
     "shell.execute_reply": "2024-05-14T05:54:33.351369Z"
    },
    "id": "y_G9-xG1jJE6",
    "outputId": "5003a4d9-662a-4d40-a690-b54c65de2f3b",
    "papermill": {
     "duration": 0.034313,
     "end_time": "2024-05-14T05:54:33.353971",
     "exception": false,
     "start_time": "2024-05-14T05:54:33.319658",
     "status": "completed"
    },
    "tags": []
   },
   "outputs": [
    {
     "data": {
      "text/plain": [
       "tensor([[0, 5],\n",
       "        [1, 6],\n",
       "        [2, 7],\n",
       "        [3, 8],\n",
       "        [4, 9]])"
      ]
     },
     "execution_count": 14,
     "metadata": {},
     "output_type": "execute_result"
    }
   ],
   "source": [
    "# TODO transpose the tensor 'a'\n",
    "torch.transpose(a,0,1)\n"
   ]
  },
  {
   "cell_type": "markdown",
   "id": "d2979c4c",
   "metadata": {
    "id": "NLMyDyWHWFWc",
    "papermill": {
     "duration": 0.022278,
     "end_time": "2024-05-14T05:54:33.399376",
     "exception": false,
     "start_time": "2024-05-14T05:54:33.377098",
     "status": "completed"
    },
    "tags": []
   },
   "source": [
    "Now change a value in the numpy array. Does the corresponding tensor change?"
   ]
  },
  {
   "cell_type": "code",
   "execution_count": 15,
   "id": "d5198a42",
   "metadata": {
    "execution": {
     "iopub.execute_input": "2024-05-14T05:54:33.446004Z",
     "iopub.status.busy": "2024-05-14T05:54:33.445482Z",
     "iopub.status.idle": "2024-05-14T05:54:33.452050Z",
     "shell.execute_reply": "2024-05-14T05:54:33.451106Z"
    },
    "id": "Ufbn0kQKVU2e",
    "outputId": "644d8341-2542-4e51-cfe7-c2bfe177e9a3",
    "papermill": {
     "duration": 0.032364,
     "end_time": "2024-05-14T05:54:33.454140",
     "exception": false,
     "start_time": "2024-05-14T05:54:33.421776",
     "status": "completed"
    },
    "tags": []
   },
   "outputs": [
    {
     "name": "stdout",
     "output_type": "stream",
     "text": [
      "[[ 0  1  2  3  4]\n",
      " [ 5  6 21  8  9]]\n",
      "tensor([[ 0,  1,  2,  3,  4],\n",
      "        [ 5,  6, 21,  8,  9]])\n",
      "tensor([[ 0,  1,  2,  3,  4],\n",
      "        [ 5,  6, 31,  8,  9]])\n",
      "[[ 0  1  2  3  4]\n",
      " [ 5  6 31  8  9]]\n"
     ]
    }
   ],
   "source": [
    "# TODO change value in numpy array and inspect the tensor a\n",
    "b[1,2] = 21\n",
    "print(b)\n",
    "print(a)\n",
    "\n",
    "a[1,2] = 31\n",
    "print(a)\n",
    "print(b)\n"
   ]
  },
  {
   "cell_type": "markdown",
   "id": "27fd4709",
   "metadata": {
    "id": "4eKP3jSR0iXA",
    "papermill": {
     "duration": 0.022469,
     "end_time": "2024-05-14T05:54:33.501158",
     "exception": false,
     "start_time": "2024-05-14T05:54:33.478689",
     "status": "completed"
    },
    "tags": []
   },
   "source": [
    "**TODO Your answer here** \n",
    "\n",
    "Does it work the other way round as well?\n",
    "\n",
    "> Yes, it works the other way around also.\n"
   ]
  },
  {
   "cell_type": "markdown",
   "id": "7c096bff",
   "metadata": {
    "id": "-6n92SYfyW9_",
    "papermill": {
     "duration": 0.02241,
     "end_time": "2024-05-14T05:54:33.546268",
     "exception": false,
     "start_time": "2024-05-14T05:54:33.523858",
     "status": "completed"
    },
    "tags": []
   },
   "source": [
    "Now we want to make use of the different devices available, namely cpu and gpu."
   ]
  },
  {
   "cell_type": "code",
   "execution_count": 16,
   "id": "60d9f47c",
   "metadata": {
    "execution": {
     "iopub.execute_input": "2024-05-14T05:54:33.593032Z",
     "iopub.status.busy": "2024-05-14T05:54:33.592494Z",
     "iopub.status.idle": "2024-05-14T05:54:33.597274Z",
     "shell.execute_reply": "2024-05-14T05:54:33.596487Z"
    },
    "id": "XrFr7fLfyyCB",
    "outputId": "0faa68e0-0b6f-4097-fbe5-b56a75853647",
    "papermill": {
     "duration": 0.030184,
     "end_time": "2024-05-14T05:54:33.599142",
     "exception": false,
     "start_time": "2024-05-14T05:54:33.568958",
     "status": "completed"
    },
    "tags": []
   },
   "outputs": [
    {
     "name": "stdout",
     "output_type": "stream",
     "text": [
      "tensor([[ 0,  1,  2,  3,  4],\n",
      "        [ 5,  6, 44,  8,  9]])\n"
     ]
    }
   ],
   "source": [
    "# TODO move 'a' to the gpu\n",
    "a[1,2] = 44\n",
    "print(a)\n",
    "\n",
    "\n",
    "\n",
    "\n"
   ]
  },
  {
   "cell_type": "markdown",
   "id": "5f536079",
   "metadata": {
    "id": "kVOmKS1x0iXL",
    "papermill": {
     "duration": 0.022619,
     "end_time": "2024-05-14T05:54:33.644383",
     "exception": false,
     "start_time": "2024-05-14T05:54:33.621764",
     "status": "completed"
    },
    "tags": []
   },
   "source": [
    "If you change a value in the tensor 'a' now, does the corresponding value in the tensor on the GPU change as well?\n",
    "\n",
    "> When we change the value in the tensor 'a', there is no change in the corresponding value in the tensor on the GPU.\n"
   ]
  },
  {
   "cell_type": "code",
   "execution_count": 17,
   "id": "57d996ff",
   "metadata": {
    "execution": {
     "iopub.execute_input": "2024-05-14T05:54:33.692928Z",
     "iopub.status.busy": "2024-05-14T05:54:33.692275Z",
     "iopub.status.idle": "2024-05-14T05:54:33.841910Z",
     "shell.execute_reply": "2024-05-14T05:54:33.841009Z"
    },
    "papermill": {
     "duration": 0.176909,
     "end_time": "2024-05-14T05:54:33.844129",
     "exception": false,
     "start_time": "2024-05-14T05:54:33.667220",
     "status": "completed"
    },
    "tags": []
   },
   "outputs": [
    {
     "name": "stdout",
     "output_type": "stream",
     "text": [
      "tensor([[ 0,  1,  2,  3,  4],\n",
      "        [ 5,  6, 44,  8,  9]], device='cuda:0')\n",
      "tensor([[ 0,  1,  2,  3,  4],\n",
      "        [ 5,  6, 44,  8,  9]])\n",
      "tensor([[ 0,  1,  2,  3,  4],\n",
      "        [ 5,  6, 44,  8,  9]], device='cuda:0')\n",
      "tensor([[ 0,  1,  2,  3,  4],\n",
      "        [ 5,  6, 55,  8,  9]])\n"
     ]
    }
   ],
   "source": [
    "a_gpu = a.to(device='cuda')\n",
    "\n",
    "print(a_gpu)\n",
    "print(a)\n",
    "a[1,2] = 55\n",
    "\n",
    "print(a_gpu)\n",
    "print(a)\n",
    "\n",
    "\n",
    "\n",
    "\n"
   ]
  },
  {
   "cell_type": "markdown",
   "id": "1afe0488",
   "metadata": {
    "id": "iaSG4VtTaNu6",
    "papermill": {
     "duration": 0.023119,
     "end_time": "2024-05-14T05:54:33.890452",
     "exception": false,
     "start_time": "2024-05-14T05:54:33.867333",
     "status": "completed"
    },
    "tags": []
   },
   "source": [
    "# Machine Learning with Pytorch\n",
    "\n",
    "The process of training and evaluating a machine learning model begins with **data loading**.\n",
    "A dataset needs to be chosen on which the model should be trained.\n",
    "This data might need some preprocessing (like resizing or normalizing) of images. As Pytorch does not have in-build preprocessing for data panels we have to define our custom normalization inside a Dataset or Dataloader.\n",
    "Splitting of the data in different sets is necessary. We need a set to train on, a set to validate the training progress and a set to test the model after training.\n",
    "\n",
    "The next step is to **specify the model and its optimizer**, as well as the loss function.\n",
    "An important hyperparameter is the learning rate which influences how big the changes of the parameters should be after calculating the loss.\n",
    "\n",
    "The **model fitting** is split into training and evaluation.\n",
    "In the training process the model does a forward pass which means the data is presented to the model and the model outputs a prediction.\n",
    "The loss compares the prediction with the ground truth.\n",
    "In the backward pass the gradient with regard to the parameter is calculated and the parameter are updated by the gradient step.\n",
    "In the evaluation process the loss is computed on the entire validation set.\n",
    "This is done to see how well the model operates on data for which the params were not optimized before in order to avoid overfitting.\n",
    "The model fitting process is repeated for `N` epochs which is another hyperparameter that needs to be chosen carefully.\n",
    "\n",
    "After the training we evaluate the final model on the test set.\n",
    "\n",
    "We'll go through the individual steps in the course of this notebook using linear regression as an example.\n"
   ]
  },
  {
   "cell_type": "markdown",
   "id": "e3d6a237",
   "metadata": {
    "id": "wXtIXTEiRApP",
    "papermill": {
     "duration": 0.023115,
     "end_time": "2024-05-14T05:54:33.936877",
     "exception": false,
     "start_time": "2024-05-14T05:54:33.913762",
     "status": "completed"
    },
    "tags": []
   },
   "source": [
    "![Screenshot_2020-10-05 Slides - Files - ownCloud Enterprise Edition.png](data:image/png;base64,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)"
   ]
  },
  {
   "cell_type": "markdown",
   "id": "13653280",
   "metadata": {
    "id": "tpsJ004ud8lL",
    "papermill": {
     "duration": 0.022861,
     "end_time": "2024-05-14T05:54:33.982847",
     "exception": false,
     "start_time": "2024-05-14T05:54:33.959986",
     "status": "completed"
    },
    "tags": []
   },
   "source": [
    "## Data Loading and Preprocessing"
   ]
  },
  {
   "cell_type": "markdown",
   "id": "f77d3642",
   "metadata": {
    "id": "fvHI6P24IqZ3",
    "papermill": {
     "duration": 0.022734,
     "end_time": "2024-05-14T05:54:34.028650",
     "exception": false,
     "start_time": "2024-05-14T05:54:34.005916",
     "status": "completed"
    },
    "tags": []
   },
   "source": [
    "### Training, Validation and Test Sets\n",
    "\n",
    "For the correct fitting of a neural network model we need three dataset components: one for training, one for validation in the training process, and the last one for testing the results of the training on unseen data.\n",
    "\n",
    "Note that you should not use the test set in any part of your training and model selection procedure. It should be only used for showing the final results.  \n",
    "\n",
    "Usually, train and test datasets are already split in the provided kaggle datasets but as we work with a custom dataset, we would have to make train-test split ourselves first."
   ]
  },
  {
   "cell_type": "code",
   "execution_count": 18,
   "id": "d8ca50fc",
   "metadata": {
    "execution": {
     "iopub.execute_input": "2024-05-14T05:54:34.076354Z",
     "iopub.status.busy": "2024-05-14T05:54:34.075777Z",
     "iopub.status.idle": "2024-05-14T05:54:34.263932Z",
     "shell.execute_reply": "2024-05-14T05:54:34.263211Z"
    },
    "id": "U6maHtcbKLIr",
    "papermill": {
     "duration": 0.214565,
     "end_time": "2024-05-14T05:54:34.266179",
     "exception": false,
     "start_time": "2024-05-14T05:54:34.051614",
     "status": "completed"
    },
    "tags": []
   },
   "outputs": [],
   "source": [
    "from sklearn.model_selection import train_test_split"
   ]
  },
  {
   "cell_type": "code",
   "execution_count": 19,
   "id": "bbf1a919",
   "metadata": {
    "execution": {
     "iopub.execute_input": "2024-05-14T05:54:34.316189Z",
     "iopub.status.busy": "2024-05-14T05:54:34.315809Z",
     "iopub.status.idle": "2024-05-14T05:54:34.320050Z",
     "shell.execute_reply": "2024-05-14T05:54:34.319153Z"
    },
    "id": "_bfYzuJoKLIs",
    "papermill": {
     "duration": 0.031748,
     "end_time": "2024-05-14T05:54:34.322054",
     "exception": false,
     "start_time": "2024-05-14T05:54:34.290306",
     "status": "completed"
    },
    "tags": []
   },
   "outputs": [],
   "source": [
    "test_size = 0.2\n",
    "target_clm='critical_temp'"
   ]
  },
  {
   "cell_type": "code",
   "execution_count": 20,
   "id": "1f2fd4ad",
   "metadata": {
    "execution": {
     "iopub.execute_input": "2024-05-14T05:54:34.370260Z",
     "iopub.status.busy": "2024-05-14T05:54:34.369583Z",
     "iopub.status.idle": "2024-05-14T05:54:34.373693Z",
     "shell.execute_reply": "2024-05-14T05:54:34.372894Z"
    },
    "papermill": {
     "duration": 0.030159,
     "end_time": "2024-05-14T05:54:34.375596",
     "exception": false,
     "start_time": "2024-05-14T05:54:34.345437",
     "status": "completed"
    },
    "tags": []
   },
   "outputs": [],
   "source": [
    "torch.manual_seed(1)\n",
    "random.seed(1)"
   ]
  },
  {
   "cell_type": "code",
   "execution_count": 21,
   "id": "44cfd794",
   "metadata": {
    "execution": {
     "iopub.execute_input": "2024-05-14T05:54:34.429509Z",
     "iopub.status.busy": "2024-05-14T05:54:34.429198Z",
     "iopub.status.idle": "2024-05-14T05:54:35.037007Z",
     "shell.execute_reply": "2024-05-14T05:54:35.035764Z"
    },
    "id": "t0doVGStKLIs",
    "papermill": {
     "duration": 0.638685,
     "end_time": "2024-05-14T05:54:35.039389",
     "exception": false,
     "start_time": "2024-05-14T05:54:34.400704",
     "status": "completed"
    },
    "tags": []
   },
   "outputs": [
    {
     "name": "stdout",
     "output_type": "stream",
     "text": [
      "(21263, 82)\n",
      "(4253, 82)\n",
      "(17010, 82)\n"
     ]
    }
   ],
   "source": [
    "# TODO: load data - same as in the previous practical and make train_test_split from sklearn\n",
    "data = pd.read_csv('/kaggle/input/super-conductivity/superconduct_train.csv')\n",
    "print(data.shape)\n",
    "\n",
    "train,test = train_test_split(data,test_size = test_size, random_state = 42)\n",
    "print(test.shape)\n",
    "print(train.shape)\n",
    "\n",
    "\n"
   ]
  },
  {
   "cell_type": "markdown",
   "id": "22a0aa71",
   "metadata": {
    "id": "kA83GX4iKLIt",
    "papermill": {
     "duration": 0.023015,
     "end_time": "2024-05-14T05:54:35.088370",
     "exception": false,
     "start_time": "2024-05-14T05:54:35.065355",
     "status": "completed"
    },
    "tags": []
   },
   "source": [
    "### Dataset\n",
    "\n",
    "PyTorch has 2 entities to load data. They are **Dataset** and **Dataloader**.\n",
    "**Dataset** is a class, which defines your data and often applies data preprocessing transformations, like normalization. It should have at least 3 functions :\n",
    "* __init__ - as any other init. Usually, you would provide path to dataset here or dataset elements.\n",
    "* __len__ - should return the whole dataset size\n",
    "* __getitem__ - this function returns 1 pair of data and label, also here preprocessing transformations are usually applied\n",
    "\n",
    "\n",
    "\n",
    "For the next exercise, take a look here for an example https://stanford.edu/~shervine/blog/pytorch-how-to-generate-data-parallel"
   ]
  },
  {
   "cell_type": "code",
   "execution_count": 22,
   "id": "0e522c78",
   "metadata": {
    "execution": {
     "iopub.execute_input": "2024-05-14T05:54:35.135719Z",
     "iopub.status.busy": "2024-05-14T05:54:35.135365Z",
     "iopub.status.idle": "2024-05-14T05:54:35.143118Z",
     "shell.execute_reply": "2024-05-14T05:54:35.142267Z"
    },
    "id": "dWiu28HrKLIt",
    "papermill": {
     "duration": 0.033673,
     "end_time": "2024-05-14T05:54:35.144919",
     "exception": false,
     "start_time": "2024-05-14T05:54:35.111246",
     "status": "completed"
    },
    "tags": []
   },
   "outputs": [],
   "source": [
    "class Dataset(torch.utils.data.Dataset):\n",
    "    def __init__(self, df, target_clm, mean=None, std=None, normalise=True):\n",
    "        '''\n",
    "        TODO: save params to self attributes,\n",
    "        x is data without target column\n",
    "        y is target column\n",
    "        transform df to_numpy\n",
    "        '''\n",
    "        self.x = df.loc[:, df.columns != target_clm].values\n",
    "        self.y = df.loc[:, df.columns == target_clm].values\n",
    "        self.mean = mean\n",
    "        self.std = std\n",
    "        self.normalise = normalise\n",
    "\n",
    "    def __len__(self):\n",
    "        # TODO: return whole dataset length\n",
    "        return len(self.x)\n",
    "        \n",
    "\n",
    "    def __getitem__(self, index):\n",
    "        data = self.x[index]\n",
    "        if self.normalise and self.mean is not None and self.std is not None:\n",
    "            data = (data - self.mean) / self.std\n",
    "        return data, self.y[index]"
   ]
  },
  {
   "cell_type": "code",
   "execution_count": 23,
   "id": "959fb49d",
   "metadata": {
    "execution": {
     "iopub.execute_input": "2024-05-14T05:54:35.192354Z",
     "iopub.status.busy": "2024-05-14T05:54:35.191801Z",
     "iopub.status.idle": "2024-05-14T05:54:35.206233Z",
     "shell.execute_reply": "2024-05-14T05:54:35.205313Z"
    },
    "id": "i5j-bi2MKLIu",
    "papermill": {
     "duration": 0.040198,
     "end_time": "2024-05-14T05:54:35.208103",
     "exception": false,
     "start_time": "2024-05-14T05:54:35.167905",
     "status": "completed"
    },
    "tags": []
   },
   "outputs": [
    {
     "name": "stdout",
     "output_type": "stream",
     "text": [
      "17010\n"
     ]
    }
   ],
   "source": [
    "tmp_dataset = Dataset(train, target_clm, normalise=False)\n",
    "print(len(tmp_dataset))"
   ]
  },
  {
   "cell_type": "code",
   "execution_count": 24,
   "id": "a2482ec8",
   "metadata": {
    "execution": {
     "iopub.execute_input": "2024-05-14T05:54:35.256115Z",
     "iopub.status.busy": "2024-05-14T05:54:35.255640Z",
     "iopub.status.idle": "2024-05-14T05:54:35.269074Z",
     "shell.execute_reply": "2024-05-14T05:54:35.268210Z"
    },
    "id": "faVOe3osKLIu",
    "papermill": {
     "duration": 0.039782,
     "end_time": "2024-05-14T05:54:35.271379",
     "exception": false,
     "start_time": "2024-05-14T05:54:35.231597",
     "status": "completed"
    },
    "tags": []
   },
   "outputs": [
    {
     "name": "stdout",
     "output_type": "stream",
     "text": [
      "Mean and standard deviation of feature 1: 4.117578, 1.440019\n",
      "Mean and standard deviation of feature 2: 87.552301, 29.604234\n",
      "Mean and standard deviation of feature 3: 73.014222, 33.430778\n",
      "Mean and standard deviation of feature 4: 71.230209, 30.957687\n",
      "Mean and standard deviation of feature 5: 58.524760, 36.605988\n",
      "Mean and standard deviation of feature 6: 1.165758, 0.364926\n",
      "Mean and standard deviation of feature 7: 1.064644, 0.401294\n",
      "Mean and standard deviation of feature 8: 115.807500, 54.776063\n",
      "Mean and standard deviation of feature 9: 33.268249, 26.996236\n",
      "Mean and standard deviation of feature 10: 44.469461, 20.086841\n",
      "Mean and standard deviation of feature 11: 41.529829, 19.984937\n",
      "Mean and standard deviation of feature 12: 769.788332, 87.654958\n",
      "Mean and standard deviation of feature 13: 870.284583, 143.330249\n",
      "Mean and standard deviation of feature 14: 737.655264, 78.511134\n",
      "Mean and standard deviation of feature 15: 832.620868, 119.840642\n",
      "Mean and standard deviation of feature 16: 1.299823, 0.381679\n",
      "Mean and standard deviation of feature 17: 0.928496, 0.334500\n",
      "Mean and standard deviation of feature 18: 572.425844, 309.700181\n",
      "Mean and standard deviation of feature 19: 482.717218, 224.051863\n",
      "Mean and standard deviation of feature 20: 215.689296, 110.004716\n",
      "Mean and standard deviation of feature 21: 224.104234, 127.902372\n",
      "Mean and standard deviation of feature 22: 157.913092, 20.121978\n",
      "Mean and standard deviation of feature 23: 134.749939, 28.794449\n",
      "Mean and standard deviation of feature 24: 144.381559, 22.065175\n",
      "Mean and standard deviation of feature 25: 121.024549, 35.829863\n",
      "Mean and standard deviation of feature 26: 1.268394, 0.375229\n",
      "Mean and standard deviation of feature 27: 1.132265, 0.406791\n",
      "Mean and standard deviation of feature 28: 139.381481, 67.127960\n",
      "Mean and standard deviation of feature 29: 51.324527, 34.924974\n",
      "Mean and standard deviation of feature 30: 51.604574, 22.831390\n",
      "Mean and standard deviation of feature 31: 52.345016, 25.221639\n",
      "Mean and standard deviation of feature 32: 6108.352189, 2844.322790\n",
      "Mean and standard deviation of feature 33: 5267.152432, 3223.201903\n",
      "Mean and standard deviation of feature 34: 3448.996313, 3696.622381\n",
      "Mean and standard deviation of feature 35: 3111.100021, 3972.923756\n",
      "Mean and standard deviation of feature 36: 1.072695, 0.342550\n",
      "Mean and standard deviation of feature 37: 0.857140, 0.320629\n",
      "Mean and standard deviation of feature 38: 8674.315025, 4097.084771\n",
      "Mean and standard deviation of feature 39: 2909.420249, 2412.389429\n",
      "Mean and standard deviation of feature 40: 3420.414264, 1675.063586\n",
      "Mean and standard deviation of feature 41: 3323.931897, 1612.101013\n",
      "Mean and standard deviation of feature 42: 76.835173, 27.629492\n",
      "Mean and standard deviation of feature 43: 92.593616, 32.166027\n",
      "Mean and standard deviation of feature 44: 54.260183, 28.829547\n",
      "Mean and standard deviation of feature 45: 72.204892, 31.507402\n",
      "Mean and standard deviation of feature 46: 1.070712, 0.343885\n",
      "Mean and standard deviation of feature 47: 0.771730, 0.286488\n",
      "Mean and standard deviation of feature 48: 120.792337, 58.619701\n",
      "Mean and standard deviation of feature 49: 59.234052, 28.491498\n",
      "Mean and standard deviation of feature 50: 48.951943, 21.737734\n",
      "Mean and standard deviation of feature 51: 44.491604, 20.407161\n",
      "Mean and standard deviation of feature 52: 14.245554, 11.242278\n",
      "Mean and standard deviation of feature 53: 13.796795, 14.167176\n",
      "Mean and standard deviation of feature 54: 10.105639, 10.047013\n",
      "Mean and standard deviation of feature 55: 10.098392, 13.045190\n",
      "Mean and standard deviation of feature 56: 1.094062, 0.375547\n",
      "Mean and standard deviation of feature 57: 0.915694, 0.370419\n",
      "Mean and standard deviation of feature 58: 21.066041, 20.198594\n",
      "Mean and standard deviation of feature 59: 8.176963, 11.275375\n",
      "Mean and standard deviation of feature 60: 8.291888, 8.592970\n",
      "Mean and standard deviation of feature 61: 7.702267, 7.249077\n",
      "Mean and standard deviation of feature 62: 89.708281, 38.374958\n",
      "Mean and standard deviation of feature 63: 81.493023, 45.155658\n",
      "Mean and standard deviation of feature 64: 29.670058, 33.663517\n",
      "Mean and standard deviation of feature 65: 27.154766, 39.613805\n",
      "Mean and standard deviation of feature 66: 0.727601, 0.325187\n",
      "Mean and standard deviation of feature 67: 0.540876, 0.317626\n",
      "Mean and standard deviation of feature 68: 251.343450, 158.813571\n",
      "Mean and standard deviation of feature 69: 61.980254, 42.695947\n",
      "Mean and standard deviation of feature 70: 99.103676, 60.178657\n",
      "Mean and standard deviation of feature 71: 96.336754, 63.673177\n",
      "Mean and standard deviation of feature 72: 3.197736, 1.042982\n",
      "Mean and standard deviation of feature 73: 3.152422, 1.190219\n",
      "Mean and standard deviation of feature 74: 3.055893, 1.044167\n",
      "Mean and standard deviation of feature 75: 3.054759, 1.173215\n",
      "Mean and standard deviation of feature 76: 1.296302, 0.392739\n",
      "Mean and standard deviation of feature 77: 1.054448, 0.380426\n",
      "Mean and standard deviation of feature 78: 2.043621, 1.240641\n",
      "Mean and standard deviation of feature 79: 1.480827, 0.977333\n",
      "Mean and standard deviation of feature 80: 0.840799, 0.484309\n",
      "Mean and standard deviation of feature 81: 0.676599, 0.455831\n"
     ]
    }
   ],
   "source": [
    "# TODO calculate the mean and standard deviation of the train dataset\n",
    "train_mean = np.mean(tmp_dataset.x,axis = 0)\n",
    "train_std_deviation = np.std(tmp_dataset.x,axis=0)\n",
    "for i in range(len(train_mean)):\n",
    "    print(\"Mean and standard deviation of feature %d: %f, %f\"%(i+1,train_mean[i],train_std_deviation[i]))\n"
   ]
  },
  {
   "cell_type": "code",
   "execution_count": 25,
   "id": "e1ca11f2",
   "metadata": {
    "execution": {
     "iopub.execute_input": "2024-05-14T05:54:35.321855Z",
     "iopub.status.busy": "2024-05-14T05:54:35.321566Z",
     "iopub.status.idle": "2024-05-14T05:54:35.335327Z",
     "shell.execute_reply": "2024-05-14T05:54:35.334165Z"
    },
    "id": "JQadqHvEKLIu",
    "papermill": {
     "duration": 0.040501,
     "end_time": "2024-05-14T05:54:35.337185",
     "exception": false,
     "start_time": "2024-05-14T05:54:35.296684",
     "status": "completed"
    },
    "tags": []
   },
   "outputs": [
    {
     "name": "stdout",
     "output_type": "stream",
     "text": [
      "[4.11757790e+00 8.75523005e+01 7.30142221e+01 7.12302088e+01\n",
      " 5.85247603e+01 1.16575787e+00 1.06464388e+00 1.15807500e+02\n",
      " 3.32682487e+01 4.44694609e+01 4.15298287e+01 7.69788332e+02\n",
      " 8.70284583e+02 7.37655264e+02 8.32620868e+02 1.29982324e+00\n",
      " 9.28495511e-01 5.72425844e+02 4.82717218e+02 2.15689296e+02\n",
      " 2.24104234e+02 1.57913092e+02 1.34749939e+02 1.44381559e+02\n",
      " 1.21024549e+02 1.26839402e+00 1.13226504e+00 1.39381481e+02\n",
      " 5.13245274e+01 5.16045745e+01 5.23450162e+01 6.10835219e+03\n",
      " 5.26715243e+03 3.44899631e+03 3.11110002e+03 1.07269458e+00\n",
      " 8.57139890e-01 8.67431503e+03 2.90942025e+03 3.42041426e+03\n",
      " 3.32393190e+03 7.68351735e+01 9.25936162e+01 5.42601826e+01\n",
      " 7.22048922e+01 1.07071156e+00 7.71729564e-01 1.20792337e+02\n",
      " 5.92340515e+01 4.89519425e+01 4.44916042e+01 1.42455537e+01\n",
      " 1.37967946e+01 1.01056386e+01 1.00983917e+01 1.09406172e+00\n",
      " 9.15693613e-01 2.10660408e+01 8.17696259e+00 8.29188817e+00\n",
      " 7.70226694e+00 8.97082808e+01 8.14930231e+01 2.96700577e+01\n",
      " 2.71547665e+01 7.27601397e-01 5.40876363e-01 2.51343450e+02\n",
      " 6.19802544e+01 9.91036755e+01 9.63367539e+01 3.19773611e+00\n",
      " 3.15242218e+00 3.05589311e+00 3.05475892e+00 1.29630199e+00\n",
      " 1.05444833e+00 2.04362140e+00 1.48082657e+00 8.40798902e-01\n",
      " 6.76598865e-01]\n"
     ]
    }
   ],
   "source": [
    "# TODO define new datasets with mean, std and normalise=True\n",
    "conductor_train = Dataset(train,target_clm, mean = train_mean, std = train_std_deviation, normalise = True)\n",
    "conductor_test = Dataset(test, target_clm, mean = train_mean, std = train_std_deviation, normalise = True)\n",
    "print(conductor_train.mean)\n",
    "\n",
    "\n"
   ]
  },
  {
   "cell_type": "markdown",
   "id": "68f0eb9f",
   "metadata": {
    "id": "kgBH3RfQUuz6",
    "papermill": {
     "duration": 0.023947,
     "end_time": "2024-05-14T05:54:35.385103",
     "exception": false,
     "start_time": "2024-05-14T05:54:35.361156",
     "status": "completed"
    },
    "tags": []
   },
   "source": [
    "We need to **split** the train dataset in two sets, one for training and one for validation.\n",
    "While the training set needs to be quite large, the validation set can be relatively small.\n",
    "Take 10 % of the dataset as validation set.\n",
    "Assign samples *randomly* to the training and validation set, using a fixed seed to ensure that train and test splits are same across different model runs.\n",
    "\n",
    "In fact, the good practice is to fix a global random seed not only the generator seed for even better reproducibility with `torch.manual_seed(0)`.\n",
    "Machine learning models often involve random initialization of weights, augmentations, dropout layers, and other stochastic processes. Without fixing the random seed, each run of the model may produce slightly different results, making it challenging to reproduce specific results or debug issues."
   ]
  },
  {
   "cell_type": "code",
   "execution_count": 26,
   "id": "66e80be1",
   "metadata": {
    "execution": {
     "iopub.execute_input": "2024-05-14T05:54:35.434207Z",
     "iopub.status.busy": "2024-05-14T05:54:35.433922Z",
     "iopub.status.idle": "2024-05-14T05:54:35.508576Z",
     "shell.execute_reply": "2024-05-14T05:54:35.507490Z"
    },
    "id": "Xwqh4EZBKLIu",
    "papermill": {
     "duration": 0.101311,
     "end_time": "2024-05-14T05:54:35.510616",
     "exception": false,
     "start_time": "2024-05-14T05:54:35.409305",
     "status": "completed"
    },
    "tags": []
   },
   "outputs": [
    {
     "name": "stdout",
     "output_type": "stream",
     "text": [
      "15309\n",
      "1701\n",
      "17010\n"
     ]
    }
   ],
   "source": [
    "# TODO split the train dataset in conductor_train and conductor_val\n",
    "#torch.manual_seed(0)\n",
    "conductor_train, conductor_val = train_test_split(conductor_train, test_size=0.1, random_state=42)\n",
    "print(len(conductor_train))\n",
    "print(len(conductor_val))\n",
    "print(len(conductor_train)+len(conductor_val))\n",
    "\n"
   ]
  },
  {
   "cell_type": "code",
   "execution_count": 27,
   "id": "637b04bb",
   "metadata": {
    "execution": {
     "iopub.execute_input": "2024-05-14T05:54:35.560906Z",
     "iopub.status.busy": "2024-05-14T05:54:35.560614Z",
     "iopub.status.idle": "2024-05-14T05:54:35.565385Z",
     "shell.execute_reply": "2024-05-14T05:54:35.564704Z"
    },
    "id": "Z-8kQnghANgs",
    "papermill": {
     "duration": 0.031538,
     "end_time": "2024-05-14T05:54:35.567189",
     "exception": false,
     "start_time": "2024-05-14T05:54:35.535651",
     "status": "completed"
    },
    "tags": []
   },
   "outputs": [],
   "source": [
    "batch_size = 256"
   ]
  },
  {
   "cell_type": "markdown",
   "id": "91623830",
   "metadata": {
    "id": "B6LDumpJUw-x",
    "papermill": {
     "duration": 0.023947,
     "end_time": "2024-05-14T05:54:35.614837",
     "exception": false,
     "start_time": "2024-05-14T05:54:35.590890",
     "status": "completed"
    },
    "tags": []
   },
   "source": [
    "To load the data for model training, we need to define the **dataloaders**.\n",
    "A dataloader represents a Python iterable over a dataset and draws mini batches with random samples.\n",
    "**Dataloader** calls \\_\\_getitem__ function from the Dataset and forms the batches.\n",
    "\n",
    "\n",
    "Use the batch size as specified above.\n",
    "Make sure we get shuffled samples in batches."
   ]
  },
  {
   "cell_type": "code",
   "execution_count": 28,
   "id": "e8af8b9a",
   "metadata": {
    "execution": {
     "iopub.execute_input": "2024-05-14T05:54:35.663806Z",
     "iopub.status.busy": "2024-05-14T05:54:35.663529Z",
     "iopub.status.idle": "2024-05-14T05:54:35.668283Z",
     "shell.execute_reply": "2024-05-14T05:54:35.667460Z"
    },
    "id": "6wOV2iQYKA4Y",
    "papermill": {
     "duration": 0.031364,
     "end_time": "2024-05-14T05:54:35.670110",
     "exception": false,
     "start_time": "2024-05-14T05:54:35.638746",
     "status": "completed"
    },
    "tags": []
   },
   "outputs": [],
   "source": [
    "# TODO create dataloader for training, validation and test\n",
    "train_dataloader = DataLoader(conductor_train, batch_size = batch_size, shuffle = True)\n",
    "val_dataloader =  DataLoader(conductor_val, batch_size = batch_size, shuffle = True)\n",
    "test_dataloader =  DataLoader(conductor_test, batch_size = batch_size, shuffle = True)"
   ]
  },
  {
   "cell_type": "markdown",
   "id": "84dfdc56",
   "metadata": {
    "id": "_kD_tfv7EhBV",
    "papermill": {
     "duration": 0.023691,
     "end_time": "2024-05-14T05:54:35.718613",
     "exception": false,
     "start_time": "2024-05-14T05:54:35.694922",
     "status": "completed"
    },
    "tags": []
   },
   "source": [
    "Let's get a data point now to see what we're dealing with.\n",
    "\n",
    "For this, you might want to check out how python's iterator protocol works. It's simple and will give you an important insight into python: https://wiki.python.org/moin/Iterator."
   ]
  },
  {
   "cell_type": "code",
   "execution_count": 29,
   "id": "cf3d43a5",
   "metadata": {
    "execution": {
     "iopub.execute_input": "2024-05-14T05:54:35.767324Z",
     "iopub.status.busy": "2024-05-14T05:54:35.767041Z",
     "iopub.status.idle": "2024-05-14T05:54:35.783667Z",
     "shell.execute_reply": "2024-05-14T05:54:35.782676Z"
    },
    "id": "bROYEcbCEjpB",
    "papermill": {
     "duration": 0.042913,
     "end_time": "2024-05-14T05:54:35.785574",
     "exception": false,
     "start_time": "2024-05-14T05:54:35.742661",
     "status": "completed"
    },
    "tags": []
   },
   "outputs": [
    {
     "name": "stdout",
     "output_type": "stream",
     "text": [
      "tensor([[-0.0817,  0.0921, -0.5238,  ..., -0.6494, -0.8420, -0.8997],\n",
      "        [-0.7761, -0.3311, -0.0887,  ...,  2.2628,  0.2106,  0.6204],\n",
      "        [ 1.3072,  0.5151,  0.8456,  ..., -0.3129,  0.5724,  1.3655],\n",
      "        ...,\n",
      "        [-1.4705,  0.6167,  0.9459,  ..., -0.5850, -0.7037, -0.3920],\n",
      "        [ 2.6961,  0.9610,  0.4911,  ..., -0.7089,  0.5140,  1.0034],\n",
      "        [-0.0817, -1.9137, -1.2598,  ..., -1.2594, -0.7037, -0.3874]])\n"
     ]
    }
   ],
   "source": [
    "# TODO get an element of the train_dataloader\n",
    "\n",
    "data_point = iter(train_dataloader)\n",
    "print(next(data_point)[0])\n",
    "\n"
   ]
  },
  {
   "cell_type": "code",
   "execution_count": 30,
   "id": "5261ab93",
   "metadata": {
    "execution": {
     "iopub.execute_input": "2024-05-14T05:54:35.834972Z",
     "iopub.status.busy": "2024-05-14T05:54:35.834684Z",
     "iopub.status.idle": "2024-05-14T05:54:35.846133Z",
     "shell.execute_reply": "2024-05-14T05:54:35.845347Z"
    },
    "id": "YJwRzi_MHfyV",
    "outputId": "b71aeb04-30de-4b12-c369-73805a879423",
    "papermill": {
     "duration": 0.038298,
     "end_time": "2024-05-14T05:54:35.847932",
     "exception": false,
     "start_time": "2024-05-14T05:54:35.809634",
     "status": "completed"
    },
    "tags": []
   },
   "outputs": [
    {
     "name": "stdout",
     "output_type": "stream",
     "text": [
      "torch.Size([256, 81])\n",
      "torch.Size([256, 1])\n"
     ]
    }
   ],
   "source": [
    "# TODO print the dimensions of for elements from the previous step\n",
    "print(next(data_point)[0].shape)\n",
    "print(next(data_point)[1].shape)"
   ]
  },
  {
   "cell_type": "markdown",
   "id": "21f8d090",
   "metadata": {
    "id": "P4VmDBNvCmkp",
    "papermill": {
     "duration": 0.024371,
     "end_time": "2024-05-14T05:54:35.896468",
     "exception": false,
     "start_time": "2024-05-14T05:54:35.872097",
     "status": "completed"
    },
    "tags": []
   },
   "source": [
    "x has size (\\[batchsize\\], 81) --> 256 elements/batches (or whatever you have defined in your data loader), 81 feature values.\n",
    "\n",
    "y has size (\\[batchsize\\], 1) --> 256 elements/batches (again depends on your data loader config). There's one target value for each set of the features."
   ]
  },
  {
   "cell_type": "markdown",
   "id": "90fbb6f8",
   "metadata": {
    "id": "W0Pa_bWEjqDf",
    "papermill": {
     "duration": 0.024193,
     "end_time": "2024-05-14T05:54:35.944715",
     "exception": false,
     "start_time": "2024-05-14T05:54:35.920522",
     "status": "completed"
    },
    "tags": []
   },
   "source": [
    "## Specify Model & Optimizer"
   ]
  },
  {
   "cell_type": "markdown",
   "id": "40f83a00",
   "metadata": {
    "id": "EasgugDjSSrt",
    "papermill": {
     "duration": 0.02386,
     "end_time": "2024-05-14T05:54:35.992748",
     "exception": false,
     "start_time": "2024-05-14T05:54:35.968888",
     "status": "completed"
    },
    "tags": []
   },
   "source": [
    "### Specify a Model\n",
    "\n",
    "The task is now to define a model to train on the data. In this simple example, we only need **one fully-connected layer** as defined in *torch.nn.Linear* that produces a predicted label for a specific training input row.\n",
    "\n",
    "Before, we set some variables:\n",
    "- the input and output size of the linear layer\n",
    "- how long we want to train the model (number of epochs) and\n",
    "- the learning rate.\n"
   ]
  },
  {
   "cell_type": "code",
   "execution_count": 31,
   "id": "c4ecc72b",
   "metadata": {
    "execution": {
     "iopub.execute_input": "2024-05-14T05:54:36.044402Z",
     "iopub.status.busy": "2024-05-14T05:54:36.043861Z",
     "iopub.status.idle": "2024-05-14T05:54:36.047959Z",
     "shell.execute_reply": "2024-05-14T05:54:36.047098Z"
    },
    "id": "ZUq3zcWgMVwD",
    "papermill": {
     "duration": 0.031392,
     "end_time": "2024-05-14T05:54:36.049777",
     "exception": false,
     "start_time": "2024-05-14T05:54:36.018385",
     "status": "completed"
    },
    "tags": []
   },
   "outputs": [],
   "source": [
    "epochs = 15\n",
    "input_dim = 81\n",
    "output_dim = 1\n",
    "lr = 0.001"
   ]
  },
  {
   "cell_type": "code",
   "execution_count": 32,
   "id": "0063f6bd",
   "metadata": {
    "execution": {
     "iopub.execute_input": "2024-05-14T05:54:36.100677Z",
     "iopub.status.busy": "2024-05-14T05:54:36.099985Z",
     "iopub.status.idle": "2024-05-14T05:54:36.106353Z",
     "shell.execute_reply": "2024-05-14T05:54:36.105549Z"
    },
    "id": "FBQhYDR1MDUr",
    "papermill": {
     "duration": 0.033563,
     "end_time": "2024-05-14T05:54:36.108363",
     "exception": false,
     "start_time": "2024-05-14T05:54:36.074800",
     "status": "completed"
    },
    "tags": []
   },
   "outputs": [],
   "source": [
    "class LinearRegression(torch.nn.Module):\n",
    "    \"\"\"\n",
    "    Linear regression model inherits the torch.nn.Module\n",
    "    which is the base class for all neural network modules.\n",
    "    \"\"\"\n",
    "    def __init__(self, input_dim, output_dim):\n",
    "        \"\"\" Initializes internal Module state. \"\"\"\n",
    "        super(LinearRegression, self).__init__()\n",
    "        # TODO define linear layer for the model\n",
    "        self.linear = torch.nn.Linear(input_dim, output_dim)\n",
    "\n",
    "\n",
    "    def forward(self, x):\n",
    "        \"\"\" Defines the computation performed at every call. \"\"\"\n",
    "        # What are the dimensions of your input layer?\n",
    "        # TODO flatten the input to a suitable size for the initial layer\n",
    "        x = x.reshape(-1, 81)\n",
    "        # TODO run the data through the layer\n",
    "        outputs = self.linear(x)\n",
    "        return outputs"
   ]
  },
  {
   "cell_type": "markdown",
   "id": "6cb92b1a",
   "metadata": {
    "id": "NhtEaHPxw3Hu",
    "papermill": {
     "duration": 0.024153,
     "end_time": "2024-05-14T05:54:36.157024",
     "exception": false,
     "start_time": "2024-05-14T05:54:36.132871",
     "status": "completed"
    },
    "tags": []
   },
   "source": [
    "### Instantiate the Model\n",
    "\n",
    "Let us instantiate the model and take a look at the inside. It is always a good idea to verify that the actual architecture is what you intended it to be. Especially, when you start to create layers dynamically it is great for inspection/verification/debugging."
   ]
  },
  {
   "cell_type": "code",
   "execution_count": 33,
   "id": "e234abab",
   "metadata": {
    "execution": {
     "iopub.execute_input": "2024-05-14T05:54:36.206795Z",
     "iopub.status.busy": "2024-05-14T05:54:36.206250Z",
     "iopub.status.idle": "2024-05-14T05:54:36.211949Z",
     "shell.execute_reply": "2024-05-14T05:54:36.211246Z"
    },
    "id": "9h8Zg06BOkft",
    "papermill": {
     "duration": 0.032643,
     "end_time": "2024-05-14T05:54:36.213795",
     "exception": false,
     "start_time": "2024-05-14T05:54:36.181152",
     "status": "completed"
    },
    "tags": []
   },
   "outputs": [],
   "source": [
    "# TODO instantiate the model\n",
    "model = LinearRegression(input_dim, output_dim)"
   ]
  },
  {
   "cell_type": "markdown",
   "id": "8f0f4d3d",
   "metadata": {
    "id": "TGLn5kqx0Nzb",
    "papermill": {
     "duration": 0.024467,
     "end_time": "2024-05-14T05:54:36.262763",
     "exception": false,
     "start_time": "2024-05-14T05:54:36.238296",
     "status": "completed"
    },
    "tags": []
   },
   "source": [
    "Feed the model to the GPU if available."
   ]
  },
  {
   "cell_type": "code",
   "execution_count": 34,
   "id": "5d7464de",
   "metadata": {
    "execution": {
     "iopub.execute_input": "2024-05-14T05:54:36.313133Z",
     "iopub.status.busy": "2024-05-14T05:54:36.312458Z",
     "iopub.status.idle": "2024-05-14T05:54:36.319623Z",
     "shell.execute_reply": "2024-05-14T05:54:36.318823Z"
    },
    "id": "MhOt6uzU0UBb",
    "outputId": "fc59b555-ea8d-48c2-ac3d-0185c7b3e3a5",
    "papermill": {
     "duration": 0.034546,
     "end_time": "2024-05-14T05:54:36.321562",
     "exception": false,
     "start_time": "2024-05-14T05:54:36.287016",
     "status": "completed"
    },
    "tags": []
   },
   "outputs": [
    {
     "data": {
      "text/plain": [
       "LinearRegression(\n",
       "  (linear): Linear(in_features=81, out_features=1, bias=True)\n",
       ")"
      ]
     },
     "execution_count": 34,
     "metadata": {},
     "output_type": "execute_result"
    }
   ],
   "source": [
    "# TODO move model to device you specified above\n",
    "model.to(device)\n",
    "\n"
   ]
  },
  {
   "cell_type": "markdown",
   "id": "c5c41da2",
   "metadata": {
    "id": "TdVAcmh-A27Q",
    "papermill": {
     "duration": 0.024957,
     "end_time": "2024-05-14T05:54:36.370895",
     "exception": false,
     "start_time": "2024-05-14T05:54:36.345938",
     "status": "completed"
    },
    "tags": []
   },
   "source": [
    "Put the model in training mode."
   ]
  },
  {
   "cell_type": "code",
   "execution_count": 35,
   "id": "f8705a73",
   "metadata": {
    "execution": {
     "iopub.execute_input": "2024-05-14T05:54:36.422589Z",
     "iopub.status.busy": "2024-05-14T05:54:36.422093Z",
     "iopub.status.idle": "2024-05-14T05:54:36.427376Z",
     "shell.execute_reply": "2024-05-14T05:54:36.426603Z"
    },
    "id": "RfWmXXNCA6sp",
    "outputId": "2f7d8d4e-41d8-42a3-c924-2d1821fa0d37",
    "papermill": {
     "duration": 0.033648,
     "end_time": "2024-05-14T05:54:36.429293",
     "exception": false,
     "start_time": "2024-05-14T05:54:36.395645",
     "status": "completed"
    },
    "tags": []
   },
   "outputs": [
    {
     "data": {
      "text/plain": [
       "LinearRegression(\n",
       "  (linear): Linear(in_features=81, out_features=1, bias=True)\n",
       ")"
      ]
     },
     "execution_count": 35,
     "metadata": {},
     "output_type": "execute_result"
    }
   ],
   "source": [
    "# TODO put the model in train mode\n",
    "model.train()"
   ]
  },
  {
   "cell_type": "markdown",
   "id": "5bacea6c",
   "metadata": {
    "id": "M9zCHNoVxM46",
    "papermill": {
     "duration": 0.024985,
     "end_time": "2024-05-14T05:54:36.479845",
     "exception": false,
     "start_time": "2024-05-14T05:54:36.454860",
     "status": "completed"
    },
    "tags": []
   },
   "source": [
    "### Define a Loss Function\n",
    "\n",
    "Since we're dealing with regression problem, [MSELoss](https://pytorch.org/docs/stable/generated/torch.nn.MSELoss.html) is the canonical choice for the loss."
   ]
  },
  {
   "cell_type": "code",
   "execution_count": 36,
   "id": "896e0483",
   "metadata": {
    "execution": {
     "iopub.execute_input": "2024-05-14T05:54:36.530374Z",
     "iopub.status.busy": "2024-05-14T05:54:36.530131Z",
     "iopub.status.idle": "2024-05-14T05:54:36.533922Z",
     "shell.execute_reply": "2024-05-14T05:54:36.533115Z"
    },
    "id": "NDUHKbO3OmWU",
    "papermill": {
     "duration": 0.031155,
     "end_time": "2024-05-14T05:54:36.535971",
     "exception": false,
     "start_time": "2024-05-14T05:54:36.504816",
     "status": "completed"
    },
    "tags": []
   },
   "outputs": [],
   "source": [
    "# TODO define the loss function\n",
    "loss_function = torch.nn.MSELoss()\n",
    "\n"
   ]
  },
  {
   "cell_type": "markdown",
   "id": "85cf85ae",
   "metadata": {
    "id": "tHTc6mF_kXfF",
    "papermill": {
     "duration": 0.024557,
     "end_time": "2024-05-14T05:54:36.585674",
     "exception": false,
     "start_time": "2024-05-14T05:54:36.561117",
     "status": "completed"
    },
    "tags": []
   },
   "source": [
    "## Model Fitting"
   ]
  },
  {
   "cell_type": "markdown",
   "id": "64f7c31d",
   "metadata": {
    "id": "tli1No3uUPU7",
    "papermill": {
     "duration": 0.024987,
     "end_time": "2024-05-14T05:54:36.635963",
     "exception": false,
     "start_time": "2024-05-14T05:54:36.610976",
     "status": "completed"
    },
    "tags": []
   },
   "source": [
    "### Train the Model\n",
    "\n",
    "Everything is set for the model to train!\n",
    "\n",
    "- In the forward pass, the prediction is made using the previously defined model on the elements of the dataloader.\n",
    "- Then the loss (or error) needs to be computed by comparing the prediction to the actual label.\n",
    "- In the backward pass, the model learns and updates its weights based on the current gradient."
   ]
  },
  {
   "cell_type": "markdown",
   "id": "a7671374",
   "metadata": {
    "id": "btC1kFmTKLIw",
    "papermill": {
     "duration": 0.025394,
     "end_time": "2024-05-14T05:54:36.685973",
     "exception": false,
     "start_time": "2024-05-14T05:54:36.660579",
     "status": "completed"
    },
    "tags": []
   },
   "source": [
    "### First, let's do all of the steps manually, without using the optimizer\n",
    "\n",
    "**Hints:**\n",
    "* define number of epochs to see the dynamic. You need to see the effect over several epochs but it should no be too long. \n",
    "* use learning rate defined above as `lr`\n",
    "* when doing parameters update - do it under `with torch.no_grad():`. This would disable the gradient computation for the operations under it. And we don't need gradients for updating the weights step.\n",
    "* you need to update the model parameters. See [here](https://pytorch.org/tutorials/beginner/introyt/modelsyt_tutorial.html) for more details on how to access them\n",
    "* don't forget to track the learning (loss)"
   ]
  },
  {
   "cell_type": "code",
   "execution_count": 37,
   "id": "cc856e22",
   "metadata": {
    "execution": {
     "iopub.execute_input": "2024-05-14T05:54:36.736466Z",
     "iopub.status.busy": "2024-05-14T05:54:36.736169Z",
     "iopub.status.idle": "2024-05-14T05:54:39.537383Z",
     "shell.execute_reply": "2024-05-14T05:54:39.536465Z"
    },
    "id": "RY4uSVtOKLIw",
    "outputId": "03348960-66d6-4960-d39d-34cb25ed59b0",
    "papermill": {
     "duration": 2.828518,
     "end_time": "2024-05-14T05:54:39.539315",
     "exception": false,
     "start_time": "2024-05-14T05:54:36.710797",
     "status": "completed"
    },
    "tags": []
   },
   "outputs": [
    {
     "name": "stdout",
     "output_type": "stream",
     "text": [
      "Epoch [1/15], Loss: 1722.9371988814096\n",
      "Epoch [2/15], Loss: 1349.0449658714986\n",
      "Epoch [3/15], Loss: 1142.138120225803\n",
      "Epoch [4/15], Loss: 986.3563289008675\n",
      "Epoch [5/15], Loss: 866.5110083728829\n",
      "Epoch [6/15], Loss: 771.9780087500673\n",
      "Epoch [7/15], Loss: 696.9276566792412\n",
      "Epoch [8/15], Loss: 637.664767544582\n",
      "Epoch [9/15], Loss: 590.9328585652377\n",
      "Epoch [10/15], Loss: 553.1621371368452\n",
      "Epoch [11/15], Loss: 522.7151693571311\n",
      "Epoch [12/15], Loss: 498.74645798598794\n",
      "Epoch [13/15], Loss: 479.2321762457006\n",
      "Epoch [14/15], Loss: 464.1059363990117\n",
      "Epoch [15/15], Loss: 450.3927738894633\n"
     ]
    }
   ],
   "source": [
    "## TODO do a simple for-loop to illustrate how the gradient update if done over batches. \n",
    "## Print loss values across epochs to compare with the PyTorch optimizers later\n",
    "for epoch in range(epochs):\n",
    "    epoch_loss = 0.0\n",
    "    for inputs, labels in train_dataloader:\n",
    "        inputs, labels = inputs.to(device), labels.to(device)\n",
    "        model.zero_grad()\n",
    "        outputs = model(inputs)\n",
    "        \n",
    "        loss = loss_function(outputs,labels)\n",
    "        epoch_loss +=loss.item()\n",
    "        \n",
    "        loss.backward()\n",
    "        \n",
    "        with torch.no_grad():\n",
    "            for param in model.parameters():\n",
    "                param -= lr * param.grad\n",
    "    print(f\"Epoch [{epoch+1}/{epochs}], Loss: {epoch_loss / len(train_dataloader)}\")\n",
    "        \n",
    "    \n"
   ]
  },
  {
   "cell_type": "markdown",
   "id": "53be50d3",
   "metadata": {
    "id": "ObiUpD_0KLIw",
    "papermill": {
     "duration": 0.026398,
     "end_time": "2024-05-14T05:54:39.592485",
     "exception": false,
     "start_time": "2024-05-14T05:54:39.566087",
     "status": "completed"
    },
    "tags": []
   },
   "source": [
    "This was equivalent to SGD optimizer"
   ]
  },
  {
   "cell_type": "markdown",
   "id": "fad31a24",
   "metadata": {
    "id": "BdY9BmEaKLIx",
    "papermill": {
     "duration": 0.02556,
     "end_time": "2024-05-14T05:54:39.643621",
     "exception": false,
     "start_time": "2024-05-14T05:54:39.618061",
     "status": "completed"
    },
    "tags": []
   },
   "source": [
    "### Now let's do it in the pytorch style using the optimizer  \n",
    "\n",
    "The optimizer is the learning algorithm we use. In this case, we use Stochastic Gradient Descent (SGD).\n",
    "Redefine the model and initialize SGD optimizer"
   ]
  },
  {
   "cell_type": "code",
   "execution_count": 38,
   "id": "4a0a3d6d",
   "metadata": {
    "execution": {
     "iopub.execute_input": "2024-05-14T05:54:39.697264Z",
     "iopub.status.busy": "2024-05-14T05:54:39.696946Z",
     "iopub.status.idle": "2024-05-14T05:54:42.370896Z",
     "shell.execute_reply": "2024-05-14T05:54:42.369895Z"
    },
    "id": "2XKR1GPOOy3b",
    "papermill": {
     "duration": 2.703794,
     "end_time": "2024-05-14T05:54:42.373181",
     "exception": false,
     "start_time": "2024-05-14T05:54:39.669387",
     "status": "completed"
    },
    "tags": []
   },
   "outputs": [
    {
     "name": "stdout",
     "output_type": "stream",
     "text": [
      "Epoch [1/15], Loss: 440.0002412425461\n",
      "Epoch [2/15], Loss: 431.08223919081115\n",
      "Epoch [3/15], Loss: 423.89379720263\n",
      "Epoch [4/15], Loss: 417.8269752513276\n",
      "Epoch [5/15], Loss: 412.435368966033\n",
      "Epoch [6/15], Loss: 408.1470011113553\n",
      "Epoch [7/15], Loss: 404.31396827471923\n",
      "Epoch [8/15], Loss: 401.11447783973273\n",
      "Epoch [9/15], Loss: 398.12696705663296\n",
      "Epoch [10/15], Loss: 395.5581652412019\n",
      "Epoch [11/15], Loss: 393.2167050848783\n",
      "Epoch [12/15], Loss: 391.0381889870967\n",
      "Epoch [13/15], Loss: 389.41320868514134\n",
      "Epoch [14/15], Loss: 387.90765747715153\n",
      "Epoch [15/15], Loss: 385.87275909906595\n"
     ]
    }
   ],
   "source": [
    "# TODO Redefine the model and initialize SGD optimizer, write a train loop as above and compare the loss values\n",
    "optimizer = torch.optim.SGD(model.parameters(), lr = lr)\n",
    "for epoch in range(epochs):\n",
    "    epoch_loss  = 0.0\n",
    "    for inputs,labels in train_dataloader:\n",
    "        inputs, labels = inputs.to(device), labels.to(device)\n",
    "        optimizer.zero_grad()\n",
    "        outputs = model(inputs)\n",
    "        \n",
    "        loss = loss_function(outputs,labels)\n",
    "        loss.backward()\n",
    "        \n",
    "        optimizer.step()\n",
    "        \n",
    "        epoch_loss += loss.item()\n",
    "    print(f\"Epoch [{epoch+1}/{epochs}], Loss: {epoch_loss / len(train_dataloader)}\")\n",
    "    \n",
    "          \n",
    "        "
   ]
  },
  {
   "cell_type": "markdown",
   "id": "f8d1009d",
   "metadata": {
    "id": "swruGhCBUMWx",
    "papermill": {
     "duration": 0.026906,
     "end_time": "2024-05-14T05:54:42.428282",
     "exception": false,
     "start_time": "2024-05-14T05:54:42.401376",
     "status": "completed"
    },
    "tags": []
   },
   "source": [
    "### Make a Prediction\n",
    "\n",
    "Now that our model is trained, we can make a new prediction by inputting an unseen data row from the test dataset.\n",
    "\n",
    "Run this cell several times, does the model predict accurately?\n",
    "\n",
    "Set the number of epochs to 15 during training and try again!"
   ]
  },
  {
   "cell_type": "markdown",
   "id": "8f60c9bf",
   "metadata": {
    "id": "xkR1ckMB7MJd",
    "papermill": {
     "duration": 0.026052,
     "end_time": "2024-05-14T05:54:42.481131",
     "exception": false,
     "start_time": "2024-05-14T05:54:42.455079",
     "status": "completed"
    },
    "tags": []
   },
   "source": [
    "**TODO your answer here** -"
   ]
  },
  {
   "cell_type": "code",
   "execution_count": 39,
   "id": "75a5aaca",
   "metadata": {
    "execution": {
     "iopub.execute_input": "2024-05-14T05:54:42.537408Z",
     "iopub.status.busy": "2024-05-14T05:54:42.536766Z",
     "iopub.status.idle": "2024-05-14T05:54:42.558982Z",
     "shell.execute_reply": "2024-05-14T05:54:42.557722Z"
    },
    "id": "uzgzX4IfCoqJ",
    "outputId": "373d24ea-823d-4d6b-ecb8-c4ddd2b47d33",
    "papermill": {
     "duration": 0.053109,
     "end_time": "2024-05-14T05:54:42.561668",
     "exception": false,
     "start_time": "2024-05-14T05:54:42.508559",
     "status": "completed"
    },
    "tags": []
   },
   "outputs": [
    {
     "name": "stdout",
     "output_type": "stream",
     "text": [
      "PV AV\n",
      "-5 | 4\n",
      "57 | 37\n",
      "18 | 17\n",
      "53 | 33\n",
      "64 | 73\n",
      "81 | 126\n",
      "77 | 60\n",
      "36 | 10\n",
      "4 | 10\n",
      "70 | 24\n",
      "57 | 95\n",
      "0 | 11\n",
      "38 | 44\n",
      "-7 | 3\n",
      "61 | 74\n",
      "5 | 10\n",
      "12 | 7\n",
      "6 | 11\n",
      "59 | 70\n",
      "28 | 17\n",
      "42 | 27\n",
      "-6 | 8\n",
      "-8 | 2\n",
      "80 | 123\n",
      "9 | 1\n",
      "20 | 8\n",
      "71 | 77\n",
      "85 | 7\n",
      "7 | 1\n",
      "0 | 5\n",
      "57 | 36\n",
      "-2 | 7\n",
      "40 | 16\n",
      "73 | 86\n",
      "68 | 37\n",
      "48 | 61\n",
      "-3 | 1\n",
      "28 | 25\n",
      "23 | 25\n",
      "46 | 80\n",
      "20 | 29\n",
      "19 | 19\n",
      "66 | 95\n",
      "-2 | 2\n",
      "73 | 95\n",
      "-8 | 7\n",
      "3 | 1\n",
      "20 | 36\n",
      "58 | 63\n",
      "1 | 7\n",
      "37 | 16\n",
      "70 | 30\n",
      "74 | 90\n",
      "60 | 42\n",
      "18 | 0\n",
      "5 | 10\n",
      "96 | 128\n",
      "-2 | 3\n",
      "-4 | 4\n",
      "-2 | 4\n",
      "17 | 5\n",
      "58 | 66\n",
      "13 | 8\n",
      "77 | 119\n",
      "3 | 3\n",
      "53 | 91\n",
      "80 | 84\n",
      "74 | 64\n",
      "60 | 35\n",
      "9 | 6\n",
      "41 | 10\n",
      "66 | 34\n",
      "41 | 35\n",
      "0 | 1\n",
      "52 | 48\n",
      "59 | 90\n",
      "41 | 35\n",
      "64 | 70\n",
      "19 | 29\n",
      "59 | 64\n",
      "84 | 110\n",
      "-3 | 9\n",
      "6 | 20\n",
      "56 | 51\n",
      "8 | 3\n",
      "12 | 14\n",
      "24 | 2\n",
      "63 | 98\n",
      "44 | 30\n",
      "52 | 45\n",
      "59 | 91\n",
      "69 | 39\n",
      "0 | 5\n",
      "19 | 7\n",
      "35 | 31\n",
      "50 | 80\n",
      "3 | 1\n",
      "28 | 27\n",
      "-3 | 0\n",
      "54 | 76\n",
      "0 | 11\n",
      "-3 | 9\n",
      "75 | 83\n",
      "12 | 30\n",
      "22 | 22\n",
      "8 | 2\n",
      "3 | 10\n",
      "13 | 12\n",
      "55 | 41\n",
      "67 | 93\n",
      "52 | 78\n",
      "7 | 4\n",
      "76 | 103\n",
      "55 | 38\n",
      "21 | 30\n",
      "65 | 87\n",
      "-5 | 4\n",
      "5 | 8\n",
      "54 | 82\n",
      "21 | 4\n",
      "14 | 4\n",
      "-11 | 17\n",
      "46 | 17\n",
      "53 | 47\n",
      "40 | 30\n",
      "58 | 56\n",
      "55 | 92\n",
      "67 | 100\n",
      "5 | 2\n",
      "30 | 13\n",
      "-3 | 14\n",
      "74 | 71\n",
      "60 | 92\n",
      "30 | 15\n",
      "82 | 132\n",
      "66 | 97\n",
      "24 | 5\n",
      "-6 | 7\n",
      "71 | 35\n",
      "13 | 0\n",
      "96 | 130\n",
      "10 | 0\n",
      "-7 | 6\n",
      "-6 | 2\n",
      "32 | 1\n",
      "11 | 3\n",
      "41 | 17\n",
      "58 | 73\n",
      "75 | 52\n",
      "20 | 8\n",
      "9 | 12\n",
      "60 | 58\n",
      "43 | 17\n",
      "56 | 54\n",
      "18 | 8\n",
      "-6 | 5\n",
      "78 | 83\n",
      "0 | 4\n",
      "60 | 95\n",
      "80 | 78\n",
      "-3 | 3\n",
      "59 | 73\n",
      "59 | 51\n",
      "59 | 91\n",
      "5 | 6\n",
      "19 | 12\n",
      "15 | 3\n",
      "56 | 89\n",
      "20 | 18\n",
      "72 | 87\n",
      "64 | 67\n",
      "38 | 31\n",
      "52 | 32\n",
      "64 | 77\n",
      "2 | 0\n",
      "37 | 16\n",
      "5 | 1\n",
      "7 | 2\n",
      "2 | 13\n",
      "4 | 0\n",
      "49 | 19\n",
      "54 | 86\n",
      "-5 | 2\n",
      "3 | 3\n",
      "60 | 69\n",
      "55 | 90\n",
      "84 | 56\n",
      "42 | 22\n",
      "2 | 4\n",
      "38 | 26\n",
      "60 | 14\n",
      "74 | 132\n",
      "71 | 28\n",
      "11 | 2\n",
      "65 | 64\n",
      "9 | 3\n",
      "16 | 8\n",
      "60 | 90\n",
      "31 | 16\n",
      "80 | 52\n",
      "54 | 23\n",
      "53 | 24\n",
      "37 | 24\n",
      "5 | 7\n",
      "74 | 56\n",
      "84 | 105\n",
      "61 | 71\n",
      "42 | 28\n",
      "6 | 5\n",
      "56 | 67\n",
      "26 | 23\n",
      "58 | 47\n",
      "55 | 81\n",
      "25 | 31\n",
      "51 | 26\n",
      "27 | 3\n",
      "56 | 76\n",
      "41 | 22\n",
      "60 | 47\n",
      "13 | 10\n",
      "-4 | 17\n",
      "5 | 9\n",
      "62 | 24\n",
      "25 | 8\n",
      "59 | 86\n",
      "60 | 91\n",
      "3 | 2\n",
      "63 | 51\n",
      "-6 | 1\n",
      "8 | 5\n",
      "64 | 79\n",
      "4 | 6\n",
      "61 | 62\n",
      "11 | 6\n",
      "61 | 81\n",
      "38 | 23\n",
      "80 | 80\n",
      "45 | 29\n",
      "6 | 1\n",
      "10 | 3\n",
      "1 | 4\n",
      "5 | 2\n",
      "60 | 70\n",
      "55 | 6\n",
      "6 | 0\n",
      "56 | 90\n",
      "60 | 47\n",
      "61 | 55\n",
      "2 | 12\n",
      "23 | 5\n",
      "62 | 51\n",
      "42 | 16\n",
      "85 | 120\n",
      "39 | 37\n",
      "17 | 8\n",
      "55 | 47\n"
     ]
    }
   ],
   "source": [
    "# TODO get a random element of the test dataloader\n",
    "def dataGiver():\n",
    "    for data, target in test_dataloader:\n",
    "        return data, target\n",
    "        break\n",
    "dataTester, dataTesterValue = dataGiver()\n",
    "\n",
    "\n",
    "\n",
    "# TODO make a prediction\n",
    "dataTester = dataTester.to(device)\n",
    "dataTesterValue = dataTesterValue.to(device)\n",
    "outputs_test = model(dataTester)\n",
    "this_loss = loss_function(outputs_test, dataTesterValue)\n",
    "\n",
    "\n",
    "# print predicted label and given label\n",
    "loss = this_loss.item()\n",
    "print(\"PV AV\")\n",
    "for i in range(len(outputs_test)):\n",
    "    print(\"%d | %d\"%(outputs_test[i], dataTesterValue[i]))"
   ]
  },
  {
   "cell_type": "markdown",
   "id": "9a1513c2",
   "metadata": {
    "id": "n2sGY16whRfa",
    "papermill": {
     "duration": 0.027409,
     "end_time": "2024-05-14T05:54:42.616489",
     "exception": false,
     "start_time": "2024-05-14T05:54:42.589080",
     "status": "completed"
    },
    "tags": []
   },
   "source": [
    "### Track and Plot the Training and Validation error"
   ]
  },
  {
   "cell_type": "markdown",
   "id": "d684dc92",
   "metadata": {
    "id": "K9u7r2IoJ-UQ",
    "papermill": {
     "duration": 0.027234,
     "end_time": "2024-05-14T05:54:42.670997",
     "exception": false,
     "start_time": "2024-05-14T05:54:42.643763",
     "status": "completed"
    },
    "tags": []
   },
   "source": [
    "What we have seen so far is the basic principle of training a model and making a prediction. But one might be interesting to see more about the training process, for instance how the training error evolves with time.\n",
    "\n",
    "For this step, we are going to **refine the training process** and **add some important information saving for plotting**."
   ]
  },
  {
   "cell_type": "markdown",
   "id": "4f1e30f0",
   "metadata": {
    "id": "dQ5Pi2VZ46iX",
    "papermill": {
     "duration": 0.028302,
     "end_time": "2024-05-14T05:54:42.726844",
     "exception": false,
     "start_time": "2024-05-14T05:54:42.698542",
     "status": "completed"
    },
    "tags": []
   },
   "source": [
    "Create a plot using **seaborn** that contains both the losses on training set and the losses on the validation set for each epoch.\n",
    "\n",
    "The plot should look similar to this:\n",
    "\n",
    "\n",
    "![image.png](data:image/png;base64,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)\n",
    "\n",
    "\n",
    "**Note:** Do not forget to add title, axis labels and a legend!\n",
    "This applies in general, please keep in mind for future exercise sheets."
   ]
  },
  {
   "cell_type": "code",
   "execution_count": 40,
   "id": "5c794e3a",
   "metadata": {
    "execution": {
     "iopub.execute_input": "2024-05-14T05:54:42.782417Z",
     "iopub.status.busy": "2024-05-14T05:54:42.782084Z",
     "iopub.status.idle": "2024-05-14T05:54:45.473773Z",
     "shell.execute_reply": "2024-05-14T05:54:45.472719Z"
    },
    "id": "FmVlH408Tfkn",
    "papermill": {
     "duration": 2.721733,
     "end_time": "2024-05-14T05:54:45.476121",
     "exception": false,
     "start_time": "2024-05-14T05:54:42.754388",
     "status": "completed"
    },
    "tags": []
   },
   "outputs": [
    {
     "name": "stdout",
     "output_type": "stream",
     "text": [
      "Epoch [1/15], Loss: 384.4485151179998\n",
      "Epoch [2/15], Loss: 383.30313717492373\n",
      "Epoch [3/15], Loss: 382.2188308827427\n",
      "Epoch [4/15], Loss: 380.712309272281\n",
      "Epoch [5/15], Loss: 379.7200252125071\n",
      "Epoch [6/15], Loss: 378.80586189590497\n",
      "Epoch [7/15], Loss: 377.6547661286364\n",
      "Epoch [8/15], Loss: 376.6247018232759\n",
      "Epoch [9/15], Loss: 375.9428783060942\n",
      "Epoch [10/15], Loss: 375.02730130720335\n",
      "Epoch [11/15], Loss: 374.04225545604527\n",
      "Epoch [12/15], Loss: 373.56917930008984\n",
      "Epoch [13/15], Loss: 372.76881597552625\n",
      "Epoch [14/15], Loss: 371.93604476259696\n",
      "Epoch [15/15], Loss: 371.1126085908452\n"
     ]
    },
    {
     "data": {
      "text/plain": [
       "377.1924820804449"
      ]
     },
     "execution_count": 40,
     "metadata": {},
     "output_type": "execute_result"
    }
   ],
   "source": [
    "# TODO refine the training function from above\n",
    "# it should contain:\n",
    "# - saving of losses\n",
    "# - returning the mean loss\n",
    "\n",
    "def train_model(model, train_dataloader, optimizer, loss_function, epochs):\n",
    "    losses = [] \n",
    "    \n",
    "    for epoch in range(epochs):\n",
    "        epoch_loss = 0.0\n",
    "        \n",
    "        for inputs, labels in train_dataloader:\n",
    "            inputs, labels = inputs.to(device), labels.to(device)\n",
    "            optimizer.zero_grad()\n",
    "            outputs = model(inputs)\n",
    "            \n",
    "            loss = loss_function(outputs, labels)\n",
    "            loss.backward()\n",
    "            \n",
    "            optimizer.step()\n",
    "            \n",
    "            epoch_loss += loss.item()\n",
    "        \n",
    "        mean_loss = epoch_loss / len(train_dataloader)\n",
    "        losses.append(mean_loss)\n",
    "        \n",
    "        print(f\"Epoch [{epoch+1}/{epochs}], Loss: {mean_loss}\")\n",
    "    \n",
    "    return np.mean(losses)\n",
    "\n",
    "train_model(model,train_dataloader,optimizer,loss_function,epochs)\n"
   ]
  },
  {
   "cell_type": "code",
   "execution_count": 41,
   "id": "1b6612bd",
   "metadata": {
    "execution": {
     "iopub.execute_input": "2024-05-14T05:54:45.536059Z",
     "iopub.status.busy": "2024-05-14T05:54:45.535748Z",
     "iopub.status.idle": "2024-05-14T05:54:45.560740Z",
     "shell.execute_reply": "2024-05-14T05:54:45.559770Z"
    },
    "id": "kJ1X0VTHZ-lS",
    "papermill": {
     "duration": 0.057925,
     "end_time": "2024-05-14T05:54:45.562827",
     "exception": false,
     "start_time": "2024-05-14T05:54:45.504902",
     "status": "completed"
    },
    "tags": []
   },
   "outputs": [
    {
     "name": "stdout",
     "output_type": "stream",
     "text": [
      "Validation Loss: 403.1588840187169\n"
     ]
    }
   ],
   "source": [
    "# TODO write a validation function that calculates the loss on the validation set\n",
    "# you can also combine it with the training function\n",
    "\n",
    "def test_model_validation(model,val_dataloader,loss_functions):\n",
    "    val_losses = []\n",
    "    model.eval()\n",
    "    \n",
    "    with torch.no_grad():\n",
    "        for inputs,labels in val_dataloader:\n",
    "            inputs, labels = inputs.to(device), labels.to(device)\n",
    "            outputs = model(inputs)\n",
    "            loss = loss_function(outputs,labels)\n",
    "            val_losses.append(loss.item())\n",
    "        \n",
    "        mean_val_loss = sum(val_losses)/len(val_dataloader)\n",
    "        print(f\"Validation Loss: {mean_val_loss}\")\n",
    "        \n",
    "test_model_validation(model,val_dataloader,loss_function)\n",
    "            \n"
   ]
  },
  {
   "cell_type": "code",
   "execution_count": 42,
   "id": "21e75289",
   "metadata": {
    "execution": {
     "iopub.execute_input": "2024-05-14T05:54:45.619633Z",
     "iopub.status.busy": "2024-05-14T05:54:45.619335Z",
     "iopub.status.idle": "2024-05-14T05:54:48.579783Z",
     "shell.execute_reply": "2024-05-14T05:54:48.578912Z"
    },
    "id": "dVh-o4vJVRLh",
    "papermill": {
     "duration": 2.991097,
     "end_time": "2024-05-14T05:54:48.581774",
     "exception": false,
     "start_time": "2024-05-14T05:54:45.590677",
     "status": "completed"
    },
    "tags": []
   },
   "outputs": [
    {
     "name": "stdout",
     "output_type": "stream",
     "text": [
      "Epoch:  [1/15], Loss: 370.5127336158943 Validation Loss: 397.9445817286782\n",
      "Epoch:  [2/15], Loss: 369.8763001382315 Validation Loss: 398.2104477908129\n",
      "Epoch:  [3/15], Loss: 369.50333507228225 Validation Loss: 394.72414350929404\n",
      "Epoch:  [4/15], Loss: 368.6227463325156 Validation Loss: 393.7270457500892\n",
      "Epoch:  [5/15], Loss: 368.1998714661325 Validation Loss: 396.3649571095831\n",
      "Epoch:  [6/15], Loss: 367.4870843863253 Validation Loss: 393.4096304786382\n",
      "Epoch:  [7/15], Loss: 366.991200328645 Validation Loss: 392.8559493804775\n",
      "Epoch:  [8/15], Loss: 366.7862966220616 Validation Loss: 395.33601516642636\n",
      "Epoch:  [9/15], Loss: 366.16920014855725 Validation Loss: 392.17419551807694\n",
      "Epoch:  [10/15], Loss: 365.4004621025864 Validation Loss: 389.5437351944544\n",
      "Epoch:  [11/15], Loss: 365.0693507182732 Validation Loss: 393.7516409482735\n",
      "Epoch:  [12/15], Loss: 364.60810077749136 Validation Loss: 391.0218169634721\n",
      "Epoch:  [13/15], Loss: 363.9945876704794 Validation Loss: 393.39096325142026\n",
      "Epoch:  [14/15], Loss: 363.5339149893936 Validation Loss: 391.40418327890285\n",
      "Epoch:  [15/15], Loss: 363.09093810174306 Validation Loss: 391.56552261493243\n"
     ]
    },
    {
     "data": {
      "text/plain": [
       "([370.5127336158943,\n",
       "  369.8763001382315,\n",
       "  369.50333507228225,\n",
       "  368.6227463325156,\n",
       "  368.1998714661325,\n",
       "  367.4870843863253,\n",
       "  366.991200328645,\n",
       "  366.7862966220616,\n",
       "  366.16920014855725,\n",
       "  365.4004621025864,\n",
       "  365.0693507182732,\n",
       "  364.60810077749136,\n",
       "  363.9945876704794,\n",
       "  363.5339149893936,\n",
       "  363.09093810174306],\n",
       " [397.9445817286782,\n",
       "  398.2104477908129,\n",
       "  394.72414350929404,\n",
       "  393.7270457500892,\n",
       "  396.3649571095831,\n",
       "  393.4096304786382,\n",
       "  392.8559493804775,\n",
       "  395.33601516642636,\n",
       "  392.17419551807694,\n",
       "  389.5437351944544,\n",
       "  393.7516409482735,\n",
       "  391.0218169634721,\n",
       "  393.39096325142026,\n",
       "  391.40418327890285,\n",
       "  391.56552261493243])"
      ]
     },
     "execution_count": 42,
     "metadata": {},
     "output_type": "execute_result"
    }
   ],
   "source": [
    "# TODO write a run_training function that\n",
    "# - calls the train and validate functions for each epoch\n",
    "# - saves the train_losses, val_losses as arrays for each epoch\n",
    "\n",
    "def run_training(model,optimizer,train_dataloader,epochs,loss_function,val_dataloader):\n",
    "    train_losses = []\n",
    "    val_losses = []\n",
    "    for epoch in range(epochs):\n",
    "        train_epoch_loss = 0.0\n",
    "        val_epoch_loss = 0.0\n",
    "        for inputs,labels in train_dataloader:\n",
    "            inputs, labels = inputs.to(device), labels.to(device)\n",
    "            optimizer.zero_grad()\n",
    "            outputs = model(inputs)\n",
    "            \n",
    "            loss = loss_function(outputs,labels)\n",
    "            loss.backward()\n",
    "            \n",
    "            optimizer.step()\n",
    "            \n",
    "            train_epoch_loss += loss.item()\n",
    "        mean_train_loss = train_epoch_loss/len(train_dataloader)\n",
    "        train_losses.append(mean_train_loss)\n",
    "        print(f\"Epoch:  [{epoch+1}/{epochs}], Loss: {mean_train_loss}\", end=\" \")\n",
    "        \n",
    "        # Validation Part:\n",
    "        for inputs,labels in val_dataloader:\n",
    "            inputs, labels = inputs.to(device), labels.to(device)\n",
    "            model.eval()\n",
    "            outputs = model(inputs)\n",
    "\n",
    "            loss = loss_function(outputs,labels)\n",
    "            val_epoch_loss += loss.item()\n",
    "        mean_val_loss = val_epoch_loss/len(val_dataloader)\n",
    "        val_losses.append(mean_val_loss)\n",
    "        print(f\"Validation Loss: {mean_val_loss}\")\n",
    "    \n",
    "    return train_losses, val_losses\n",
    "\n",
    "run_training(model,optimizer,train_dataloader,epochs,loss_function,val_dataloader)\n",
    "            \n",
    "            \n",
    "            \n",
    "            \n",
    "            \n",
    "        \n",
    "\n",
    "        \n",
    "\n",
    "\n",
    "        "
   ]
  },
  {
   "cell_type": "code",
   "execution_count": 43,
   "id": "79453f0a",
   "metadata": {
    "execution": {
     "iopub.execute_input": "2024-05-14T05:54:48.644235Z",
     "iopub.status.busy": "2024-05-14T05:54:48.643932Z",
     "iopub.status.idle": "2024-05-14T05:54:54.497671Z",
     "shell.execute_reply": "2024-05-14T05:54:54.496575Z"
    },
    "id": "vmnXzMswyysS",
    "outputId": "7a6afb10-e019-4562-e72e-49c32bdfa857",
    "papermill": {
     "duration": 5.888568,
     "end_time": "2024-05-14T05:54:54.499744",
     "exception": false,
     "start_time": "2024-05-14T05:54:48.611176",
     "status": "completed"
    },
    "tags": []
   },
   "outputs": [
    {
     "name": "stdout",
     "output_type": "stream",
     "text": [
      "Epoch:  [1/30], Loss: 1720.9562471912297 Validation Loss: 1531.8182067654902\n",
      "Epoch:  [2/30], Loss: 1350.7348222344226 Validation Loss: 1287.7579266591745\n",
      "Epoch:  [3/30], Loss: 1144.6612679948958 Validation Loss: 1103.4800590558154\n",
      "Epoch:  [4/30], Loss: 988.9562405884152 Validation Loss: 970.8708575464652\n",
      "Epoch:  [5/30], Loss: 867.9909498733705 Validation Loss: 864.1948014013627\n",
      "Epoch:  [6/30], Loss: 773.4368302646448 Validation Loss: 774.7076756810371\n",
      "Epoch:  [7/30], Loss: 698.3399381906511 Validation Loss: 713.7150826726502\n",
      "Epoch:  [8/30], Loss: 639.238537491878 Validation Loss: 667.4423285991573\n",
      "Epoch:  [9/30], Loss: 592.1523612755469 Validation Loss: 616.1077241604554\n",
      "Epoch:  [10/30], Loss: 554.0971430752264 Validation Loss: 585.5613337685141\n",
      "Epoch:  [11/30], Loss: 523.6352609569219 Validation Loss: 550.8648065622363\n",
      "Epoch:  [12/30], Loss: 499.33604546524225 Validation Loss: 526.4004310754957\n",
      "Epoch:  [13/30], Loss: 479.7019841957593 Validation Loss: 514.708299555209\n",
      "Epoch:  [14/30], Loss: 463.8154866394448 Validation Loss: 495.4390646201303\n",
      "Epoch:  [15/30], Loss: 450.97737963452187 Validation Loss: 487.5835478367279\n",
      "Epoch:  [16/30], Loss: 440.17419386356033 Validation Loss: 473.8987043682972\n",
      "Epoch:  [17/30], Loss: 431.2630249839548 Validation Loss: 465.5943178223376\n",
      "Epoch:  [18/30], Loss: 424.0042813636074 Validation Loss: 460.47377633836095\n",
      "Epoch:  [19/30], Loss: 417.83399002358715 Validation Loss: 454.5814685112817\n",
      "Epoch:  [20/30], Loss: 413.0134008353927 Validation Loss: 443.355537172261\n",
      "Epoch:  [21/30], Loss: 408.2652963074198 Validation Loss: 446.30883849409554\n",
      "Epoch:  [22/30], Loss: 404.3826804559034 Validation Loss: 438.2251970280077\n",
      "Epoch:  [23/30], Loss: 401.4192725306462 Validation Loss: 432.4001657762081\n",
      "Epoch:  [24/30], Loss: 398.0323971975265 Validation Loss: 426.04510496267267\n",
      "Epoch:  [25/30], Loss: 395.6837751737097 Validation Loss: 429.9321462475022\n",
      "Epoch:  [26/30], Loss: 393.3607027540767 Validation Loss: 428.785963675091\n",
      "Epoch:  [27/30], Loss: 391.34496347571616 Validation Loss: 422.4987506266444\n",
      "Epoch:  [28/30], Loss: 389.5256574786579 Validation Loss: 419.5396884448559\n",
      "Epoch:  [29/30], Loss: 387.88594537066325 Validation Loss: 421.8813030510166\n",
      "Epoch:  [30/30], Loss: 386.2602063535745 Validation Loss: 414.98270030605374\n",
      "[1720.9562471912297, 1350.7348222344226, 1144.6612679948958, 988.9562405884152, 867.9909498733705, 773.4368302646448, 698.3399381906511, 639.238537491878, 592.1523612755469, 554.0971430752264, 523.6352609569219, 499.33604546524225, 479.7019841957593, 463.8154866394448, 450.97737963452187, 440.17419386356033, 431.2630249839548, 424.0042813636074, 417.83399002358715, 413.0134008353927, 408.2652963074198, 404.3826804559034, 401.4192725306462, 398.0323971975265, 395.6837751737097, 393.3607027540767, 391.34496347571616, 389.5256574786579, 387.88594537066325, 386.2602063535745]\n"
     ]
    }
   ],
   "source": [
    "# TODO call the run_training function and run it for 10 epochs.\n",
    "num_epochs = 30\n",
    "model = LinearRegression(input_dim,output_dim)\n",
    "model.to(device)\n",
    "optimizer = torch.optim.SGD(model.parameters(), lr = lr)\n",
    "n_train_loss,n_val_loss = run_training(model,optimizer,train_dataloader,num_epochs,loss_function,val_dataloader)\n",
    "print(n_train_loss)\n"
   ]
  },
  {
   "cell_type": "code",
   "execution_count": 44,
   "id": "117bdc87",
   "metadata": {
    "execution": {
     "iopub.execute_input": "2024-05-14T05:54:54.562990Z",
     "iopub.status.busy": "2024-05-14T05:54:54.562459Z",
     "iopub.status.idle": "2024-05-14T05:54:54.572484Z",
     "shell.execute_reply": "2024-05-14T05:54:54.571608Z"
    },
    "id": "0Y9OzZd3fFeE",
    "papermill": {
     "duration": 0.043109,
     "end_time": "2024-05-14T05:54:54.574347",
     "exception": false,
     "start_time": "2024-05-14T05:54:54.531238",
     "status": "completed"
    },
    "tags": []
   },
   "outputs": [],
   "source": [
    "# TODO write a plot function\n",
    "def plot_training_validation_curves(training_mse, validation_mse, lr_list=None, batch_size = None):\n",
    "    if lr_list:\n",
    "        plt.figure(figsize=(15,11))\n",
    "        for i, lr in enumerate(lr_list):\n",
    "            epochs = range(1, len(training_mse[i]) + 1)\n",
    "            #plt.scatter(epochs, training_mse[i], label=f'Training Loss (lr={lr})', marker='o')\n",
    "            plt.scatter(epochs, validation_mse[i], label=f'Validation Loss (lr={lr})', marker='o')\n",
    "\n",
    "            #plt.plot(epochs, training_mse[i], linestyle='--')\n",
    "            plt.plot(epochs, validation_mse[i], linestyle='--')\n",
    "    elif batch_size:\n",
    "        plt.figure(figsize=(15,11))\n",
    "        for i, batchSize in enumerate(batch_size):\n",
    "            epochs = range(1, len(training_mse[i]) + 1)\n",
    "            #plt.scatter(epochs, training_mse[i], label=f'Training Loss (BatchSize={batch_size})', marker='o')\n",
    "            plt.scatter(epochs, validation_mse[i], label=f'Validation Loss (Batch Size={batchSize})', marker='o')\n",
    "\n",
    "            #plt.plot(epochs, training_mse[i], linestyle='--')\n",
    "            plt.plot(epochs, validation_mse[i], linestyle='--')\n",
    "        \n",
    "    else:\n",
    "        epochs = range(1, len(training_mse) + 1)\n",
    "        plt.scatter(epochs, training_mse, label='Training Loss', marker='o')\n",
    "        plt.scatter(epochs, validation_mse, label='Validation Loss', marker='o')\n",
    "\n",
    "        plt.plot(epochs, training_mse, linestyle='--', color='blue')\n",
    "        plt.plot(epochs, validation_mse, linestyle='--', color='orange')\n",
    "\n",
    "    plt.title('Epochs vs Loss')\n",
    "    plt.xlabel('Epoch')\n",
    "    plt.ylabel('Loss')\n",
    "    plt.legend()\n",
    "    plt.grid(True)\n",
    "\n",
    "    plt.show()"
   ]
  },
  {
   "cell_type": "code",
   "execution_count": 45,
   "id": "861a3bc7",
   "metadata": {
    "execution": {
     "iopub.execute_input": "2024-05-14T05:54:54.637792Z",
     "iopub.status.busy": "2024-05-14T05:54:54.637011Z",
     "iopub.status.idle": "2024-05-14T05:54:55.008893Z",
     "shell.execute_reply": "2024-05-14T05:54:55.007985Z"
    },
    "id": "oElpprFbdh6r",
    "outputId": "2843729a-5217-4a55-9a1b-9b5aea933351",
    "papermill": {
     "duration": 0.406568,
     "end_time": "2024-05-14T05:54:55.011223",
     "exception": false,
     "start_time": "2024-05-14T05:54:54.604655",
     "status": "completed"
    },
    "tags": []
   },
   "outputs": [
    {
     "data": {
      "image/png": "[encoded data removed]",
      "text/plain": [
       "<Figure size 640x480 with 1 Axes>"
      ]
     },
     "metadata": {},
     "output_type": "display_data"
    }
   ],
   "source": [
    "# TODO plot losses\n",
    "plot_training_validation_curves(n_train_loss,n_val_loss)"
   ]
  },
  {
   "cell_type": "markdown",
   "id": "1c6eef51",
   "metadata": {
    "id": "fvhHzL2nKLIz",
    "papermill": {
     "duration": 0.030864,
     "end_time": "2024-05-14T05:54:55.073805",
     "exception": false,
     "start_time": "2024-05-14T05:54:55.042941",
     "status": "completed"
    },
    "tags": []
   },
   "source": [
    "Comment on the loss curve. Does it look as expected? Why/Why not?\n",
    "If not, what might be the reason."
   ]
  },
  {
   "cell_type": "markdown",
   "id": "97792d82",
   "metadata": {
    "papermill": {
     "duration": 0.031705,
     "end_time": "2024-05-14T05:54:55.136822",
     "exception": false,
     "start_time": "2024-05-14T05:54:55.105117",
     "status": "completed"
    },
    "tags": []
   },
   "source": [
    "# Hyperparameters influence"
   ]
  },
  {
   "cell_type": "markdown",
   "id": "2adeb174",
   "metadata": {
    "id": "YP1k0lHyKLIz",
    "papermill": {
     "duration": 0.030978,
     "end_time": "2024-05-14T05:54:55.199196",
     "exception": false,
     "start_time": "2024-05-14T05:54:55.168218",
     "status": "completed"
    },
    "tags": []
   },
   "source": [
    "Now, once we successfully reproduced linear regression using PyTorch, lets explore the hyperparameters influence, such as learning rate or batch size."
   ]
  },
  {
   "cell_type": "markdown",
   "id": "d1f5cd8f",
   "metadata": {
    "id": "DRYKhVWFP0tt",
    "papermill": {
     "duration": 0.031217,
     "end_time": "2024-05-14T05:54:55.261557",
     "exception": false,
     "start_time": "2024-05-14T05:54:55.230340",
     "status": "completed"
    },
    "tags": []
   },
   "source": [
    "Train several models with 30 train epochs and using different learning rates - [0.0001, 0.001, 0.01, 0.1, 1, 10].\n",
    "What do you notice? Why?\n",
    "\n",
    "*Hints*: \n",
    "* Do not forget to reinitialize models and update the optimizers\n",
    "* Use different colors and line styles to display different learning rates and train-validation splits"
   ]
  },
  {
   "cell_type": "code",
   "execution_count": 46,
   "id": "bef7fd71",
   "metadata": {
    "execution": {
     "iopub.execute_input": "2024-05-14T05:54:55.328288Z",
     "iopub.status.busy": "2024-05-14T05:54:55.327290Z",
     "iopub.status.idle": "2024-05-14T05:55:19.103337Z",
     "shell.execute_reply": "2024-05-14T05:55:19.102213Z"
    },
    "id": "pd-nCEZrKLIz",
    "papermill": {
     "duration": 23.812493,
     "end_time": "2024-05-14T05:55:19.105304",
     "exception": false,
     "start_time": "2024-05-14T05:54:55.292811",
     "status": "completed"
    },
    "tags": []
   },
   "outputs": [
    {
     "name": "stdout",
     "output_type": "stream",
     "text": [
      "Epoch:  [1/30], Loss: 945.9124503042224 Validation Loss: 573.8132267999897\n",
      "Epoch:  [2/30], Loss: 453.8315314186802 Validation Loss: 448.6935292716349\n",
      "Epoch:  [3/30], Loss: 396.42462331389737 Validation Loss: 414.65312792682687\n",
      "Epoch:  [4/30], Loss: 380.4926558901317 Validation Loss: 404.3339761208135\n",
      "Epoch:  [5/30], Loss: 372.03273931008954 Validation Loss: 394.1123090156404\n",
      "Epoch:  [6/30], Loss: 366.59943109522305 Validation Loss: 388.5671843142546\n",
      "Epoch:  [7/30], Loss: 362.1681313099447 Validation Loss: 386.3268829050593\n",
      "Epoch:  [8/30], Loss: 359.45756823528995 Validation Loss: 386.2359869306352\n",
      "Epoch:  [9/30], Loss: 356.89609445672414 Validation Loss: 377.7337700707462\n",
      "Epoch:  [10/30], Loss: 355.00976806682786 Validation Loss: 376.3566051611591\n",
      "Epoch:  [11/30], Loss: 353.42226223574767 Validation Loss: 372.5353980648066\n",
      "Epoch:  [12/30], Loss: 352.03366927539116 Validation Loss: 375.4992679097685\n",
      "Epoch:  [13/30], Loss: 350.77919848483873 Validation Loss: 372.4533848631173\n",
      "Epoch:  [14/30], Loss: 349.80662470624367 Validation Loss: 373.59615343370854\n",
      "Epoch:  [15/30], Loss: 348.7875571604409 Validation Loss: 370.75976538751917\n",
      "Epoch:  [16/30], Loss: 347.7743415223461 Validation Loss: 371.6428407127195\n",
      "Epoch:  [17/30], Loss: 346.92936118799634 Validation Loss: 368.8431561195584\n",
      "Epoch:  [18/30], Loss: 346.39663127416844 Validation Loss: 371.9719231190824\n",
      "Epoch:  [19/30], Loss: 345.92097672654165 Validation Loss: 364.2275070108912\n",
      "Epoch:  [20/30], Loss: 344.7526935643101 Validation Loss: 365.71780515170786\n",
      "Epoch:  [21/30], Loss: 344.4792094559829 Validation Loss: 365.44048732283903\n",
      "Epoch:  [22/30], Loss: 343.7881016854508 Validation Loss: 366.6120413772302\n",
      "Epoch:  [23/30], Loss: 343.31203973059684 Validation Loss: 368.88518309977314\n",
      "Epoch:  [24/30], Loss: 342.46099546937484 Validation Loss: 365.069298555518\n",
      "Epoch:  [25/30], Loss: 341.9834543292324 Validation Loss: 363.19609602288705\n",
      "Epoch:  [26/30], Loss: 341.83041645100457 Validation Loss: 359.7019673743487\n",
      "Epoch:  [27/30], Loss: 340.8164909192709 Validation Loss: 366.1330671847126\n",
      "Epoch:  [28/30], Loss: 340.556483208985 Validation Loss: 365.2451224165073\n",
      "Epoch:  [29/30], Loss: 340.21649160638555 Validation Loss: 363.769607779026\n",
      "Epoch:  [30/30], Loss: 340.23182798881214 Validation Loss: 358.85852769677916\n",
      "Epoch:  [1/30], Loss: 1718.6893626929846 Validation Loss: 1525.1866154609415\n",
      "Epoch:  [2/30], Loss: 1347.5197062936957 Validation Loss: 1288.4589967327665\n",
      "Epoch:  [3/30], Loss: 1142.1138198005424 Validation Loss: 1104.3487532066415\n",
      "Epoch:  [4/30], Loss: 986.5145383163252 Validation Loss: 961.3604940248476\n",
      "Epoch:  [5/30], Loss: 865.6826128962075 Validation Loss: 871.6959729412241\n",
      "Epoch:  [6/30], Loss: 771.1996247669246 Validation Loss: 779.7588403924632\n",
      "Epoch:  [7/30], Loss: 696.3714294773735 Validation Loss: 709.3789610619209\n",
      "Epoch:  [8/30], Loss: 637.2336380743797 Validation Loss: 654.6448679821244\n",
      "Epoch:  [9/30], Loss: 589.9467014392995 Validation Loss: 615.3600335363653\n",
      "Epoch:  [10/30], Loss: 553.049265066648 Validation Loss: 576.7066515858385\n",
      "Epoch:  [11/30], Loss: 522.1226533555457 Validation Loss: 553.937475121066\n",
      "Epoch:  [12/30], Loss: 498.01952565218915 Validation Loss: 527.7450645164469\n",
      "Epoch:  [13/30], Loss: 478.36359058981446 Validation Loss: 510.843167727326\n",
      "Epoch:  [14/30], Loss: 462.61669618868444 Validation Loss: 493.60138361870446\n",
      "Epoch:  [15/30], Loss: 449.82136569906834 Validation Loss: 480.69521799357506\n",
      "Epoch:  [16/30], Loss: 439.34495127731446 Validation Loss: 474.87321329931365\n",
      "Epoch:  [17/30], Loss: 430.57521025894874 Validation Loss: 465.8436199900561\n",
      "Epoch:  [18/30], Loss: 423.1231014378031 Validation Loss: 453.3467994427037\n",
      "Epoch:  [19/30], Loss: 417.4153193654369 Validation Loss: 452.4523613628629\n",
      "Epoch:  [20/30], Loss: 412.08800472198186 Validation Loss: 443.4305559481888\n",
      "Epoch:  [21/30], Loss: 407.39417036265553 Validation Loss: 442.0625424931386\n",
      "Epoch:  [22/30], Loss: 403.741371199642 Validation Loss: 439.7649245049215\n",
      "Epoch:  [23/30], Loss: 400.43223332620096 Validation Loss: 434.5163421089622\n",
      "Epoch:  [24/30], Loss: 397.7683008389485 Validation Loss: 434.14124924862784\n",
      "Epoch:  [25/30], Loss: 395.0716626167057 Validation Loss: 425.8496531442805\n",
      "Epoch:  [26/30], Loss: 392.9061984645376 Validation Loss: 426.1342968298314\n",
      "Epoch:  [27/30], Loss: 390.8151994362016 Validation Loss: 423.8865446068782\n",
      "Epoch:  [28/30], Loss: 388.8734652207671 Validation Loss: 419.3839546960691\n",
      "Epoch:  [29/30], Loss: 387.17027016788217 Validation Loss: 416.9590406970818\n",
      "Epoch:  [30/30], Loss: 385.62163103285445 Validation Loss: 419.43209077807285\n",
      "Epoch:  [1/30], Loss: 2181.8191357632477 Validation Loss: 2115.7164863150024\n",
      "Epoch:  [2/30], Loss: 1948.2473795638175 Validation Loss: 1943.4233911381768\n",
      "Epoch:  [3/30], Loss: 1814.882274927593 Validation Loss: 1840.5439623692969\n",
      "Epoch:  [4/30], Loss: 1732.5062781668544 Validation Loss: 1756.017723072511\n",
      "Epoch:  [5/30], Loss: 1673.064081750818 Validation Loss: 1703.534996799791\n",
      "Epoch:  [6/30], Loss: 1627.5717451431565 Validation Loss: 1658.9575646340038\n",
      "Epoch:  [7/30], Loss: 1588.4759206878655 Validation Loss: 1618.7766642274894\n",
      "Epoch:  [8/30], Loss: 1553.0321003134777 Validation Loss: 1574.0254623354008\n",
      "Epoch:  [9/30], Loss: 1520.3381981640648 Validation Loss: 1559.563077818264\n",
      "Epoch:  [10/30], Loss: 1489.466838907899 Validation Loss: 1523.9522304364295\n",
      "Epoch:  [11/30], Loss: 1460.632826509747 Validation Loss: 1518.8215184957023\n",
      "Epoch:  [12/30], Loss: 1433.9580196623583 Validation Loss: 1469.0213595111672\n",
      "Epoch:  [13/30], Loss: 1405.9328166754399 Validation Loss: 1439.736526369439\n",
      "Epoch:  [14/30], Loss: 1380.9328018328085 Validation Loss: 1414.918891283476\n",
      "Epoch:  [15/30], Loss: 1355.6638343569102 Validation Loss: 1396.9946467645807\n",
      "Epoch:  [16/30], Loss: 1332.4052195624859 Validation Loss: 1370.0736154344631\n",
      "Epoch:  [17/30], Loss: 1309.1046534828522 Validation Loss: 1358.31867276041\n",
      "Epoch:  [18/30], Loss: 1287.0557651518147 Validation Loss: 1332.6649951474008\n",
      "Epoch:  [19/30], Loss: 1264.9257856077234 Validation Loss: 1305.5649657383942\n",
      "Epoch:  [20/30], Loss: 1244.7531874024678 Validation Loss: 1292.8532775903593\n",
      "Epoch:  [21/30], Loss: 1224.0534576216792 Validation Loss: 1267.2008105780392\n",
      "Epoch:  [22/30], Loss: 1204.1232047525593 Validation Loss: 1253.431718973996\n",
      "Epoch:  [23/30], Loss: 1185.431651873063 Validation Loss: 1224.4820168916142\n",
      "Epoch:  [24/30], Loss: 1166.7215961960803 Validation Loss: 1208.5408777066148\n",
      "Epoch:  [25/30], Loss: 1148.6929440115275 Validation Loss: 1189.7820072224845\n",
      "Epoch:  [26/30], Loss: 1131.2668057901012 Validation Loss: 1182.153978598753\n",
      "Epoch:  [27/30], Loss: 1113.968810669713 Validation Loss: 1164.6788177620563\n",
      "Epoch:  [28/30], Loss: 1097.540465696145 Validation Loss: 1141.366327729645\n",
      "Epoch:  [29/30], Loss: 1080.863199018401 Validation Loss: 1125.5108912494452\n",
      "Epoch:  [30/30], Loss: 1065.5028051757627 Validation Loss: 1116.0831250308977\n",
      "Epoch:  [1/30], Loss: 2327.2575110911607 Validation Loss: 2407.378072589629\n",
      "Epoch:  [2/30], Loss: 2287.3101984375758 Validation Loss: 2344.1794655324024\n",
      "Epoch:  [3/30], Loss: 2249.4729925535476 Validation Loss: 2317.8677664109864\n",
      "Epoch:  [4/30], Loss: 2216.0992413735435 Validation Loss: 2296.0901695395723\n",
      "Epoch:  [5/30], Loss: 2185.4613455239237 Validation Loss: 2237.9726077876458\n",
      "Epoch:  [6/30], Loss: 2153.916186598352 Validation Loss: 2226.346077042179\n",
      "Epoch:  [7/30], Loss: 2125.762657250452 Validation Loss: 2171.4039588277365\n",
      "Epoch:  [8/30], Loss: 2099.428348256203 Validation Loss: 2150.5326509942156\n",
      "Epoch:  [9/30], Loss: 2073.6464267447986 Validation Loss: 2129.702316791046\n",
      "Epoch:  [10/30], Loss: 2048.90542328445 Validation Loss: 2098.917438573817\n",
      "Epoch:  [11/30], Loss: 2027.940970774502 Validation Loss: 2102.9966013531453\n",
      "Epoch:  [12/30], Loss: 2007.3370437542374 Validation Loss: 2065.1626806867675\n",
      "Epoch:  [13/30], Loss: 1987.492038857631 Validation Loss: 2047.3395688956418\n",
      "Epoch:  [14/30], Loss: 1968.5251456959095 Validation Loss: 2034.4425798100285\n",
      "Epoch:  [15/30], Loss: 1951.85833076543 Validation Loss: 2013.6029627346416\n",
      "Epoch:  [16/30], Loss: 1934.1799539440083 Validation Loss: 1987.77470986889\n",
      "Epoch:  [17/30], Loss: 1918.9328575278253 Validation Loss: 1973.7185153660332\n",
      "Epoch:  [18/30], Loss: 1904.032883932217 Validation Loss: 1991.9910393890193\n",
      "Epoch:  [19/30], Loss: 1890.9000141314914 Validation Loss: 1956.9382713864877\n",
      "Epoch:  [20/30], Loss: 1876.811344204521 Validation Loss: 1949.0508617259864\n",
      "Epoch:  [21/30], Loss: 1864.2158292920074 Validation Loss: 1932.174424062034\n",
      "Epoch:  [22/30], Loss: 1851.5053449285922 Validation Loss: 1921.6049189070454\n",
      "Epoch:  [23/30], Loss: 1841.675897886385 Validation Loss: 1902.7874815294267\n",
      "Epoch:  [24/30], Loss: 1828.8164279823627 Validation Loss: 1887.8672387426802\n",
      "Epoch:  [25/30], Loss: 1817.904357985758 Validation Loss: 1882.9132824434525\n",
      "Epoch:  [26/30], Loss: 1809.545601805865 Validation Loss: 1881.6272976444811\n",
      "Epoch:  [27/30], Loss: 1799.0976452268687 Validation Loss: 1864.1142555224274\n",
      "Epoch:  [28/30], Loss: 1791.2992458344747 Validation Loss: 1853.779994152985\n",
      "Epoch:  [29/30], Loss: 1781.6117176743196 Validation Loss: 1852.4372195218937\n",
      "Epoch:  [30/30], Loss: 1772.7232276285845 Validation Loss: 1829.6603523433748\n",
      "[[573.8132267999897, 448.6935292716349, 414.65312792682687, 404.3339761208135, 394.1123090156404, 388.5671843142546, 386.3268829050593, 386.2359869306352, 377.7337700707462, 376.3566051611591, 372.5353980648066, 375.4992679097685, 372.4533848631173, 373.59615343370854, 370.75976538751917, 371.6428407127195, 368.8431561195584, 371.9719231190824, 364.2275070108912, 365.71780515170786, 365.44048732283903, 366.6120413772302, 368.88518309977314, 365.069298555518, 363.19609602288705, 359.7019673743487, 366.1330671847126, 365.2451224165073, 363.769607779026, 358.85852769677916], [1525.1866154609415, 1288.4589967327665, 1104.3487532066415, 961.3604940248476, 871.6959729412241, 779.7588403924632, 709.3789610619209, 654.6448679821244, 615.3600335363653, 576.7066515858385, 553.937475121066, 527.7450645164469, 510.843167727326, 493.60138361870446, 480.69521799357506, 474.87321329931365, 465.8436199900561, 453.3467994427037, 452.4523613628629, 443.4305559481888, 442.0625424931386, 439.7649245049215, 434.5163421089622, 434.14124924862784, 425.8496531442805, 426.1342968298314, 423.8865446068782, 419.3839546960691, 416.9590406970818, 419.43209077807285], [2115.7164863150024, 1943.4233911381768, 1840.5439623692969, 1756.017723072511, 1703.534996799791, 1658.9575646340038, 1618.7766642274894, 1574.0254623354008, 1559.563077818264, 1523.9522304364295, 1518.8215184957023, 1469.0213595111672, 1439.736526369439, 1414.918891283476, 1396.9946467645807, 1370.0736154344631, 1358.31867276041, 1332.6649951474008, 1305.5649657383942, 1292.8532775903593, 1267.2008105780392, 1253.431718973996, 1224.4820168916142, 1208.5408777066148, 1189.7820072224845, 1182.153978598753, 1164.6788177620563, 1141.366327729645, 1125.5108912494452, 1116.0831250308977], [2407.378072589629, 2344.1794655324024, 2317.8677664109864, 2296.0901695395723, 2237.9726077876458, 2226.346077042179, 2171.4039588277365, 2150.5326509942156, 2129.702316791046, 2098.917438573817, 2102.9966013531453, 2065.1626806867675, 2047.3395688956418, 2034.4425798100285, 2013.6029627346416, 1987.77470986889, 1973.7185153660332, 1991.9910393890193, 1956.9382713864877, 1949.0508617259864, 1932.174424062034, 1921.6049189070454, 1902.7874815294267, 1887.8672387426802, 1882.9132824434525, 1881.6272976444811, 1864.1142555224274, 1853.779994152985, 1852.4372195218937, 1829.6603523433748]]\n"
     ]
    }
   ],
   "source": [
    "num_epochs = 30\n",
    "## TODO - train models with different learning rates\n",
    "lr_list = [0.01,0.001,0.0001,0.00001]\n",
    "lr_train_losses = []\n",
    "lr_val_losses=[]\n",
    "for lr in lr_list:\n",
    "    model = LinearRegression(input_dim,output_dim)\n",
    "    model.to(device)\n",
    "    optimizer = torch.optim.SGD(model.parameters(), lr = lr)\n",
    "    train_loss,val_loss = run_training(model,optimizer,train_dataloader,num_epochs,loss_function,val_dataloader)\n",
    "    lr_train_losses.append(train_loss)\n",
    "    lr_val_losses.append(val_loss)\n",
    "print(lr_val_losses)\n",
    "    \n",
    "    "
   ]
  },
  {
   "cell_type": "code",
   "execution_count": 47,
   "id": "2056db16",
   "metadata": {
    "execution": {
     "iopub.execute_input": "2024-05-14T05:55:19.182906Z",
     "iopub.status.busy": "2024-05-14T05:55:19.182630Z",
     "iopub.status.idle": "2024-05-14T05:55:19.671894Z",
     "shell.execute_reply": "2024-05-14T05:55:19.670899Z"
    },
    "id": "kU4knQXNP6dK",
    "outputId": "7f20d427-a4ac-49d7-fe87-4eadaefdfd22",
    "papermill": {
     "duration": 0.530896,
     "end_time": "2024-05-14T05:55:19.674853",
     "exception": false,
     "start_time": "2024-05-14T05:55:19.143957",
     "status": "completed"
    },
    "tags": []
   },
   "outputs": [
    {
     "data": {
      "image/png": "[encoded data removed]",
      "text/plain": [
       "<Figure size 1500x1100 with 1 Axes>"
      ]
     },
     "metadata": {},
     "output_type": "display_data"
    }
   ],
   "source": [
    "## TODO plot the losses from different models. What do you see and why?\n",
    "plot_training_validation_curves(lr_train_losses,lr_val_losses,lr_list)"
   ]
  },
  {
   "cell_type": "markdown",
   "id": "55fb222c",
   "metadata": {
    "id": "MXvarQ-KgAVu",
    "papermill": {
     "duration": 0.039789,
     "end_time": "2024-05-14T05:55:19.754399",
     "exception": false,
     "start_time": "2024-05-14T05:55:19.714610",
     "status": "completed"
    },
    "tags": []
   },
   "source": [
    "## How do we know the amount of epochs and best learning rates?\n",
    "\n",
    "The honest answer - we just try it out. The heuristics, which are typically used are the following\n",
    "* use adaptive optimizers. Adam would be a typical example. It is an adaptive learning rate optimization algorithm that is designed to be appropriate for non-stationary objectives and problems with very noisy and/or sparse gradients. More details [here](https://paperswithcode.com/method/adam). This makes the training more robust to the choise of the the learning rate\n",
    "* Use schedulers for the training. They change the value of the learning rate based on the loss behaviour. The most typical ones are\n",
    "  * Early stopper . The early stopper is helpful to avoid redundunt computations and overfitting. It basically stops the train loop if the loss function does not decrease on the validation split for some time.\n",
    "  * Warm up. Warm up slowly increases the learning rate in the begining of the training. This helps to avoid bad influence of not-so-good initialisation and especially helpful for the layers, which need to accumulate statistics, such as BatchNorm. We will use such layers later in the course."
   ]
  },
  {
   "cell_type": "code",
   "execution_count": 48,
   "id": "8cd97811",
   "metadata": {
    "execution": {
     "iopub.execute_input": "2024-05-14T05:55:19.835544Z",
     "iopub.status.busy": "2024-05-14T05:55:19.834637Z",
     "iopub.status.idle": "2024-05-14T05:55:19.846545Z",
     "shell.execute_reply": "2024-05-14T05:55:19.845596Z"
    },
    "id": "8SR4oqH9gAqt",
    "papermill": {
     "duration": 0.054462,
     "end_time": "2024-05-14T05:55:19.848394",
     "exception": false,
     "start_time": "2024-05-14T05:55:19.793932",
     "status": "completed"
    },
    "tags": []
   },
   "outputs": [],
   "source": [
    "## TODO: adopt the train function with the early stopper logic\n",
    "\n",
    "\n",
    "def run_training_early_stopper(model, lr, train_dataloader, epochs, loss_function, val_dataloader, tol, N):\n",
    "    train_losses = []\n",
    "    val_losses = []\n",
    "    best_val_loss = float('inf')\n",
    "    epochs_without_improvement = 0\n",
    "    \n",
    "    for epoch in range(epochs):\n",
    "        train_epoch_loss = 0.0\n",
    "        val_epoch_loss = 0.0\n",
    "        \n",
    "        # Training\n",
    "        for inputs, labels in train_dataloader:\n",
    "            inputs, labels = inputs.to(device), labels.to(device)\n",
    "            optimizer.zero_grad()\n",
    "            outputs = model(inputs)\n",
    "            loss = loss_function(outputs, labels)\n",
    "            loss.backward()\n",
    "            optimizer.step()\n",
    "            train_epoch_loss += loss.item()\n",
    "        \n",
    "        mean_train_loss = train_epoch_loss / len(train_dataloader)\n",
    "        train_losses.append(mean_train_loss)\n",
    "        \n",
    "        # Validation\n",
    "        with torch.no_grad():\n",
    "            for inputs, labels in val_dataloader:\n",
    "                inputs, labels = inputs.to(device), labels.to(device)\n",
    "                model.eval()\n",
    "                outputs = model(inputs)\n",
    "                loss = loss_function(outputs, labels)\n",
    "                val_epoch_loss += loss.item()\n",
    "        \n",
    "        mean_val_loss = val_epoch_loss / len(val_dataloader)\n",
    "        val_losses.append(mean_val_loss)\n",
    "        \n",
    "        # Early stopping logic\n",
    "        if mean_val_loss < best_val_loss - tol:\n",
    "            best_val_loss = mean_val_loss\n",
    "            epochs_without_improvement = 0\n",
    "        else:\n",
    "            epochs_without_improvement += 1\n",
    "            if epochs_without_improvement == N:\n",
    "                print(f\"Validation loss did not improve for {N} epochs. Early stopping...\")\n",
    "                break\n",
    "        \n",
    "        print(f\"Epoch: [{epoch + 1}/{epochs}], Train Loss: {mean_train_loss}, Validation Loss: {mean_val_loss}\")\n",
    "    \n",
    "    return train_losses, val_losses\n"
   ]
  },
  {
   "cell_type": "markdown",
   "id": "840f2373",
   "metadata": {
    "id": "q6XyG1w9iexh",
    "papermill": {
     "duration": 0.039384,
     "end_time": "2024-05-14T05:55:19.928999",
     "exception": false,
     "start_time": "2024-05-14T05:55:19.889615",
     "status": "completed"
    },
    "tags": []
   },
   "source": [
    "### Task\n",
    "Modify the the training function with the early stopper logic.\n",
    "This should stop the training loop if the validation loss function does not improve over $N$ epochs. The improvement is only something, which is better than the $tol$ value, which stays for the tolerance.\n",
    "\n",
    "Use $tol=2$, $N=5$, $num\\_epochs=150$, $lr=0.01$ for the function start.\n",
    "\n",
    "**Question**:\n",
    "* Can $tol=0$? Why?\n",
    "* How many epochs it would really run? Try to change the $lr=0.001$ and $lr=0.0001$ and see when this would stop.\n",
    "* What happens if you increase the tolerance?\n",
    "* What if you increase $N$?"
   ]
  },
  {
   "cell_type": "code",
   "execution_count": 49,
   "id": "a16bbe73",
   "metadata": {
    "execution": {
     "iopub.execute_input": "2024-05-14T05:55:20.012116Z",
     "iopub.status.busy": "2024-05-14T05:55:20.011766Z",
     "iopub.status.idle": "2024-05-14T05:55:36.999556Z",
     "shell.execute_reply": "2024-05-14T05:55:36.998709Z"
    },
    "id": "hMkrEJ4RlazX",
    "papermill": {
     "duration": 17.032255,
     "end_time": "2024-05-14T05:55:37.001923",
     "exception": false,
     "start_time": "2024-05-14T05:55:19.969668",
     "status": "completed"
    },
    "tags": []
   },
   "outputs": [
    {
     "name": "stdout",
     "output_type": "stream",
     "text": [
      "Epoch: [1/150], Train Loss: 1764.7986380614593, Validation Loss: 1831.812026805315\n",
      "Epoch: [2/150], Train Loss: 1757.6319896032721, Validation Loss: 1798.4785185005785\n",
      "Epoch: [3/150], Train Loss: 1750.4073455858588, Validation Loss: 1823.4240365381297\n",
      "Epoch: [4/150], Train Loss: 1743.3055966317124, Validation Loss: 1790.45784310568\n",
      "Epoch: [5/150], Train Loss: 1735.9426450577, Validation Loss: 1800.7926921068288\n",
      "Epoch: [6/150], Train Loss: 1728.6885573778452, Validation Loss: 1806.228799874418\n",
      "Epoch: [7/150], Train Loss: 1721.8914148608221, Validation Loss: 1785.239530637468\n",
      "Epoch: [8/150], Train Loss: 1717.2535989133648, Validation Loss: 1790.2734700375102\n",
      "Epoch: [9/150], Train Loss: 1710.9933818431487, Validation Loss: 1777.9693789423993\n",
      "Epoch: [10/150], Train Loss: 1704.9056429119016, Validation Loss: 1775.8129361295385\n",
      "Epoch: [11/150], Train Loss: 1698.6342784112674, Validation Loss: 1758.1572249155195\n",
      "Epoch: [12/150], Train Loss: 1692.59077744695, Validation Loss: 1743.645387896555\n",
      "Epoch: [13/150], Train Loss: 1687.6177428921198, Validation Loss: 1731.8081326492866\n",
      "Epoch: [14/150], Train Loss: 1681.6480640266097, Validation Loss: 1737.896131535694\n",
      "Epoch: [15/150], Train Loss: 1676.522253387249, Validation Loss: 1730.2364042656486\n",
      "Epoch: [16/150], Train Loss: 1672.3514289517257, Validation Loss: 1731.0984783519039\n",
      "Epoch: [17/150], Train Loss: 1666.784571706741, Validation Loss: 1728.9244713468267\n",
      "Epoch: [18/150], Train Loss: 1661.7882987482385, Validation Loss: 1723.13801912009\n",
      "Epoch: [19/150], Train Loss: 1656.9825976293828, Validation Loss: 1717.7687010295554\n",
      "Epoch: [20/150], Train Loss: 1652.495699732874, Validation Loss: 1719.0024019589412\n",
      "Epoch: [21/150], Train Loss: 1647.7304560358743, Validation Loss: 1698.664471106824\n",
      "Epoch: [22/150], Train Loss: 1643.6854066980477, Validation Loss: 1699.3199641238857\n",
      "Epoch: [23/150], Train Loss: 1639.0151822761247, Validation Loss: 1696.9636350948683\n",
      "Epoch: [24/150], Train Loss: 1635.0409440168294, Validation Loss: 1707.034399045056\n",
      "Epoch: [25/150], Train Loss: 1630.3985869659366, Validation Loss: 1692.9784975161167\n",
      "Epoch: [26/150], Train Loss: 1626.7623552903422, Validation Loss: 1686.8512237987543\n",
      "Epoch: [27/150], Train Loss: 1622.1918329774674, Validation Loss: 1685.9800138564103\n",
      "Epoch: [28/150], Train Loss: 1618.3969881433723, Validation Loss: 1672.5925917201241\n",
      "Epoch: [29/150], Train Loss: 1614.0041817212143, Validation Loss: 1653.7781996237786\n",
      "Epoch: [30/150], Train Loss: 1609.6601455228265, Validation Loss: 1660.0007904758272\n",
      "Epoch: [31/150], Train Loss: 1606.247467561746, Validation Loss: 1659.720926581935\n",
      "Epoch: [32/150], Train Loss: 1603.0508821844944, Validation Loss: 1650.2681850952492\n",
      "Epoch: [33/150], Train Loss: 1598.3367877661155, Validation Loss: 1658.2906776211955\n",
      "Epoch: [34/150], Train Loss: 1594.2066198729206, Validation Loss: 1645.7037354216172\n",
      "Epoch: [35/150], Train Loss: 1590.8677091290492, Validation Loss: 1641.6011765354676\n",
      "Epoch: [36/150], Train Loss: 1587.6488203112217, Validation Loss: 1642.4822435314982\n",
      "Epoch: [37/150], Train Loss: 1582.6680310095762, Validation Loss: 1638.620915110098\n",
      "Epoch: [38/150], Train Loss: 1580.1239421092803, Validation Loss: 1635.7452443677253\n",
      "Epoch: [39/150], Train Loss: 1575.8084716519231, Validation Loss: 1641.0007340288755\n",
      "Epoch: [40/150], Train Loss: 1573.068520250063, Validation Loss: 1619.8198335524653\n",
      "Epoch: [41/150], Train Loss: 1568.9398597637758, Validation Loss: 1609.8252206052007\n",
      "Epoch: [42/150], Train Loss: 1564.6596456635734, Validation Loss: 1618.3813230294545\n",
      "Epoch: [43/150], Train Loss: 1562.2147161567902, Validation Loss: 1630.3132926761823\n",
      "Epoch: [44/150], Train Loss: 1558.6753624997505, Validation Loss: 1630.1400711975439\n",
      "Epoch: [45/150], Train Loss: 1555.0112777529662, Validation Loss: 1620.122667919101\n",
      "Epoch: [46/150], Train Loss: 1552.5343167105193, Validation Loss: 1595.5762344630118\n",
      "Epoch: [47/150], Train Loss: 1548.8264558567846, Validation Loss: 1597.3563723130953\n",
      "Epoch: [48/150], Train Loss: 1545.7428946733964, Validation Loss: 1593.402655606178\n",
      "Epoch: [49/150], Train Loss: 1542.6960449598055, Validation Loss: 1591.7839395780081\n",
      "Epoch: [50/150], Train Loss: 1538.73802339503, Validation Loss: 1582.9234619788701\n",
      "Epoch: [51/150], Train Loss: 1535.2189968224768, Validation Loss: 1585.7345046702235\n",
      "Epoch: [52/150], Train Loss: 1532.2590744386227, Validation Loss: 1595.5797919409076\n",
      "Epoch: [53/150], Train Loss: 1528.9166927126464, Validation Loss: 1595.565351973103\n",
      "Epoch: [54/150], Train Loss: 1526.3894163365483, Validation Loss: 1571.5117182710987\n",
      "Epoch: [55/150], Train Loss: 1523.2507007225822, Validation Loss: 1575.6037470856122\n",
      "Epoch: [56/150], Train Loss: 1520.2679218714077, Validation Loss: 1563.7835095627263\n",
      "Epoch: [57/150], Train Loss: 1516.3251355655407, Validation Loss: 1564.3805756289414\n",
      "Epoch: [58/150], Train Loss: 1514.138697107165, Validation Loss: 1569.501872012387\n",
      "Epoch: [59/150], Train Loss: 1510.686461618147, Validation Loss: 1570.2092666988876\n",
      "Epoch: [60/150], Train Loss: 1507.4719936511938, Validation Loss: 1563.8922072452317\n",
      "Validation loss did not improve for 5 epochs. Early stopping...\n",
      "Epoch: [1/150], Train Loss: 1501.4466971874267, Validation Loss: 1558.1891499057222\n",
      "Epoch: [2/150], Train Loss: 1497.7371521546397, Validation Loss: 1548.9585669923574\n",
      "Epoch: [3/150], Train Loss: 1494.878236805149, Validation Loss: 1556.5555312611236\n",
      "Epoch: [4/150], Train Loss: 1491.4218267038702, Validation Loss: 1543.158185300562\n",
      "Epoch: [5/150], Train Loss: 1488.6793549641195, Validation Loss: 1538.3917366251228\n",
      "Epoch: [6/150], Train Loss: 1486.2384225524306, Validation Loss: 1544.1287069806956\n",
      "Epoch: [7/150], Train Loss: 1482.9106037347408, Validation Loss: 1549.527271088879\n",
      "Epoch: [8/150], Train Loss: 1479.6842757453874, Validation Loss: 1533.2102958247233\n",
      "Epoch: [9/150], Train Loss: 1477.4469263708475, Validation Loss: 1529.1851749101554\n",
      "Epoch: [10/150], Train Loss: 1473.9143134068186, Validation Loss: 1540.6443700278\n",
      "Epoch: [11/150], Train Loss: 1470.969932654768, Validation Loss: 1540.0651687322375\n",
      "Epoch: [12/150], Train Loss: 1468.3650007195686, Validation Loss: 1509.3987320381934\n",
      "Epoch: [13/150], Train Loss: 1465.4596495923513, Validation Loss: 1539.5564367424954\n",
      "Epoch: [14/150], Train Loss: 1462.9187089052964, Validation Loss: 1512.3381357364265\n",
      "Epoch: [15/150], Train Loss: 1459.8918499131732, Validation Loss: 1511.6305352397696\n",
      "Epoch: [16/150], Train Loss: 1457.1024667455283, Validation Loss: 1513.7813665068586\n",
      "Epoch: [17/150], Train Loss: 1453.625055271416, Validation Loss: 1506.4322175437203\n",
      "Epoch: [18/150], Train Loss: 1450.6197104094604, Validation Loss: 1503.4346062865502\n",
      "Epoch: [19/150], Train Loss: 1447.940456935236, Validation Loss: 1499.8443010685867\n",
      "Epoch: [20/150], Train Loss: 1446.0971861320882, Validation Loss: 1513.9713831614838\n",
      "Epoch: [21/150], Train Loss: 1443.4519249209736, Validation Loss: 1502.4657658714611\n",
      "Epoch: [22/150], Train Loss: 1440.4283428636097, Validation Loss: 1504.9605379106288\n",
      "Epoch: [23/150], Train Loss: 1437.3202952546749, Validation Loss: 1501.282752658574\n",
      "Validation loss did not improve for 5 epochs. Early stopping...\n"
     ]
    }
   ],
   "source": [
    "## TODO: Train models with early stopping with the different learning rates\n",
    "LR=[0.001,0.0001]\n",
    "train_loss = []\n",
    "val_loss=[]\n",
    "for lr in LR:\n",
    "    train_losses,val_losses=run_training_early_stopper(model,lr,train_dataloader,150,loss_function,val_dataloader,2,5)\n",
    "    train_loss.append(train_losses)\n",
    "    val_loss.append(val_losses)\n",
    "    \n",
    "\n",
    "    "
   ]
  },
  {
   "cell_type": "code",
   "execution_count": 50,
   "id": "afca0353",
   "metadata": {
    "execution": {
     "iopub.execute_input": "2024-05-14T05:55:37.093685Z",
     "iopub.status.busy": "2024-05-14T05:55:37.093317Z",
     "iopub.status.idle": "2024-05-14T05:55:37.510406Z",
     "shell.execute_reply": "2024-05-14T05:55:37.509481Z"
    },
    "id": "h0uGa5WdmCuD",
    "outputId": "e8515cfd-4abf-49a3-d8e9-423f5ef3269d",
    "papermill": {
     "duration": 0.46463,
     "end_time": "2024-05-14T05:55:37.512381",
     "exception": false,
     "start_time": "2024-05-14T05:55:37.047751",
     "status": "completed"
    },
    "tags": []
   },
   "outputs": [
    {
     "data": {
      "image/png": "[encoded data removed]",
      "text/plain": [
       "<Figure size 1500x1100 with 1 Axes>"
      ]
     },
     "metadata": {},
     "output_type": "display_data"
    }
   ],
   "source": [
    "## TODO: Visualize the results. What do you see and why?\n",
    "plot_training_validation_curves(train_loss,val_loss,LR)\n"
   ]
  },
  {
   "cell_type": "markdown",
   "id": "01b9ab32",
   "metadata": {
    "id": "_U3Oq0LdfwnP",
    "papermill": {
     "duration": 0.0452,
     "end_time": "2024-05-14T05:55:37.602101",
     "exception": false,
     "start_time": "2024-05-14T05:55:37.556901",
     "status": "completed"
    },
    "tags": []
   },
   "source": [
    "## Now lets try to explore the impact of the batch size"
   ]
  },
  {
   "cell_type": "markdown",
   "id": "84e2e77d",
   "metadata": {
    "id": "rFDbCemcpoBD",
    "papermill": {
     "duration": 0.045731,
     "end_time": "2024-05-14T05:55:37.693555",
     "exception": false,
     "start_time": "2024-05-14T05:55:37.647824",
     "status": "completed"
    },
    "tags": []
   },
   "source": [
    "**Task:** Fix $num\\_epochs = 150$ and $lr = 0.001$ and try to change the batch size using values $[2, 4, 32, 128, 1024]$ for the batch size.\n",
    "* What impact the batch size have? Why?"
   ]
  },
  {
   "cell_type": "code",
   "execution_count": 51,
   "id": "82d44ec3",
   "metadata": {
    "execution": {
     "iopub.execute_input": "2024-05-14T05:55:37.786830Z",
     "iopub.status.busy": "2024-05-14T05:55:37.785784Z",
     "iopub.status.idle": "2024-05-14T06:23:24.680175Z",
     "shell.execute_reply": "2024-05-14T06:23:24.679264Z"
    },
    "id": "hIE0DbRTfJvE",
    "papermill": {
     "duration": 1666.943193,
     "end_time": "2024-05-14T06:23:24.682291",
     "exception": false,
     "start_time": "2024-05-14T05:55:37.739098",
     "status": "completed"
    },
    "tags": []
   },
   "outputs": [
    {
     "name": "stdout",
     "output_type": "stream",
     "text": [
      "Epoch:  [1/150], Loss: 431.8356394422861 Validation Loss: 382.67055723559133\n",
      "Epoch:  [2/150], Loss: 357.1022465878894 Validation Loss: 370.33367147230496\n",
      "Epoch:  [3/150], Loss: 349.37540938546226 Validation Loss: 360.43280222897073\n",
      "Epoch:  [4/150], Loss: 344.779858344258 Validation Loss: 362.58398493345146\n",
      "Epoch:  [5/150], Loss: 341.8686275420652 Validation Loss: 357.18863166475137\n",
      "Epoch:  [6/150], Loss: 339.5023372397046 Validation Loss: 363.39702680410585\n",
      "Epoch:  [7/150], Loss: 336.41828862651755 Validation Loss: 356.8192421839795\n",
      "Epoch:  [8/150], Loss: 334.97266905515585 Validation Loss: 372.7398574148329\n",
      "Epoch:  [9/150], Loss: 333.47116748342773 Validation Loss: 347.8915317208187\n",
      "Epoch:  [10/150], Loss: 332.91382569790363 Validation Loss: 351.2840852815432\n",
      "Epoch:  [11/150], Loss: 331.19278186593164 Validation Loss: 346.31920939282116\n",
      "Epoch:  [12/150], Loss: 331.23381832293205 Validation Loss: 349.758611017407\n",
      "Epoch:  [13/150], Loss: 329.3798713130112 Validation Loss: 359.01549199114504\n",
      "Epoch:  [14/150], Loss: 328.7804051654753 Validation Loss: 342.14840682360943\n",
      "Epoch:  [15/150], Loss: 328.34615067253264 Validation Loss: 371.8574487253629\n",
      "Epoch:  [16/150], Loss: 326.7718411348735 Validation Loss: 343.5526804591185\n",
      "Epoch:  [17/150], Loss: 327.0294527819758 Validation Loss: 355.04922034417206\n",
      "Epoch:  [18/150], Loss: 326.6398337291322 Validation Loss: 344.5163138251989\n",
      "Epoch:  [19/150], Loss: 327.2583536085816 Validation Loss: 343.6735449436259\n",
      "Epoch:  [20/150], Loss: 325.6984951887676 Validation Loss: 357.38355052775864\n",
      "Epoch:  [21/150], Loss: 326.0770188285041 Validation Loss: 343.9989626815609\n",
      "Epoch:  [22/150], Loss: 325.2978556702288 Validation Loss: 351.1831854842129\n",
      "Epoch:  [23/150], Loss: 325.2871358981962 Validation Loss: 351.6545659408103\n",
      "Epoch:  [24/150], Loss: 325.92510728751427 Validation Loss: 337.9787258460106\n",
      "Epoch:  [25/150], Loss: 325.0687426377681 Validation Loss: 341.02551169805105\n",
      "Epoch:  [26/150], Loss: 324.9614262956441 Validation Loss: 345.85397903639944\n",
      "Epoch:  [27/150], Loss: 325.04895983183343 Validation Loss: 342.9979856120499\n",
      "Epoch:  [28/150], Loss: 324.4781450215986 Validation Loss: 335.66429908064134\n",
      "Epoch:  [29/150], Loss: 324.8758854088715 Validation Loss: 343.9458868175321\n",
      "Epoch:  [30/150], Loss: 323.68219692194197 Validation Loss: 341.74472900101006\n",
      "Epoch:  [31/150], Loss: 322.3742135118728 Validation Loss: 346.22085370595846\n",
      "Epoch:  [32/150], Loss: 324.47318841205066 Validation Loss: 336.3721922251195\n",
      "Epoch:  [33/150], Loss: 324.2058309999589 Validation Loss: 336.99206225157843\n",
      "Epoch:  [34/150], Loss: 322.8471089768455 Validation Loss: 342.68328501057005\n",
      "Epoch:  [35/150], Loss: 323.2569318980855 Validation Loss: 344.2973652104761\n",
      "Epoch:  [36/150], Loss: 323.21312934084193 Validation Loss: 335.1628887842865\n",
      "Epoch:  [37/150], Loss: 323.2156220503462 Validation Loss: 355.33417772332945\n",
      "Epoch:  [38/150], Loss: 323.4527879721472 Validation Loss: 335.5018906716222\n",
      "Epoch:  [39/150], Loss: 323.4019339651667 Validation Loss: 349.5131398082631\n",
      "Epoch:  [40/150], Loss: 323.1959720057259 Validation Loss: 353.2574072107041\n",
      "Epoch:  [41/150], Loss: 322.43323621318154 Validation Loss: 340.4273672575433\n",
      "Epoch:  [42/150], Loss: 322.2025369277958 Validation Loss: 342.97680045933475\n",
      "Epoch:  [43/150], Loss: 322.4749658003977 Validation Loss: 341.6295071277241\n",
      "Epoch:  [44/150], Loss: 322.0418433058629 Validation Loss: 345.29498814259125\n",
      "Epoch:  [45/150], Loss: 321.9883382835673 Validation Loss: 356.7816353981556\n",
      "Epoch:  [46/150], Loss: 322.93825160714874 Validation Loss: 334.7086472382979\n",
      "Epoch:  [47/150], Loss: 322.2319170410986 Validation Loss: 339.3308942783728\n",
      "Epoch:  [48/150], Loss: 322.42071209029456 Validation Loss: 340.03345158250943\n",
      "Epoch:  [49/150], Loss: 322.5560552601373 Validation Loss: 334.73884748789675\n",
      "Epoch:  [50/150], Loss: 321.7640000465304 Validation Loss: 345.53299930902693\n",
      "Epoch:  [51/150], Loss: 322.6079524898089 Validation Loss: 339.1310910189729\n",
      "Epoch:  [52/150], Loss: 321.8090464813706 Validation Loss: 347.57031858334796\n",
      "Epoch:  [53/150], Loss: 322.55540563636697 Validation Loss: 362.4467727511928\n",
      "Epoch:  [54/150], Loss: 321.9155235595642 Validation Loss: 350.5733666296993\n",
      "Epoch:  [55/150], Loss: 322.0952008445376 Validation Loss: 339.38603833028577\n",
      "Epoch:  [56/150], Loss: 321.8612165552525 Validation Loss: 340.2384151878338\n",
      "Epoch:  [57/150], Loss: 321.8967014947812 Validation Loss: 356.97917879396584\n",
      "Epoch:  [58/150], Loss: 322.23403811753695 Validation Loss: 340.78233507106637\n",
      "Epoch:  [59/150], Loss: 321.59025379285936 Validation Loss: 337.1624100692331\n",
      "Epoch:  [60/150], Loss: 322.27618826693725 Validation Loss: 335.9274764587389\n",
      "Epoch:  [61/150], Loss: 320.3014040329565 Validation Loss: 337.3849240073251\n",
      "Epoch:  [62/150], Loss: 321.5892444985011 Validation Loss: 338.65058874640226\n",
      "Epoch:  [63/150], Loss: 322.1360331631065 Validation Loss: 333.4226145192007\n",
      "Epoch:  [64/150], Loss: 321.7765432501192 Validation Loss: 333.531370978756\n",
      "Epoch:  [65/150], Loss: 322.2131430724428 Validation Loss: 345.7629570351123\n",
      "Epoch:  [66/150], Loss: 321.20853133626514 Validation Loss: 351.51831293568847\n",
      "Epoch:  [67/150], Loss: 322.1824044447579 Validation Loss: 336.1323948241489\n",
      "Epoch:  [68/150], Loss: 321.8534061959111 Validation Loss: 340.1728155668317\n",
      "Epoch:  [69/150], Loss: 321.7756237055281 Validation Loss: 339.36363505407354\n",
      "Epoch:  [70/150], Loss: 322.35816535261216 Validation Loss: 338.87163358960225\n",
      "Epoch:  [71/150], Loss: 322.0394889991712 Validation Loss: 336.79484487180855\n",
      "Epoch:  [72/150], Loss: 321.49716293753454 Validation Loss: 333.4224731316574\n",
      "Epoch:  [73/150], Loss: 321.4953559040401 Validation Loss: 336.38583011607966\n",
      "Epoch:  [74/150], Loss: 322.1824041565373 Validation Loss: 332.8527084823172\n",
      "Epoch:  [75/150], Loss: 321.28733032126144 Validation Loss: 367.04622568478555\n",
      "Epoch:  [76/150], Loss: 321.1606198978315 Validation Loss: 334.44778099590314\n",
      "Epoch:  [77/150], Loss: 322.8401316314925 Validation Loss: 335.04462179722265\n",
      "Epoch:  [78/150], Loss: 320.5914752760822 Validation Loss: 333.6012260954665\n",
      "Epoch:  [79/150], Loss: 321.86046732720513 Validation Loss: 341.8302477955576\n",
      "Epoch:  [80/150], Loss: 321.09895674315646 Validation Loss: 340.90651060076834\n",
      "Epoch:  [81/150], Loss: 321.883763639015 Validation Loss: 340.95830586620013\n",
      "Epoch:  [82/150], Loss: 321.5248438769526 Validation Loss: 338.10046658264474\n",
      "Epoch:  [83/150], Loss: 322.04953592442746 Validation Loss: 345.67513101397793\n",
      "Epoch:  [84/150], Loss: 320.96829523796237 Validation Loss: 331.9606909851226\n",
      "Epoch:  [85/150], Loss: 321.2347154528592 Validation Loss: 338.4085030184026\n",
      "Epoch:  [86/150], Loss: 321.3973070527203 Validation Loss: 332.21141540078975\n",
      "Epoch:  [87/150], Loss: 321.66449784635387 Validation Loss: 334.76155673541336\n",
      "Epoch:  [88/150], Loss: 321.57339741240327 Validation Loss: 330.9036027214119\n",
      "Epoch:  [89/150], Loss: 321.85316444224964 Validation Loss: 337.24717059192596\n",
      "Epoch:  [90/150], Loss: 321.3320834879638 Validation Loss: 334.7673470729221\n",
      "Epoch:  [91/150], Loss: 321.40441344127936 Validation Loss: 333.31162806889864\n",
      "Epoch:  [92/150], Loss: 320.88392590436393 Validation Loss: 333.2842787107339\n",
      "Epoch:  [93/150], Loss: 320.65021188868985 Validation Loss: 333.3021001466386\n",
      "Epoch:  [94/150], Loss: 320.7215903616522 Validation Loss: 343.96317082469426\n",
      "Epoch:  [95/150], Loss: 320.29815648598503 Validation Loss: 339.2426069658156\n",
      "Epoch:  [96/150], Loss: 321.384574324289 Validation Loss: 333.0113398919416\n",
      "Epoch:  [97/150], Loss: 321.2040705271975 Validation Loss: 331.72718550676825\n",
      "Epoch:  [98/150], Loss: 322.012428632601 Validation Loss: 343.5965859837549\n",
      "Epoch:  [99/150], Loss: 321.30609511885615 Validation Loss: 334.2221751285101\n",
      "Epoch:  [100/150], Loss: 319.97913418816506 Validation Loss: 336.8254414599428\n",
      "Epoch:  [101/150], Loss: 320.77804373210233 Validation Loss: 342.0828959509298\n",
      "Epoch:  [102/150], Loss: 321.1923353682661 Validation Loss: 335.9974131846609\n",
      "Epoch:  [103/150], Loss: 321.32872906337104 Validation Loss: 334.9329131544754\n",
      "Epoch:  [104/150], Loss: 321.0576987393976 Validation Loss: 345.2685915996106\n",
      "Epoch:  [105/150], Loss: 322.0782626302649 Validation Loss: 367.0605560180387\n",
      "Epoch:  [106/150], Loss: 320.8302453783737 Validation Loss: 337.0996876325603\n",
      "Epoch:  [107/150], Loss: 320.5841935491639 Validation Loss: 336.780296570069\n",
      "Epoch:  [108/150], Loss: 321.09507012177176 Validation Loss: 347.22787677362874\n",
      "Epoch:  [109/150], Loss: 320.2933900514689 Validation Loss: 336.1577897288689\n",
      "Epoch:  [110/150], Loss: 320.64292059200125 Validation Loss: 338.4318389830955\n",
      "Epoch:  [111/150], Loss: 320.8632781998038 Validation Loss: 339.60968708866403\n",
      "Epoch:  [112/150], Loss: 321.352369426897 Validation Loss: 348.84185409914926\n",
      "Epoch:  [113/150], Loss: 321.2686482089923 Validation Loss: 344.2957703400141\n",
      "Epoch:  [114/150], Loss: 321.4508032671876 Validation Loss: 334.6196924186762\n",
      "Epoch:  [115/150], Loss: 321.14192253138583 Validation Loss: 333.85186449410435\n",
      "Epoch:  [116/150], Loss: 320.85769134735864 Validation Loss: 362.2438024471372\n",
      "Epoch:  [117/150], Loss: 320.97321819831143 Validation Loss: 337.644869949829\n",
      "Epoch:  [118/150], Loss: 321.2668356336375 Validation Loss: 337.97485330726465\n",
      "Epoch:  [119/150], Loss: 321.2527177174777 Validation Loss: 343.30952126172116\n",
      "Epoch:  [120/150], Loss: 321.1248948664172 Validation Loss: 336.824168660715\n",
      "Epoch:  [121/150], Loss: 321.02948267521066 Validation Loss: 346.9943565587422\n",
      "Epoch:  [122/150], Loss: 320.7126883540305 Validation Loss: 369.3925666392774\n",
      "Epoch:  [123/150], Loss: 321.38553990045335 Validation Loss: 338.5152394611498\n",
      "Epoch:  [124/150], Loss: 320.5383118501759 Validation Loss: 341.2912841415422\n",
      "Epoch:  [125/150], Loss: 321.22982329257474 Validation Loss: 331.67823091367495\n",
      "Epoch:  [126/150], Loss: 321.21563234030396 Validation Loss: 336.0229772084154\n",
      "Epoch:  [127/150], Loss: 320.54546455293706 Validation Loss: 349.9434403486912\n",
      "Epoch:  [128/150], Loss: 320.78336125841565 Validation Loss: 339.87060217547986\n",
      "Epoch:  [129/150], Loss: 320.20581441047005 Validation Loss: 346.56211517117373\n",
      "Epoch:  [130/150], Loss: 321.04475338745715 Validation Loss: 343.1222861373299\n",
      "Epoch:  [131/150], Loss: 320.6960095900383 Validation Loss: 343.00604345550994\n",
      "Epoch:  [132/150], Loss: 321.09590640624975 Validation Loss: 335.8354161811404\n",
      "Epoch:  [133/150], Loss: 320.85173622001696 Validation Loss: 332.31547581924883\n",
      "Epoch:  [134/150], Loss: 321.04287760658735 Validation Loss: 341.1502453317339\n",
      "Epoch:  [135/150], Loss: 320.5567612583206 Validation Loss: 343.0842183056958\n",
      "Epoch:  [136/150], Loss: 320.6473969350569 Validation Loss: 340.22267980152105\n",
      "Epoch:  [137/150], Loss: 321.61075785264114 Validation Loss: 333.6842264935145\n",
      "Epoch:  [138/150], Loss: 321.16843692923794 Validation Loss: 365.55692158827264\n",
      "Epoch:  [139/150], Loss: 321.5725932213808 Validation Loss: 348.99148797792566\n",
      "Epoch:  [140/150], Loss: 320.9561931496599 Validation Loss: 340.6481209014647\n",
      "Epoch:  [141/150], Loss: 320.31733447483805 Validation Loss: 341.1518339662521\n",
      "Epoch:  [142/150], Loss: 320.74446833236976 Validation Loss: 333.8561240830042\n",
      "Epoch:  [143/150], Loss: 320.15986751220123 Validation Loss: 332.02743412627\n",
      "Epoch:  [144/150], Loss: 320.42267827013416 Validation Loss: 337.4444457259968\n",
      "Epoch:  [145/150], Loss: 320.56432413324836 Validation Loss: 337.0624086973188\n",
      "Epoch:  [146/150], Loss: 320.627804687654 Validation Loss: 340.25195694667144\n",
      "Epoch:  [147/150], Loss: 320.89864836448766 Validation Loss: 335.0923416380662\n",
      "Epoch:  [148/150], Loss: 321.89458444371587 Validation Loss: 336.68352410113204\n",
      "Epoch:  [149/150], Loss: 321.4169340501268 Validation Loss: 332.7913154916892\n",
      "Epoch:  [150/150], Loss: 320.97297367601874 Validation Loss: 335.9538369047908\n",
      "Epoch:  [1/150], Loss: 484.0619545624301 Validation Loss: 390.0685289308846\n",
      "Epoch:  [2/150], Loss: 360.87644272836667 Validation Loss: 379.5434108949172\n",
      "Epoch:  [3/150], Loss: 352.4490754224811 Validation Loss: 369.62936926712536\n",
      "Epoch:  [4/150], Loss: 348.24639550492566 Validation Loss: 363.3234556335962\n",
      "Epoch:  [5/150], Loss: 344.3332768427258 Validation Loss: 360.84935554723137\n",
      "Epoch:  [6/150], Loss: 341.0551455125104 Validation Loss: 358.36433034022025\n",
      "Epoch:  [7/150], Loss: 340.0551116952898 Validation Loss: 361.4283974712262\n",
      "Epoch:  [8/150], Loss: 338.3107366943233 Validation Loss: 354.7365108717818\n",
      "Epoch:  [9/150], Loss: 337.096360063295 Validation Loss: 354.17475862707084\n",
      "Epoch:  [10/150], Loss: 335.2336169244951 Validation Loss: 353.92443240258734\n",
      "Epoch:  [11/150], Loss: 333.71955187684983 Validation Loss: 356.9643424700188\n",
      "Epoch:  [12/150], Loss: 332.74411383953407 Validation Loss: 355.1436270315904\n",
      "Epoch:  [13/150], Loss: 331.8156082516216 Validation Loss: 348.7908948201306\n",
      "Epoch:  [14/150], Loss: 330.7732058888671 Validation Loss: 353.1323661902772\n",
      "Epoch:  [15/150], Loss: 330.02599187266014 Validation Loss: 356.5188496145984\n",
      "Epoch:  [16/150], Loss: 328.9826328135469 Validation Loss: 349.4371440103155\n",
      "Epoch:  [17/150], Loss: 328.39874862704977 Validation Loss: 347.9858492719512\n",
      "Epoch:  [18/150], Loss: 327.7197354475203 Validation Loss: 347.0504004355496\n",
      "Epoch:  [19/150], Loss: 326.90687611243436 Validation Loss: 352.2602053567071\n",
      "Epoch:  [20/150], Loss: 326.3308695546761 Validation Loss: 348.1188341562584\n",
      "Epoch:  [21/150], Loss: 325.98716316559694 Validation Loss: 353.16086568672307\n",
      "Epoch:  [22/150], Loss: 325.6041983694403 Validation Loss: 348.42649201576\n",
      "Epoch:  [23/150], Loss: 324.0503479177551 Validation Loss: 353.5083856506318\n",
      "Epoch:  [24/150], Loss: 324.70387778957206 Validation Loss: 345.9141313044952\n",
      "Epoch:  [25/150], Loss: 324.3427042412786 Validation Loss: 343.62573142112376\n",
      "Epoch:  [26/150], Loss: 323.6378270753755 Validation Loss: 353.05362515752586\n",
      "Epoch:  [27/150], Loss: 323.729870972223 Validation Loss: 343.61272644369654\n",
      "Epoch:  [28/150], Loss: 323.257664793926 Validation Loss: 346.8048893562314\n",
      "Epoch:  [29/150], Loss: 322.9822894223139 Validation Loss: 339.40421368937047\n",
      "Epoch:  [30/150], Loss: 322.76675659570225 Validation Loss: 345.1243061777655\n",
      "Epoch:  [31/150], Loss: 322.80661092198216 Validation Loss: 343.042761669258\n",
      "Epoch:  [32/150], Loss: 321.7670451075349 Validation Loss: 364.3955943065416\n",
      "Epoch:  [33/150], Loss: 322.1029576101083 Validation Loss: 345.07120210848694\n",
      "Epoch:  [34/150], Loss: 321.35109548448486 Validation Loss: 344.29242398835856\n",
      "Epoch:  [35/150], Loss: 321.55408922425613 Validation Loss: 339.48046480821046\n",
      "Epoch:  [36/150], Loss: 321.22719192197405 Validation Loss: 342.7823534965129\n",
      "Epoch:  [37/150], Loss: 321.9996121818252 Validation Loss: 343.43674002689215\n",
      "Epoch:  [38/150], Loss: 321.27363759581937 Validation Loss: 341.66729216329895\n",
      "Epoch:  [39/150], Loss: 321.39916809029006 Validation Loss: 337.4110274422059\n",
      "Epoch:  [40/150], Loss: 320.5293341844045 Validation Loss: 338.67681331729904\n",
      "Epoch:  [41/150], Loss: 320.28230864853913 Validation Loss: 336.1851531058325\n",
      "Epoch:  [42/150], Loss: 320.3448845792201 Validation Loss: 340.99417015597487\n",
      "Epoch:  [43/150], Loss: 319.9791480480639 Validation Loss: 344.2365419825922\n",
      "Epoch:  [44/150], Loss: 319.9879544238589 Validation Loss: 343.5833813903652\n",
      "Epoch:  [45/150], Loss: 319.5439603162326 Validation Loss: 336.8996095328747\n",
      "Epoch:  [46/150], Loss: 319.77814792709523 Validation Loss: 340.3604991232789\n",
      "Epoch:  [47/150], Loss: 319.28726917075926 Validation Loss: 337.303869707718\n",
      "Epoch:  [48/150], Loss: 319.2148471785292 Validation Loss: 351.30506200705776\n",
      "Epoch:  [49/150], Loss: 319.70680803652226 Validation Loss: 336.86043925134044\n",
      "Epoch:  [50/150], Loss: 319.5875602992116 Validation Loss: 354.7004419062812\n",
      "Epoch:  [51/150], Loss: 319.6461213870183 Validation Loss: 336.7100224782721\n",
      "Epoch:  [52/150], Loss: 319.1209665872643 Validation Loss: 339.0957945956749\n",
      "Epoch:  [53/150], Loss: 318.85712774762305 Validation Loss: 336.1103995779099\n",
      "Epoch:  [54/150], Loss: 318.3162050361888 Validation Loss: 348.50877522568726\n",
      "Epoch:  [55/150], Loss: 318.62711456552876 Validation Loss: 347.52889900702667\n",
      "Epoch:  [56/150], Loss: 318.5941410027404 Validation Loss: 338.37158309395494\n",
      "Epoch:  [57/150], Loss: 318.09528934287687 Validation Loss: 334.53671296562095\n",
      "Epoch:  [58/150], Loss: 318.4612848001169 Validation Loss: 344.49525772261114\n",
      "Epoch:  [59/150], Loss: 318.7949515205709 Validation Loss: 337.7528318379417\n",
      "Epoch:  [60/150], Loss: 317.86209808716677 Validation Loss: 370.05362741669893\n",
      "Epoch:  [61/150], Loss: 318.51017499381464 Validation Loss: 335.2947336390852\n",
      "Epoch:  [62/150], Loss: 318.4033762712074 Validation Loss: 342.7589444237041\n",
      "Epoch:  [63/150], Loss: 318.9016090883774 Validation Loss: 336.444633905084\n",
      "Epoch:  [64/150], Loss: 318.3656854485322 Validation Loss: 334.56905543807983\n",
      "Epoch:  [65/150], Loss: 317.85378932975675 Validation Loss: 350.08570093912505\n",
      "Epoch:  [66/150], Loss: 318.213673758646 Validation Loss: 336.7872538719645\n",
      "Epoch:  [67/150], Loss: 317.69828088295424 Validation Loss: 336.165676875668\n",
      "Epoch:  [68/150], Loss: 317.87889173234214 Validation Loss: 337.1325560677703\n",
      "Epoch:  [69/150], Loss: 318.33366008508625 Validation Loss: 337.97192604460093\n",
      "Epoch:  [70/150], Loss: 317.5095831106542 Validation Loss: 334.0874361254847\n",
      "Epoch:  [71/150], Loss: 317.48442391246533 Validation Loss: 338.1039147117971\n",
      "Epoch:  [72/150], Loss: 318.43994179464676 Validation Loss: 341.739067194272\n",
      "Epoch:  [73/150], Loss: 317.8891712094976 Validation Loss: 333.07986173577234\n",
      "Epoch:  [74/150], Loss: 317.66116512610733 Validation Loss: 346.6902150325805\n",
      "Epoch:  [75/150], Loss: 317.50707497293496 Validation Loss: 337.01767099183996\n",
      "Epoch:  [76/150], Loss: 317.422838107848 Validation Loss: 332.2185101800648\n",
      "Epoch:  [77/150], Loss: 317.70116205535186 Validation Loss: 339.6353135045799\n",
      "Epoch:  [78/150], Loss: 316.77482976390934 Validation Loss: 334.4487462121531\n",
      "Epoch:  [79/150], Loss: 317.31710399865176 Validation Loss: 337.3672793088388\n",
      "Epoch:  [80/150], Loss: 317.16920376226295 Validation Loss: 334.06120653676675\n",
      "Epoch:  [81/150], Loss: 317.0285390519335 Validation Loss: 353.9812973654172\n",
      "Epoch:  [82/150], Loss: 317.64316206175954 Validation Loss: 336.80309111451885\n",
      "Epoch:  [83/150], Loss: 317.28753291627766 Validation Loss: 336.9605606165086\n",
      "Epoch:  [84/150], Loss: 317.15748754756015 Validation Loss: 333.1899119389766\n",
      "Epoch:  [85/150], Loss: 317.02492607796404 Validation Loss: 337.8204606271675\n",
      "Epoch:  [86/150], Loss: 317.2345372991462 Validation Loss: 346.12292056849947\n",
      "Epoch:  [87/150], Loss: 316.75724839275483 Validation Loss: 335.3406567777637\n",
      "Epoch:  [88/150], Loss: 318.00941200304493 Validation Loss: 343.7912062813226\n",
      "Epoch:  [89/150], Loss: 317.5105579140714 Validation Loss: 334.4875814302483\n",
      "Epoch:  [90/150], Loss: 316.9117855689589 Validation Loss: 336.320393392246\n",
      "Epoch:  [91/150], Loss: 316.9928242612791 Validation Loss: 336.969609144673\n",
      "Epoch:  [92/150], Loss: 316.9774551922908 Validation Loss: 335.041379616323\n",
      "Epoch:  [93/150], Loss: 316.4680383621899 Validation Loss: 341.57806170780543\n",
      "Epoch:  [94/150], Loss: 317.0851398669898 Validation Loss: 334.8314594826178\n",
      "Epoch:  [95/150], Loss: 316.7876241977078 Validation Loss: 332.7033589254022\n",
      "Epoch:  [96/150], Loss: 316.55744796662617 Validation Loss: 334.47814529918674\n",
      "Epoch:  [97/150], Loss: 317.7170002477465 Validation Loss: 334.72176700839753\n",
      "Epoch:  [98/150], Loss: 317.1571115298617 Validation Loss: 336.5743703599718\n",
      "Epoch:  [99/150], Loss: 316.50693338260794 Validation Loss: 332.77900535069534\n",
      "Epoch:  [100/150], Loss: 316.2898884391425 Validation Loss: 336.9609555054674\n",
      "Epoch:  [101/150], Loss: 316.40282818165355 Validation Loss: 332.1626163851729\n",
      "Epoch:  [102/150], Loss: 316.6389982907787 Validation Loss: 335.1660802592161\n",
      "Epoch:  [103/150], Loss: 316.5581086978968 Validation Loss: 332.6396070376951\n",
      "Epoch:  [104/150], Loss: 316.62359668084616 Validation Loss: 338.2909876551417\n",
      "Epoch:  [105/150], Loss: 317.16161510183025 Validation Loss: 351.35157839347863\n",
      "Epoch:  [106/150], Loss: 316.4335817827871 Validation Loss: 344.1655202871987\n",
      "Epoch:  [107/150], Loss: 316.8028284323176 Validation Loss: 338.7322151368413\n",
      "Epoch:  [108/150], Loss: 316.7427608454539 Validation Loss: 337.86001232466396\n",
      "Epoch:  [109/150], Loss: 316.17352731523573 Validation Loss: 336.6648194611481\n",
      "Epoch:  [110/150], Loss: 316.1489057090711 Validation Loss: 333.3517649659327\n",
      "Epoch:  [111/150], Loss: 316.55305456663325 Validation Loss: 337.04528827803557\n",
      "Epoch:  [112/150], Loss: 316.8630411494019 Validation Loss: 331.077608323048\n",
      "Epoch:  [113/150], Loss: 316.48183091961437 Validation Loss: 333.5983649083982\n",
      "Epoch:  [114/150], Loss: 316.38004531161846 Validation Loss: 335.7285151888402\n",
      "Epoch:  [115/150], Loss: 315.94642459647025 Validation Loss: 331.81677267286506\n",
      "Epoch:  [116/150], Loss: 316.80583192840857 Validation Loss: 331.9180706517378\n",
      "Epoch:  [117/150], Loss: 316.6069672628022 Validation Loss: 334.6150840891307\n",
      "Epoch:  [118/150], Loss: 316.38400837900156 Validation Loss: 334.97914447520577\n",
      "Epoch:  [119/150], Loss: 316.9557965434455 Validation Loss: 333.99050543641965\n",
      "Epoch:  [120/150], Loss: 316.44265869862534 Validation Loss: 335.2231170557438\n",
      "Epoch:  [121/150], Loss: 316.16274168186993 Validation Loss: 337.70214484876584\n",
      "Epoch:  [122/150], Loss: 316.13802737164065 Validation Loss: 337.6387341967272\n",
      "Epoch:  [123/150], Loss: 316.4779018668397 Validation Loss: 334.09802219472874\n",
      "Epoch:  [124/150], Loss: 316.45666409712203 Validation Loss: 332.39111140632883\n",
      "Epoch:  [125/150], Loss: 316.09215754132407 Validation Loss: 342.7753352550749\n",
      "Epoch:  [126/150], Loss: 315.7015427550452 Validation Loss: 331.239741315793\n",
      "Epoch:  [127/150], Loss: 316.2256759421984 Validation Loss: 337.2718935730167\n",
      "Epoch:  [128/150], Loss: 316.19228290378487 Validation Loss: 337.2307176710817\n",
      "Epoch:  [129/150], Loss: 315.87069659950083 Validation Loss: 333.2772987065161\n",
      "Epoch:  [130/150], Loss: 316.16721526468586 Validation Loss: 331.6661740587039\n",
      "Epoch:  [131/150], Loss: 315.5486537452352 Validation Loss: 338.738830052992\n",
      "Epoch:  [132/150], Loss: 315.8088609336991 Validation Loss: 335.4032424065355\n",
      "Epoch:  [133/150], Loss: 316.45339202027714 Validation Loss: 347.3501550654103\n",
      "Epoch:  [134/150], Loss: 315.7968469231935 Validation Loss: 334.477428452952\n",
      "Epoch:  [135/150], Loss: 316.54290250277364 Validation Loss: 331.02839088536695\n",
      "Epoch:  [136/150], Loss: 315.69580450008704 Validation Loss: 348.2560605104867\n",
      "Epoch:  [137/150], Loss: 316.56146529395596 Validation Loss: 333.195548154897\n",
      "Epoch:  [138/150], Loss: 316.0800045355199 Validation Loss: 340.2495448867449\n",
      "Epoch:  [139/150], Loss: 316.18696233043124 Validation Loss: 353.5641409583398\n",
      "Epoch:  [140/150], Loss: 315.458267774754 Validation Loss: 354.459280084233\n",
      "Epoch:  [141/150], Loss: 316.07892511422557 Validation Loss: 331.43804280772116\n",
      "Epoch:  [142/150], Loss: 316.358877114974 Validation Loss: 337.16378089083724\n",
      "Epoch:  [143/150], Loss: 316.32695582790546 Validation Loss: 337.4637729577892\n",
      "Epoch:  [144/150], Loss: 316.2476084337737 Validation Loss: 334.2979476983228\n",
      "Epoch:  [145/150], Loss: 315.6502605331907 Validation Loss: 342.0650087748872\n",
      "Epoch:  [146/150], Loss: 316.52871329775246 Validation Loss: 331.57333717474046\n",
      "Epoch:  [147/150], Loss: 315.7195217121044 Validation Loss: 333.03596302557884\n",
      "Epoch:  [148/150], Loss: 315.95583449920144 Validation Loss: 337.4614416889394\n",
      "Epoch:  [149/150], Loss: 316.0520726523767 Validation Loss: 332.2965033106335\n",
      "Epoch:  [150/150], Loss: 315.4461121981113 Validation Loss: 336.9678196795638\n",
      "Epoch:  [1/150], Loss: 1023.5779020486485 Validation Loss: 650.7299186369113\n",
      "Epoch:  [2/150], Loss: 501.2872929584534 Validation Loss: 478.9682695205036\n",
      "Epoch:  [3/150], Loss: 412.87773469017907 Validation Loss: 427.5460058711079\n",
      "Epoch:  [4/150], Loss: 389.40531954358687 Validation Loss: 413.9563105336806\n",
      "Epoch:  [5/150], Loss: 378.9898507990211 Validation Loss: 404.7421141235104\n",
      "Epoch:  [6/150], Loss: 371.90566104964654 Validation Loss: 400.06941626406854\n",
      "Epoch:  [7/150], Loss: 367.37456490581076 Validation Loss: 391.2186799672628\n",
      "Epoch:  [8/150], Loss: 364.02275940171864 Validation Loss: 388.9341748206625\n",
      "Epoch:  [9/150], Loss: 361.45942964076323 Validation Loss: 389.0965171384409\n",
      "Epoch:  [10/150], Loss: 358.8785559349433 Validation Loss: 379.5718775657388\n",
      "Epoch:  [11/150], Loss: 356.717082431372 Validation Loss: 377.28469795404084\n",
      "Epoch:  [12/150], Loss: 355.34079687190524 Validation Loss: 376.3063799376235\n",
      "Epoch:  [13/150], Loss: 354.0668859558953 Validation Loss: 372.83516822423655\n",
      "Epoch:  [14/150], Loss: 353.06488763114294 Validation Loss: 372.5148134255559\n",
      "Epoch:  [15/150], Loss: 351.85074383224156 Validation Loss: 374.4368641418251\n",
      "Epoch:  [16/150], Loss: 350.6036176376376 Validation Loss: 375.02074560201845\n",
      "Epoch:  [17/150], Loss: 350.3288451302912 Validation Loss: 379.29513607629\n",
      "Epoch:  [18/150], Loss: 349.5800838770849 Validation Loss: 366.88779858481655\n",
      "Epoch:  [19/150], Loss: 348.55452778539023 Validation Loss: 365.1339279126211\n",
      "Epoch:  [20/150], Loss: 348.09286709371713 Validation Loss: 365.0541417063152\n",
      "Epoch:  [21/150], Loss: 347.1521383217231 Validation Loss: 368.06755890900484\n",
      "Epoch:  [22/150], Loss: 346.122735255078 Validation Loss: 364.2722722756443\n",
      "Epoch:  [23/150], Loss: 345.6020000456 Validation Loss: 364.88580779598993\n",
      "Epoch:  [24/150], Loss: 344.9403182214866 Validation Loss: 368.3428551367422\n",
      "Epoch:  [25/150], Loss: 344.8746549856697 Validation Loss: 365.0126317743484\n",
      "Epoch:  [26/150], Loss: 343.87279186797576 Validation Loss: 363.964858797828\n",
      "Epoch:  [27/150], Loss: 343.4846329310338 Validation Loss: 377.65046103973134\n",
      "Epoch:  [28/150], Loss: 344.2528798136354 Validation Loss: 365.85264241495605\n",
      "Epoch:  [29/150], Loss: 342.8225317382692 Validation Loss: 359.55144457567445\n",
      "Epoch:  [30/150], Loss: 342.55158441775126 Validation Loss: 361.1003877711614\n",
      "Epoch:  [31/150], Loss: 341.9039473690825 Validation Loss: 361.9252109683959\n",
      "Epoch:  [32/150], Loss: 341.57272310835845 Validation Loss: 364.95628364443616\n",
      "Epoch:  [33/150], Loss: 341.0567408924842 Validation Loss: 365.38045236394\n",
      "Epoch:  [34/150], Loss: 340.78431305120046 Validation Loss: 363.4865442291523\n",
      "Epoch:  [35/150], Loss: 340.31138067411706 Validation Loss: 356.6564164561645\n",
      "Epoch:  [36/150], Loss: 339.9047152140554 Validation Loss: 360.73365236633566\n",
      "Epoch:  [37/150], Loss: 339.5891775985144 Validation Loss: 363.2308532179485\n",
      "Epoch:  [38/150], Loss: 339.0846627177588 Validation Loss: 361.17844047177505\n",
      "Epoch:  [39/150], Loss: 338.5309458329688 Validation Loss: 357.8379720194737\n",
      "Epoch:  [40/150], Loss: 338.3012252341832 Validation Loss: 361.2626063274899\n",
      "Epoch:  [41/150], Loss: 338.1340334436461 Validation Loss: 356.0888740656747\n",
      "Epoch:  [42/150], Loss: 338.06976709384435 Validation Loss: 357.6586858029733\n",
      "Epoch:  [43/150], Loss: 337.2290642509989 Validation Loss: 363.90892654407753\n",
      "Epoch:  [44/150], Loss: 337.33704515208785 Validation Loss: 361.01276335795916\n",
      "Epoch:  [45/150], Loss: 336.7100038412778 Validation Loss: 354.4932331489319\n",
      "Epoch:  [46/150], Loss: 336.42258749811316 Validation Loss: 357.34825497733334\n",
      "Epoch:  [47/150], Loss: 336.27056581606263 Validation Loss: 358.1085128333538\n",
      "Epoch:  [48/150], Loss: 335.87794884423687 Validation Loss: 361.25870141022074\n",
      "Epoch:  [49/150], Loss: 335.61297944456186 Validation Loss: 356.0962187975179\n",
      "Epoch:  [50/150], Loss: 335.58930248449957 Validation Loss: 357.40719981334865\n",
      "Epoch:  [51/150], Loss: 334.9733191589047 Validation Loss: 353.6006579061519\n",
      "Epoch:  [52/150], Loss: 335.32704095867933 Validation Loss: 355.538033273118\n",
      "Epoch:  [53/150], Loss: 334.87907778601607 Validation Loss: 359.1216629654938\n",
      "Epoch:  [54/150], Loss: 334.50004141640426 Validation Loss: 356.99780513092423\n",
      "Epoch:  [55/150], Loss: 334.6201972217031 Validation Loss: 359.3505472994903\n",
      "Epoch:  [56/150], Loss: 334.14236685821 Validation Loss: 353.4004159656054\n",
      "Epoch:  [57/150], Loss: 333.8995651036269 Validation Loss: 358.1719392735172\n",
      "Epoch:  [58/150], Loss: 333.68647134017846 Validation Loss: 358.5147629029217\n",
      "Epoch:  [59/150], Loss: 333.3950476973961 Validation Loss: 355.6282014173158\n",
      "Epoch:  [60/150], Loss: 332.87654648486455 Validation Loss: 359.6804570263587\n",
      "Epoch:  [61/150], Loss: 333.05182978225076 Validation Loss: 358.07373099960233\n",
      "Epoch:  [62/150], Loss: 333.11020073303956 Validation Loss: 354.92560383819443\n",
      "Epoch:  [63/150], Loss: 332.4366306815102 Validation Loss: 348.75274566022574\n",
      "Epoch:  [64/150], Loss: 332.152509144483 Validation Loss: 353.6771818345601\n",
      "Epoch:  [65/150], Loss: 331.9855546607756 Validation Loss: 350.88677061631904\n",
      "Epoch:  [66/150], Loss: 331.85375553055076 Validation Loss: 351.01043796706904\n",
      "Epoch:  [67/150], Loss: 331.64702786577806 Validation Loss: 352.6256762940171\n",
      "Epoch:  [68/150], Loss: 331.4566231634599 Validation Loss: 359.90628036214264\n",
      "Epoch:  [69/150], Loss: 331.1754099824538 Validation Loss: 352.2050735632006\n",
      "Epoch:  [70/150], Loss: 330.7129991294792 Validation Loss: 352.98141530662355\n",
      "Epoch:  [71/150], Loss: 330.7183506389032 Validation Loss: 350.4672203944217\n",
      "Epoch:  [72/150], Loss: 330.96138823459154 Validation Loss: 353.2843720919103\n",
      "Epoch:  [73/150], Loss: 330.68385558011875 Validation Loss: 349.90142417164765\n",
      "Epoch:  [74/150], Loss: 330.62541648818285 Validation Loss: 353.9497126764758\n",
      "Epoch:  [75/150], Loss: 330.13255262158435 Validation Loss: 352.8748028897871\n",
      "Epoch:  [76/150], Loss: 329.9574470098215 Validation Loss: 347.32256216627115\n",
      "Epoch:  [77/150], Loss: 329.6809201747347 Validation Loss: 348.29308345242237\n",
      "Epoch:  [78/150], Loss: 330.0480847279543 Validation Loss: 350.8456315522872\n",
      "Epoch:  [79/150], Loss: 329.51897626770466 Validation Loss: 351.15814692948305\n",
      "Epoch:  [80/150], Loss: 329.2147899732128 Validation Loss: 350.36618856685095\n",
      "Epoch:  [81/150], Loss: 329.12651368576127 Validation Loss: 348.32347998291453\n",
      "Epoch:  [82/150], Loss: 328.75614324953347 Validation Loss: 353.3369401579092\n",
      "Epoch:  [83/150], Loss: 328.92430336325134 Validation Loss: 351.3346076050507\n",
      "Epoch:  [84/150], Loss: 328.8203349428343 Validation Loss: 349.4330987839344\n",
      "Epoch:  [85/150], Loss: 329.2147845431897 Validation Loss: 350.55499614078093\n",
      "Epoch:  [86/150], Loss: 328.4508087920374 Validation Loss: 352.360484295301\n",
      "Epoch:  [87/150], Loss: 328.251334827292 Validation Loss: 349.22567600759965\n",
      "Epoch:  [88/150], Loss: 328.1646021102137 Validation Loss: 347.72823956057863\n",
      "Epoch:  [89/150], Loss: 327.99006075252606 Validation Loss: 348.0406057320031\n",
      "Epoch:  [90/150], Loss: 327.9203941184164 Validation Loss: 346.7698473612374\n",
      "Epoch:  [91/150], Loss: 327.8666216497567 Validation Loss: 348.3693743775646\n",
      "Epoch:  [92/150], Loss: 328.0776981459124 Validation Loss: 354.52050475564414\n",
      "Epoch:  [93/150], Loss: 327.81012332078603 Validation Loss: 347.27045918127726\n",
      "Epoch:  [94/150], Loss: 327.4466737268988 Validation Loss: 350.30700914164004\n",
      "Epoch:  [95/150], Loss: 327.44020526917217 Validation Loss: 348.494460793892\n",
      "Epoch:  [96/150], Loss: 326.9864273122864 Validation Loss: 346.7752449633716\n",
      "Epoch:  [97/150], Loss: 326.82296137744345 Validation Loss: 349.1672775061965\n",
      "Epoch:  [98/150], Loss: 326.99480811396376 Validation Loss: 344.7532648720706\n",
      "Epoch:  [99/150], Loss: 326.7652885133716 Validation Loss: 347.34911126184204\n",
      "Epoch:  [100/150], Loss: 326.9597844487338 Validation Loss: 349.39969847459844\n",
      "Epoch:  [101/150], Loss: 326.9679658306943 Validation Loss: 345.94634513715454\n",
      "Epoch:  [102/150], Loss: 326.1644995983413 Validation Loss: 356.2793959456393\n",
      "Epoch:  [103/150], Loss: 326.69521058038333 Validation Loss: 346.5858606347148\n",
      "Epoch:  [104/150], Loss: 326.1634880897741 Validation Loss: 357.8306141589393\n",
      "Epoch:  [105/150], Loss: 326.5459613574049 Validation Loss: 348.3861509326364\n",
      "Epoch:  [106/150], Loss: 325.85798486715527 Validation Loss: 354.64335106425125\n",
      "Epoch:  [107/150], Loss: 325.88426574678937 Validation Loss: 354.9857054584329\n",
      "Epoch:  [108/150], Loss: 325.77586888076075 Validation Loss: 345.5044387857552\n",
      "Epoch:  [109/150], Loss: 325.4583996460361 Validation Loss: 342.9608665948163\n",
      "Epoch:  [110/150], Loss: 325.4281889010282 Validation Loss: 345.2276402392467\n",
      "Epoch:  [111/150], Loss: 325.6137368568559 Validation Loss: 350.60192488928527\n",
      "Epoch:  [112/150], Loss: 325.7325754637799 Validation Loss: 350.92874253317626\n",
      "Epoch:  [113/150], Loss: 325.24778320021755 Validation Loss: 350.63563910421317\n",
      "Epoch:  [114/150], Loss: 325.2366882287331 Validation Loss: 343.56304865378553\n",
      "Epoch:  [115/150], Loss: 325.2825187809094 Validation Loss: 347.97677325902725\n",
      "Epoch:  [116/150], Loss: 324.72098422154846 Validation Loss: 350.63485268132933\n",
      "Epoch:  [117/150], Loss: 324.9587285047653 Validation Loss: 350.76637864431734\n",
      "Epoch:  [118/150], Loss: 324.4411759538074 Validation Loss: 348.82364857428445\n",
      "Epoch:  [119/150], Loss: 324.7860952536876 Validation Loss: 344.651449572071\n",
      "Epoch:  [120/150], Loss: 324.6824918953453 Validation Loss: 343.45935143267343\n",
      "Epoch:  [121/150], Loss: 324.4919516162008 Validation Loss: 341.7686030777649\n",
      "Epoch:  [122/150], Loss: 324.2028877238527 Validation Loss: 346.6720167968276\n",
      "Epoch:  [123/150], Loss: 324.6161219310344 Validation Loss: 341.58724644576637\n",
      "Epoch:  [124/150], Loss: 324.1382820130507 Validation Loss: 342.96658486837043\n",
      "Epoch:  [125/150], Loss: 324.1463534089314 Validation Loss: 349.1090155946086\n",
      "Epoch:  [126/150], Loss: 323.9587679965261 Validation Loss: 351.69339191907966\n",
      "Epoch:  [127/150], Loss: 323.9478763063828 Validation Loss: 348.9397342271284\n",
      "Epoch:  [128/150], Loss: 323.8252013031284 Validation Loss: 341.61986661159835\n",
      "Epoch:  [129/150], Loss: 323.70291862051556 Validation Loss: 343.1118664276878\n",
      "Epoch:  [130/150], Loss: 323.838942177202 Validation Loss: 343.6684833334403\n",
      "Epoch:  [131/150], Loss: 323.4009379410537 Validation Loss: 346.024145499757\n",
      "Epoch:  [132/150], Loss: 323.5489452998626 Validation Loss: 351.5533257681723\n",
      "Epoch:  [133/150], Loss: 323.061322108149 Validation Loss: 342.7849446777786\n",
      "Epoch:  [134/150], Loss: 323.376292685476 Validation Loss: 344.06403565451177\n",
      "Epoch:  [135/150], Loss: 323.44809259307385 Validation Loss: 341.9706635513281\n",
      "Epoch:  [136/150], Loss: 323.01809294618675 Validation Loss: 345.7146511005398\n",
      "Epoch:  [137/150], Loss: 322.974651614931 Validation Loss: 343.1527011795718\n",
      "Epoch:  [138/150], Loss: 323.10298209785213 Validation Loss: 345.01728714639336\n",
      "Epoch:  [139/150], Loss: 322.87887942218333 Validation Loss: 342.5091685973835\n",
      "Epoch:  [140/150], Loss: 322.7908493850267 Validation Loss: 343.68524830907774\n",
      "Epoch:  [141/150], Loss: 322.78934507870514 Validation Loss: 340.7093323748762\n",
      "Epoch:  [142/150], Loss: 322.6904412424516 Validation Loss: 363.0320609548467\n",
      "Epoch:  [143/150], Loss: 322.7168298640784 Validation Loss: 340.95919241115325\n",
      "Epoch:  [144/150], Loss: 322.3547844765161 Validation Loss: 354.01126359006275\n",
      "Epoch:  [145/150], Loss: 322.9578338481875 Validation Loss: 349.10196795630895\n",
      "Epoch:  [146/150], Loss: 322.72550715541905 Validation Loss: 345.7901132802505\n",
      "Epoch:  [147/150], Loss: 322.37608107597737 Validation Loss: 343.6393607815394\n",
      "Epoch:  [148/150], Loss: 322.37337231275706 Validation Loss: 343.3085643905855\n",
      "Epoch:  [149/150], Loss: 321.84856425148854 Validation Loss: 350.7462036680311\n",
      "Epoch:  [150/150], Loss: 322.0205923756451 Validation Loss: 344.0241932488275\n",
      "Epoch:  [1/150], Loss: 1535.8851861437108 Validation Loss: 1270.7111232892871\n",
      "Epoch:  [2/150], Loss: 1063.6727194777277 Validation Loss: 960.8793854816873\n",
      "Epoch:  [3/150], Loss: 819.1278613672973 Validation Loss: 777.3431288079258\n",
      "Epoch:  [4/150], Loss: 667.5471173101681 Validation Loss: 668.3627674513289\n",
      "Epoch:  [5/150], Loss: 572.5379295227928 Validation Loss: 574.9741631914987\n",
      "Epoch:  [6/150], Loss: 510.87988313428144 Validation Loss: 533.415792957582\n",
      "Epoch:  [7/150], Loss: 471.64014319120145 Validation Loss: 494.8706677071905\n",
      "Epoch:  [8/150], Loss: 445.2475157871247 Validation Loss: 476.4051255549245\n",
      "Epoch:  [9/150], Loss: 427.5917637347157 Validation Loss: 458.9436048596397\n",
      "Epoch:  [10/150], Loss: 415.49714949462094 Validation Loss: 442.8637043206991\n",
      "Epoch:  [11/150], Loss: 406.30531870146825 Validation Loss: 445.6407408029448\n",
      "Epoch:  [12/150], Loss: 400.01794720370344 Validation Loss: 432.3687238690838\n",
      "Epoch:  [13/150], Loss: 394.5672065127047 Validation Loss: 427.27033168674836\n",
      "Epoch:  [14/150], Loss: 391.1027515240673 Validation Loss: 427.0527820089997\n",
      "Epoch:  [15/150], Loss: 387.2840890989702 Validation Loss: 417.88790665859534\n",
      "Epoch:  [16/150], Loss: 384.4963360612866 Validation Loss: 418.3198839635397\n",
      "Epoch:  [17/150], Loss: 381.84338437452806 Validation Loss: 418.8386373966054\n",
      "Epoch:  [18/150], Loss: 379.44165698871217 Validation Loss: 407.176242520925\n",
      "Epoch:  [19/150], Loss: 377.3819315065953 Validation Loss: 402.0589533108058\n",
      "Epoch:  [20/150], Loss: 375.62583121189124 Validation Loss: 399.6497068886233\n",
      "Epoch:  [21/150], Loss: 374.4703776933111 Validation Loss: 401.64393552911713\n",
      "Epoch:  [22/150], Loss: 372.3113250366608 Validation Loss: 406.39400146851193\n",
      "Epoch:  [23/150], Loss: 371.11404333155866 Validation Loss: 394.0932769800109\n",
      "Epoch:  [24/150], Loss: 369.58671737343667 Validation Loss: 402.38857560765075\n",
      "Epoch:  [25/150], Loss: 368.4076840573095 Validation Loss: 402.260945272231\n",
      "Epoch:  [26/150], Loss: 367.4892988192238 Validation Loss: 397.0635042725571\n",
      "Epoch:  [27/150], Loss: 366.5317050960386 Validation Loss: 400.11167051699977\n",
      "Epoch:  [28/150], Loss: 365.16166619157707 Validation Loss: 394.5686244233661\n",
      "Epoch:  [29/150], Loss: 364.46963952891406 Validation Loss: 391.649120097385\n",
      "Epoch:  [30/150], Loss: 363.500729899218 Validation Loss: 381.2077814568469\n",
      "Epoch:  [31/150], Loss: 362.66403349873843 Validation Loss: 382.85333477077154\n",
      "Epoch:  [32/150], Loss: 361.83127299576387 Validation Loss: 382.53704040428164\n",
      "Epoch:  [33/150], Loss: 361.5581687727569 Validation Loss: 399.7365627350536\n",
      "Epoch:  [34/150], Loss: 360.8896328295896 Validation Loss: 380.29348675739794\n",
      "Epoch:  [35/150], Loss: 360.1606231690082 Validation Loss: 383.02727012292854\n",
      "Epoch:  [36/150], Loss: 359.96089056934045 Validation Loss: 377.5334030558452\n",
      "Epoch:  [37/150], Loss: 358.81706481024736 Validation Loss: 384.3007618830903\n",
      "Epoch:  [38/150], Loss: 358.41341890355295 Validation Loss: 387.4059727298947\n",
      "Epoch:  [39/150], Loss: 357.8517475815084 Validation Loss: 381.3949306312529\n",
      "Epoch:  [40/150], Loss: 357.57038450984186 Validation Loss: 389.42603023481996\n",
      "Epoch:  [41/150], Loss: 356.994476934852 Validation Loss: 383.9817350316272\n",
      "Epoch:  [42/150], Loss: 357.02704746575347 Validation Loss: 386.4772433740251\n",
      "Epoch:  [43/150], Loss: 356.45151921482034 Validation Loss: 385.8266951747282\n",
      "Epoch:  [44/150], Loss: 355.6039354101771 Validation Loss: 368.8422312792027\n",
      "Epoch:  [45/150], Loss: 355.47516596583426 Validation Loss: 380.50471461144724\n",
      "Epoch:  [46/150], Loss: 355.2315523767957 Validation Loss: 377.0425357016184\n",
      "Epoch:  [47/150], Loss: 354.7511667024069 Validation Loss: 380.4438670644225\n",
      "Epoch:  [48/150], Loss: 354.0880817249571 Validation Loss: 382.275339061336\n",
      "Epoch:  [49/150], Loss: 354.2616482911963 Validation Loss: 373.4825142075344\n",
      "Epoch:  [50/150], Loss: 353.5037418113934 Validation Loss: 378.15940574626336\n",
      "Epoch:  [51/150], Loss: 353.16477353492394 Validation Loss: 380.7323622893792\n",
      "Epoch:  [52/150], Loss: 353.00800390284616 Validation Loss: 383.866178394521\n",
      "Epoch:  [53/150], Loss: 352.45035722641217 Validation Loss: 375.11595659290407\n",
      "Epoch:  [54/150], Loss: 352.39224400313117 Validation Loss: 374.65884977278535\n",
      "Epoch:  [55/150], Loss: 352.5179845473632 Validation Loss: 370.84112350768004\n",
      "Epoch:  [56/150], Loss: 351.7702319387987 Validation Loss: 377.5128873262083\n",
      "Epoch:  [57/150], Loss: 351.70707377193935 Validation Loss: 371.7937154602553\n",
      "Epoch:  [58/150], Loss: 351.10741860501537 Validation Loss: 372.9014130408385\n",
      "Epoch:  [59/150], Loss: 351.1736201191539 Validation Loss: 379.134558357615\n",
      "Epoch:  [60/150], Loss: 350.98534209076155 Validation Loss: 373.10748248367923\n",
      "Epoch:  [61/150], Loss: 350.2825425839643 Validation Loss: 377.0651320655388\n",
      "Epoch:  [62/150], Loss: 350.33713282599075 Validation Loss: 372.11974840518377\n",
      "Epoch:  [63/150], Loss: 350.05555928090985 Validation Loss: 371.6254008962561\n",
      "Epoch:  [64/150], Loss: 350.3435480414118 Validation Loss: 364.4119514666057\n",
      "Epoch:  [65/150], Loss: 349.58267783232117 Validation Loss: 372.22690383388993\n",
      "Epoch:  [66/150], Loss: 349.8600832568239 Validation Loss: 375.09494362270885\n",
      "Epoch:  [67/150], Loss: 349.1249110321465 Validation Loss: 366.7716195070005\n",
      "Epoch:  [68/150], Loss: 348.79426172119474 Validation Loss: 378.1981848353577\n",
      "Epoch:  [69/150], Loss: 349.2677845785804 Validation Loss: 371.83099387162923\n",
      "Epoch:  [70/150], Loss: 348.48907732631574 Validation Loss: 367.82073297809166\n",
      "Epoch:  [71/150], Loss: 348.33050084197515 Validation Loss: 381.7978915552871\n",
      "Epoch:  [72/150], Loss: 348.26574099116016 Validation Loss: 371.386592671833\n",
      "Epoch:  [73/150], Loss: 347.72167159542187 Validation Loss: 367.069361030567\n",
      "Epoch:  [74/150], Loss: 347.69012124558 Validation Loss: 368.0011103812606\n",
      "Epoch:  [75/150], Loss: 347.7855880755461 Validation Loss: 365.7206118358522\n",
      "Epoch:  [76/150], Loss: 347.52897808843596 Validation Loss: 363.4563014386393\n",
      "Epoch:  [77/150], Loss: 347.7991871158462 Validation Loss: 364.1605516943106\n",
      "Epoch:  [78/150], Loss: 347.37369890472297 Validation Loss: 369.15014985511\n",
      "Epoch:  [79/150], Loss: 346.73656794587475 Validation Loss: 367.41113649191976\n",
      "Epoch:  [80/150], Loss: 346.669261771154 Validation Loss: 371.8434194102635\n",
      "Epoch:  [81/150], Loss: 346.4898691423361 Validation Loss: 368.4387913687887\n",
      "Epoch:  [82/150], Loss: 347.1664089454151 Validation Loss: 364.23470485197174\n",
      "Epoch:  [83/150], Loss: 346.2464014432405 Validation Loss: 363.9870036313002\n",
      "Epoch:  [84/150], Loss: 346.12580599257257 Validation Loss: 367.72443397850674\n",
      "Epoch:  [85/150], Loss: 346.51082255661873 Validation Loss: 370.0071578350197\n",
      "Epoch:  [86/150], Loss: 345.67982225236466 Validation Loss: 367.976066107035\n",
      "Epoch:  [87/150], Loss: 346.02851975420003 Validation Loss: 372.3631368537959\n",
      "Epoch:  [88/150], Loss: 345.68943122642776 Validation Loss: 370.4589504272976\n",
      "Epoch:  [89/150], Loss: 345.2761417969974 Validation Loss: 369.5109907526015\n",
      "Epoch:  [90/150], Loss: 345.30636421503607 Validation Loss: 364.92218091525814\n",
      "Epoch:  [91/150], Loss: 345.2441334550211 Validation Loss: 364.6639315749596\n",
      "Epoch:  [92/150], Loss: 345.0341166278688 Validation Loss: 375.09472122381175\n",
      "Epoch:  [93/150], Loss: 344.8911958115067 Validation Loss: 371.0759493446388\n",
      "Epoch:  [94/150], Loss: 344.9290267880833 Validation Loss: 367.5172314176083\n",
      "Epoch:  [95/150], Loss: 344.3647106936588 Validation Loss: 369.5329627603045\n",
      "Epoch:  [96/150], Loss: 344.8361451481258 Validation Loss: 368.72406261708727\n",
      "Epoch:  [97/150], Loss: 344.37723479241066 Validation Loss: 371.9404649444881\n",
      "Epoch:  [98/150], Loss: 344.51091327962064 Validation Loss: 371.77112335183955\n",
      "Epoch:  [99/150], Loss: 344.23682229513486 Validation Loss: 361.4530691435804\n",
      "Epoch:  [100/150], Loss: 344.08339294588535 Validation Loss: 365.678720616763\n",
      "Epoch:  [101/150], Loss: 343.76258054531206 Validation Loss: 361.1684047472505\n",
      "Epoch:  [102/150], Loss: 343.76117978473343 Validation Loss: 361.81229599700566\n",
      "Epoch:  [103/150], Loss: 343.594183985027 Validation Loss: 362.9087833498406\n",
      "Epoch:  [104/150], Loss: 343.20322639887144 Validation Loss: 360.20105237683043\n",
      "Epoch:  [105/150], Loss: 343.40616599567903 Validation Loss: 360.37241284530853\n",
      "Epoch:  [106/150], Loss: 343.29198172904034 Validation Loss: 370.17314586390324\n",
      "Epoch:  [107/150], Loss: 342.7286263130534 Validation Loss: 368.97293840342144\n",
      "Epoch:  [108/150], Loss: 343.00430762900857 Validation Loss: 363.5513380366291\n",
      "Epoch:  [109/150], Loss: 342.5336785225799 Validation Loss: 369.6183775290992\n",
      "Epoch:  [110/150], Loss: 342.4153130325264 Validation Loss: 366.046032375714\n",
      "Epoch:  [111/150], Loss: 342.4863616098786 Validation Loss: 373.128182679665\n",
      "Epoch:  [112/150], Loss: 342.25387267042044 Validation Loss: 366.48452403116784\n",
      "Epoch:  [113/150], Loss: 342.32725382963207 Validation Loss: 357.33476425485605\n",
      "Epoch:  [114/150], Loss: 342.3112851919549 Validation Loss: 371.81363317525256\n",
      "Epoch:  [115/150], Loss: 342.14060704729036 Validation Loss: 360.54630750234156\n",
      "Epoch:  [116/150], Loss: 342.0901985249297 Validation Loss: 363.7768094415446\n",
      "Epoch:  [117/150], Loss: 341.729234482021 Validation Loss: 359.35870156998516\n",
      "Epoch:  [118/150], Loss: 341.88089202209034 Validation Loss: 360.21839020813826\n",
      "Epoch:  [119/150], Loss: 342.178330626939 Validation Loss: 366.5317273885143\n",
      "Epoch:  [120/150], Loss: 341.6240592835374 Validation Loss: 359.43188655770297\n",
      "Epoch:  [121/150], Loss: 341.40120132401734 Validation Loss: 368.9255819518208\n",
      "Epoch:  [122/150], Loss: 341.10837431168267 Validation Loss: 364.25454860245526\n",
      "Epoch:  [123/150], Loss: 341.38298675952916 Validation Loss: 361.9924327844587\n",
      "Epoch:  [124/150], Loss: 340.8580408032652 Validation Loss: 360.10560592587774\n",
      "Epoch:  [125/150], Loss: 341.1385567861656 Validation Loss: 362.96381030050236\n",
      "Epoch:  [126/150], Loss: 340.63599755790034 Validation Loss: 362.4023668653776\n",
      "Epoch:  [127/150], Loss: 340.3436205492105 Validation Loss: 362.0240748500717\n",
      "Epoch:  [128/150], Loss: 340.5814823552968 Validation Loss: 364.3052282892301\n",
      "Epoch:  [129/150], Loss: 340.77334758081867 Validation Loss: 362.02211361660545\n",
      "Epoch:  [130/150], Loss: 340.26501334095343 Validation Loss: 370.7992095664377\n",
      "Epoch:  [131/150], Loss: 340.2116742971839 Validation Loss: 363.29590337753297\n",
      "Epoch:  [132/150], Loss: 340.26089733261546 Validation Loss: 362.3866731135946\n",
      "Epoch:  [133/150], Loss: 340.48190389473734 Validation Loss: 364.61671726972276\n",
      "Epoch:  [134/150], Loss: 340.1725453909445 Validation Loss: 368.1963216997733\n",
      "Epoch:  [135/150], Loss: 340.06786659622844 Validation Loss: 368.9037400143294\n",
      "Epoch:  [136/150], Loss: 339.9050004705192 Validation Loss: 370.13812356069405\n",
      "Epoch:  [137/150], Loss: 339.8737980434122 Validation Loss: 358.4607949951449\n",
      "Epoch:  [138/150], Loss: 339.99699981854485 Validation Loss: 362.68882747630875\n",
      "Epoch:  [139/150], Loss: 340.12580008934924 Validation Loss: 365.3633738904482\n",
      "Epoch:  [140/150], Loss: 339.63200675000496 Validation Loss: 361.131469236774\n",
      "Epoch:  [141/150], Loss: 339.7913006176076 Validation Loss: 361.4161484881214\n",
      "Epoch:  [142/150], Loss: 339.26524208466043 Validation Loss: 359.0359928162543\n",
      "Epoch:  [143/150], Loss: 339.169474376021 Validation Loss: 357.47474973144784\n",
      "Epoch:  [144/150], Loss: 338.7593226043422 Validation Loss: 359.0193889226293\n",
      "Epoch:  [145/150], Loss: 339.0890311076533 Validation Loss: 354.970341225979\n",
      "Epoch:  [146/150], Loss: 339.0285598043391 Validation Loss: 358.2767734429723\n",
      "Epoch:  [147/150], Loss: 338.9402592820034 Validation Loss: 370.944109357963\n",
      "Epoch:  [148/150], Loss: 338.9910252837942 Validation Loss: 362.50184513657433\n",
      "Epoch:  [149/150], Loss: 338.8994152566349 Validation Loss: 360.85099594207526\n",
      "Epoch:  [150/150], Loss: 338.7298014300112 Validation Loss: 366.4621224324634\n",
      "Epoch:  [1/150], Loss: 2038.9765061293867 Validation Loss: 1880.59262758686\n",
      "Epoch:  [2/150], Loss: 1725.0197017986713 Validation Loss: 1691.2350656225167\n",
      "Epoch:  [3/150], Loss: 1600.5454143048205 Validation Loss: 1593.929800834711\n",
      "Epoch:  [4/150], Loss: 1514.8858615111087 Validation Loss: 1512.9202218001128\n",
      "Epoch:  [5/150], Loss: 1442.1658707873842 Validation Loss: 1449.584438027539\n",
      "Epoch:  [6/150], Loss: 1376.2878910722852 Validation Loss: 1413.3884773711861\n",
      "Epoch:  [7/150], Loss: 1316.8288209369848 Validation Loss: 1335.315321235594\n",
      "Epoch:  [8/150], Loss: 1261.852424656587 Validation Loss: 1277.670095857191\n",
      "Epoch:  [9/150], Loss: 1211.0297631876822 Validation Loss: 1247.2247613538136\n",
      "Epoch:  [10/150], Loss: 1163.9974946822417 Validation Loss: 1186.4008275822484\n",
      "Epoch:  [11/150], Loss: 1119.7596662089595 Validation Loss: 1158.2726099491824\n",
      "Epoch:  [12/150], Loss: 1078.4752864515706 Validation Loss: 1106.1196884669525\n",
      "Epoch:  [13/150], Loss: 1039.9156685388698 Validation Loss: 1072.1122693067334\n",
      "Epoch:  [14/150], Loss: 1003.7320430474288 Validation Loss: 1034.0532646542986\n",
      "Epoch:  [15/150], Loss: 969.556352780979 Validation Loss: 1003.125405040755\n",
      "Epoch:  [16/150], Loss: 937.7026190187604 Validation Loss: 971.0821504599705\n",
      "Epoch:  [17/150], Loss: 907.6448682040276 Validation Loss: 946.9686681836602\n",
      "Epoch:  [18/150], Loss: 879.6304695495079 Validation Loss: 908.1407958467466\n",
      "Epoch:  [19/150], Loss: 852.8240082027122 Validation Loss: 889.908483984384\n",
      "Epoch:  [20/150], Loss: 827.9581074370302 Validation Loss: 868.1894946072935\n",
      "Epoch:  [21/150], Loss: 804.2340466533489 Validation Loss: 849.6664324422964\n",
      "Epoch:  [22/150], Loss: 782.0237499113163 Validation Loss: 828.8213012825844\n",
      "Epoch:  [23/150], Loss: 761.1878805997202 Validation Loss: 794.16664675518\n",
      "Epoch:  [24/150], Loss: 741.3995438424438 Validation Loss: 780.7003383582567\n",
      "Epoch:  [25/150], Loss: 722.853441545762 Validation Loss: 764.1096056808261\n",
      "Epoch:  [26/150], Loss: 705.1168771462999 Validation Loss: 737.984573509746\n",
      "Epoch:  [27/150], Loss: 688.6165354336806 Validation Loss: 727.0929553332298\n",
      "Epoch:  [28/150], Loss: 673.0946119533016 Validation Loss: 712.7928201783823\n",
      "Epoch:  [29/150], Loss: 658.0481530624985 Validation Loss: 696.4788742685504\n",
      "Epoch:  [30/150], Loss: 644.2246974277349 Validation Loss: 688.3069339392937\n",
      "Epoch:  [31/150], Loss: 631.0893493313089 Validation Loss: 671.2731889416881\n",
      "Epoch:  [32/150], Loss: 618.6954251335802 Validation Loss: 656.9759057849938\n",
      "Epoch:  [33/150], Loss: 607.0839891576658 Validation Loss: 649.5189007993756\n",
      "Epoch:  [34/150], Loss: 595.8590786141665 Validation Loss: 639.3958528643059\n",
      "Epoch:  [35/150], Loss: 585.3729507706812 Validation Loss: 629.8975368822947\n",
      "Epoch:  [36/150], Loss: 575.3736604557853 Validation Loss: 616.8660931357779\n",
      "Epoch:  [37/150], Loss: 566.0561614819566 Validation Loss: 613.3416532996478\n",
      "Epoch:  [38/150], Loss: 557.2841027958433 Validation Loss: 598.8234037853601\n",
      "Epoch:  [39/150], Loss: 548.7299560295012 Validation Loss: 592.6791006763787\n",
      "Epoch:  [40/150], Loss: 540.8725066885199 Validation Loss: 575.7819099905529\n",
      "Epoch:  [41/150], Loss: 533.5722930147266 Validation Loss: 573.1873235034285\n",
      "Epoch:  [42/150], Loss: 526.2621780625525 Validation Loss: 571.4588398185549\n",
      "Epoch:  [43/150], Loss: 519.5177655066889 Validation Loss: 550.582191817211\n",
      "Epoch:  [44/150], Loss: 513.0068659532798 Validation Loss: 547.5464585370765\n",
      "Epoch:  [45/150], Loss: 507.0823742458841 Validation Loss: 543.9780747213955\n",
      "Epoch:  [46/150], Loss: 501.2783676793998 Validation Loss: 540.2220657808011\n",
      "Epoch:  [47/150], Loss: 495.9303208896661 Validation Loss: 536.7843125555385\n",
      "Epoch:  [48/150], Loss: 490.8129464732287 Validation Loss: 532.7614575178175\n",
      "Epoch:  [49/150], Loss: 485.81372386514744 Validation Loss: 525.4178574363705\n",
      "Epoch:  [50/150], Loss: 481.27708013355584 Validation Loss: 518.0517297982151\n",
      "Epoch:  [51/150], Loss: 476.83957234908956 Validation Loss: 519.5965791962099\n",
      "Epoch:  [52/150], Loss: 472.62317462795664 Validation Loss: 512.8815550490413\n",
      "Epoch:  [53/150], Loss: 468.78939261620616 Validation Loss: 502.0321870163549\n",
      "Epoch:  [54/150], Loss: 465.0277575402332 Validation Loss: 500.6748594321531\n",
      "Epoch:  [55/150], Loss: 461.46464698579746 Validation Loss: 495.0678987681289\n",
      "Epoch:  [56/150], Loss: 458.15800208215205 Validation Loss: 494.17553634603644\n",
      "Epoch:  [57/150], Loss: 454.7873130487145 Validation Loss: 499.04923210115\n",
      "Epoch:  [58/150], Loss: 451.67735478083705 Validation Loss: 490.69864947141696\n",
      "Epoch:  [59/150], Loss: 448.71788279037827 Validation Loss: 491.1064022784564\n",
      "Epoch:  [60/150], Loss: 446.2878470128641 Validation Loss: 480.25265511676287\n",
      "Epoch:  [61/150], Loss: 443.291213878503 Validation Loss: 482.7131071257874\n",
      "Epoch:  [62/150], Loss: 440.95162642019864 Validation Loss: 474.5599927716095\n",
      "Epoch:  [63/150], Loss: 438.60871677186753 Validation Loss: 473.5880239347576\n",
      "Epoch:  [64/150], Loss: 436.1198016360157 Validation Loss: 471.1457695129402\n",
      "Epoch:  [65/150], Loss: 433.9000364474014 Validation Loss: 471.1898259837008\n",
      "Epoch:  [66/150], Loss: 431.9431631754087 Validation Loss: 465.1227476886354\n",
      "Epoch:  [67/150], Loss: 429.8936045494603 Validation Loss: 464.24341070631425\n",
      "Epoch:  [68/150], Loss: 427.94819519584996 Validation Loss: 465.2762970713671\n",
      "Epoch:  [69/150], Loss: 426.3784483646724 Validation Loss: 463.4448877676514\n",
      "Epoch:  [70/150], Loss: 424.4824622369937 Validation Loss: 456.60722320108584\n",
      "Epoch:  [71/150], Loss: 422.6840457706125 Validation Loss: 456.5514859627842\n",
      "Epoch:  [72/150], Loss: 421.20044398369595 Validation Loss: 458.36569082889184\n",
      "Epoch:  [73/150], Loss: 419.628209971508 Validation Loss: 456.786036626938\n",
      "Epoch:  [74/150], Loss: 418.1196855461422 Validation Loss: 451.83307325918565\n",
      "Epoch:  [75/150], Loss: 416.6963512692761 Validation Loss: 456.6558413285815\n",
      "Epoch:  [76/150], Loss: 415.42452401977073 Validation Loss: 452.8142031404287\n",
      "Epoch:  [77/150], Loss: 414.1939730257 Validation Loss: 451.64898259410836\n",
      "Epoch:  [78/150], Loss: 412.90991403443564 Validation Loss: 447.70216695622435\n",
      "Epoch:  [79/150], Loss: 411.7610633645857 Validation Loss: 445.56724813628267\n",
      "Epoch:  [80/150], Loss: 410.6625160445019 Validation Loss: 442.682163339\n",
      "Epoch:  [81/150], Loss: 409.5685940791653 Validation Loss: 446.90691227231855\n",
      "Epoch:  [82/150], Loss: 408.5120660083094 Validation Loss: 442.7817907641627\n",
      "Epoch:  [83/150], Loss: 407.47451152932166 Validation Loss: 439.5876642906323\n",
      "Epoch:  [84/150], Loss: 406.39612185519957 Validation Loss: 431.8626406980849\n",
      "Epoch:  [85/150], Loss: 405.38803890617424 Validation Loss: 437.35494513316814\n",
      "Epoch:  [86/150], Loss: 404.58426701557624 Validation Loss: 435.0570458014877\n",
      "Epoch:  [87/150], Loss: 403.5916273296418 Validation Loss: 439.2131314292038\n",
      "Epoch:  [88/150], Loss: 402.7826586937982 Validation Loss: 443.57857601472415\n",
      "Epoch:  [89/150], Loss: 402.01195393093144 Validation Loss: 437.64848856884885\n",
      "Epoch:  [90/150], Loss: 401.2753293508598 Validation Loss: 434.94257427552816\n",
      "Epoch:  [91/150], Loss: 400.4452405701312 Validation Loss: 437.3191882725612\n",
      "Epoch:  [92/150], Loss: 399.71221051243924 Validation Loss: 434.9156260155215\n",
      "Epoch:  [93/150], Loss: 399.0086392493311 Validation Loss: 435.53888956814774\n",
      "Epoch:  [94/150], Loss: 398.1893533992748 Validation Loss: 432.4077776647658\n",
      "Epoch:  [95/150], Loss: 397.66037353903647 Validation Loss: 431.78435016277655\n",
      "Epoch:  [96/150], Loss: 396.9313190388755 Validation Loss: 429.73576395553573\n",
      "Epoch:  [97/150], Loss: 396.26569570505063 Validation Loss: 431.957917424533\n",
      "Epoch:  [98/150], Loss: 395.6237576133562 Validation Loss: 429.51170641092665\n",
      "Epoch:  [99/150], Loss: 395.1333813839675 Validation Loss: 431.90955038117795\n",
      "Epoch:  [100/150], Loss: 394.49807012398463 Validation Loss: 427.7965919520949\n",
      "Epoch:  [101/150], Loss: 394.0851849383954 Validation Loss: 429.7545433586929\n",
      "Epoch:  [102/150], Loss: 393.5522509200009 Validation Loss: 425.5959497918381\n",
      "Epoch:  [103/150], Loss: 392.82438996725136 Validation Loss: 427.5669751190728\n",
      "Epoch:  [104/150], Loss: 392.28059097196 Validation Loss: 426.2340798430771\n",
      "Epoch:  [105/150], Loss: 391.7557910441205 Validation Loss: 421.4760210299464\n",
      "Epoch:  [106/150], Loss: 391.2875589182115 Validation Loss: 427.9474608683535\n",
      "Epoch:  [107/150], Loss: 390.90355114608053 Validation Loss: 424.59983493688713\n",
      "Epoch:  [108/150], Loss: 390.22072444995194 Validation Loss: 419.6355914277375\n",
      "Epoch:  [109/150], Loss: 389.84400076380086 Validation Loss: 425.32192670035965\n",
      "Epoch:  [110/150], Loss: 389.28013610611504 Validation Loss: 419.9996705776184\n",
      "Epoch:  [111/150], Loss: 389.02067820092714 Validation Loss: 419.3003020900121\n",
      "Epoch:  [112/150], Loss: 388.4828173549493 Validation Loss: 423.7279031257887\n",
      "Epoch:  [113/150], Loss: 388.0931275047286 Validation Loss: 421.628690596856\n",
      "Epoch:  [114/150], Loss: 387.7873738736427 Validation Loss: 415.53863577025174\n",
      "Epoch:  [115/150], Loss: 387.30458197534665 Validation Loss: 425.2561732370234\n",
      "Epoch:  [116/150], Loss: 386.86021917117705 Validation Loss: 417.9934449936874\n",
      "Epoch:  [117/150], Loss: 386.4668890324992 Validation Loss: 414.3683083897399\n",
      "Epoch:  [118/150], Loss: 386.13644362312886 Validation Loss: 421.11962505990334\n",
      "Epoch:  [119/150], Loss: 385.71520960491137 Validation Loss: 416.527220405056\n",
      "Epoch:  [120/150], Loss: 385.4401349781346 Validation Loss: 416.7513547334913\n",
      "Epoch:  [121/150], Loss: 384.96824786448036 Validation Loss: 417.01510585266044\n",
      "Epoch:  [122/150], Loss: 384.71326095959915 Validation Loss: 415.1123030010602\n",
      "Epoch:  [123/150], Loss: 384.45306001324093 Validation Loss: 414.77505589721113\n",
      "Epoch:  [124/150], Loss: 383.9503577966455 Validation Loss: 412.3096626865702\n",
      "Epoch:  [125/150], Loss: 383.6227453969984 Validation Loss: 417.75282604398467\n",
      "Epoch:  [126/150], Loss: 383.39173314469105 Validation Loss: 415.8298312323136\n",
      "Epoch:  [127/150], Loss: 383.10056432769755 Validation Loss: 415.61237186021845\n",
      "Epoch:  [128/150], Loss: 382.6538308056719 Validation Loss: 414.0607333717387\n",
      "Epoch:  [129/150], Loss: 382.3007280250228 Validation Loss: 413.5225041160717\n",
      "Epoch:  [130/150], Loss: 382.020136323524 Validation Loss: 414.2215871937401\n",
      "Epoch:  [131/150], Loss: 381.71718579865063 Validation Loss: 419.48907881257514\n",
      "Epoch:  [132/150], Loss: 381.55021925095815 Validation Loss: 415.27153139393454\n",
      "Epoch:  [133/150], Loss: 381.3101451375259 Validation Loss: 412.2338062825089\n",
      "Epoch:  [134/150], Loss: 380.87952435692745 Validation Loss: 413.48407435117537\n",
      "Epoch:  [135/150], Loss: 380.60105363399435 Validation Loss: 409.83406886667484\n",
      "Epoch:  [136/150], Loss: 380.2743328629283 Validation Loss: 415.64690022595255\n",
      "Epoch:  [137/150], Loss: 380.0288632285309 Validation Loss: 409.3755346316288\n",
      "Epoch:  [138/150], Loss: 379.708870371842 Validation Loss: 410.68728253332904\n",
      "Epoch:  [139/150], Loss: 379.4444769667145 Validation Loss: 409.7433185069692\n",
      "Epoch:  [140/150], Loss: 379.22581714696605 Validation Loss: 413.5617300871538\n",
      "Epoch:  [141/150], Loss: 379.07795881015005 Validation Loss: 406.1298010436983\n",
      "Epoch:  [142/150], Loss: 378.8334351386099 Validation Loss: 408.10339546719774\n",
      "Epoch:  [143/150], Loss: 378.46653783831187 Validation Loss: 407.80805663756314\n",
      "Epoch:  [144/150], Loss: 378.10826830077383 Validation Loss: 410.2149538343217\n",
      "Epoch:  [145/150], Loss: 377.8510601469223 Validation Loss: 407.8251855493056\n",
      "Epoch:  [146/150], Loss: 377.6847193578895 Validation Loss: 402.9800037561396\n",
      "Epoch:  [147/150], Loss: 377.28247632118956 Validation Loss: 403.9709215481719\n",
      "Epoch:  [148/150], Loss: 377.0996735066532 Validation Loss: 409.33980371495113\n",
      "Epoch:  [149/150], Loss: 376.952843061249 Validation Loss: 402.30573347062614\n",
      "Epoch:  [150/150], Loss: 376.6616246263654 Validation Loss: 409.3330917343193\n"
     ]
    }
   ],
   "source": [
    "num_epochs = 150\n",
    "lr = 0.001\n",
    "optimizer = torch.optim.SGD(model.parameters(), lr = lr)\n",
    "## TODO: Train with different batch sizes\n",
    "\n",
    "train_loss = []\n",
    "val_loss=[]\n",
    "batchsize=[2,4,32,128,1024]\n",
    "for batch in batchsize:\n",
    "    train_dataloader = DataLoader(conductor_train, batch_size = batch, shuffle = True)\n",
    "    val_dataloader =  DataLoader(conductor_val, batch_size = batch, shuffle = True)\n",
    "    model = LinearRegression(input_dim,output_dim)\n",
    "    model.to(device)\n",
    "    optimizer = torch.optim.SGD(model.parameters(), lr = lr)\n",
    "    train_losses,val_losses=run_training(model,optimizer,train_dataloader,num_epochs,loss_function,val_dataloader)\n",
    "    train_loss.append(train_losses)\n",
    "    val_loss.append(val_losses)\n",
    "    \n",
    "    "
   ]
  },
  {
   "cell_type": "code",
   "execution_count": 52,
   "id": "86fbd102",
   "metadata": {
    "execution": {
     "iopub.execute_input": "2024-05-14T06:23:24.901815Z",
     "iopub.status.busy": "2024-05-14T06:23:24.901493Z",
     "iopub.status.idle": "2024-05-14T06:23:25.408698Z",
     "shell.execute_reply": "2024-05-14T06:23:25.407783Z"
    },
    "id": "y_qBagWef5fv",
    "outputId": "577cb736-6245-4a25-df16-0b93e54a4acf",
    "papermill": {
     "duration": 0.620632,
     "end_time": "2024-05-14T06:23:25.411718",
     "exception": false,
     "start_time": "2024-05-14T06:23:24.791086",
     "status": "completed"
    },
    "tags": []
   },
   "outputs": [
    {
     "data": {
      "image/png": "[encoded data removed]",
      "text/plain": [
       "<Figure size 1500x1100 with 1 Axes>"
      ]
     },
     "metadata": {},
     "output_type": "display_data"
    }
   ],
   "source": [
    "## TODO: Visualize the differences \n",
    "plot_training_validation_curves(train_loss,val_loss,batchsize)\n"
   ]
  }
 ],
 "metadata": {
  "accelerator": "GPU",
  "colab": {
   "provenance": []
  },
  "kaggle": {
   "accelerator": "nvidiaTeslaT4",
   "dataSources": [
    {
     "datasetId": 4959394,
     "sourceId": 8348010,
     "sourceType": "datasetVersion"
    }
   ],
   "dockerImageVersionId": 30699,
   "isGpuEnabled": true,
   "isInternetEnabled": true,
   "language": "python",
   "sourceType": "notebook"
  },
  "kernelspec": {
   "display_name": "Python 3",
   "language": "python",
   "name": "python3"
  },
  "language_info": {
   "codemirror_mode": {
    "name": "ipython",
    "version": 3
   },
   "file_extension": ".py",
   "mimetype": "text/x-python",
   "name": "python",
   "nbconvert_exporter": "python",
   "pygments_lexer": "ipython3",
   "version": "3.10.13"
  },
  "nteract": {
   "version": "0.15.0"
  },
  "papermill": {
   "default_parameters": {},
   "duration": 1745.702296,
   "end_time": "2024-05-14T06:23:27.047408",
   "environment_variables": {},
   "exception": null,
   "input_path": "__notebook__.ipynb",
   "output_path": "__notebook__.ipynb",
   "parameters": {},
   "start_time": "2024-05-14T05:54:21.345112",
   "version": "2.5.0"
  },
  "vscode": {
   "interpreter": {
    "hash": "2fa43737e4ef713dc911b822ab5ba0f914679d1e8c87cbf2d1b37811f4f0adcd"
   }
  }
 },
 "nbformat": 4,
 "nbformat_minor": 5
}
