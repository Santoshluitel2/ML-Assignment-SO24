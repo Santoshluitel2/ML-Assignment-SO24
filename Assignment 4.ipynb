{
  "cells": [
    {
      "cell_type": "markdown",
      "id": "bc713cda",
      "metadata": {
        "id": "bc713cda"
      },
      "source": [
        "# Machine Learning - Practical 4 - Deep Learning VS Trees\n",
        "\n",
        "\n",
        "Names: {Ayush Poudel, Santosh Luitel}  \n",
        "Summer Term 2024   "
      ]
    },
    {
      "cell_type": "markdown",
      "id": "0e394c4e",
      "metadata": {
        "id": "0e394c4e"
      },
      "source": [
        "In this practical we are going to use a tabular dataset. We will test two different approaches - forests and neural networks and compare performance. We are also going to learn how to make trees interpretable."
      ]
    },
    {
      "cell_type": "markdown",
      "id": "72933ee7",
      "metadata": {
        "id": "72933ee7"
      },
      "source": [
        "To prepare this tutorial we used [this paper](https://arxiv.org/pdf/2207.08815.pdf) with its [repository](https://github.com/LeoGrin/tabular-benchmark).\n",
        "\n",
        "For explained variance in trees, you can read more [here](https://scikit-learn.org/0.15/auto_examples/ensemble/plot_gradient_boosting_regression.html#example-ensemble-plot-gradient-boosting-regression-py).\n"
      ]
    },
    {
      "cell_type": "code",
      "execution_count": null,
      "id": "218de310",
      "metadata": {
        "colab": {
          "base_uri": "https://localhost:8080/"
        },
        "id": "218de310",
        "outputId": "c62173bb-a458-4a94-8cef-ad76ecd01ab6"
      },
      "outputs": [
        {
          "output_type": "execute_result",
          "data": {
            "text/plain": [
              "<torch._C.Generator at 0x7e3eba77c970>"
            ]
          },
          "metadata": {},
          "execution_count": 169
        }
      ],
      "source": [
        "%matplotlib inline\n",
        "\n",
        "import pandas as pd\n",
        "import seaborn as sns\n",
        "import matplotlib.pyplot as plt\n",
        "import numpy as np\n",
        "import pickle\n",
        "import os\n",
        "\n",
        "from sklearn.model_selection import train_test_split\n",
        "from sklearn.ensemble import GradientBoostingClassifier\n",
        "from sklearn.metrics import recall_score, precision_score, accuracy_score\n",
        "from sklearn.preprocessing import LabelEncoder\n",
        "from sklearn.tree import DecisionTreeClassifier\n",
        "\n",
        "\n",
        "from PIL import Image\n",
        "import torch\n",
        "import torch.nn as nn\n",
        "from torch.utils.data import DataLoader, Dataset, Subset\n",
        "import torchvision.datasets as datasets\n",
        "import torchvision.transforms as transforms\n",
        "from torchvision.utils import make_grid\n",
        "torch.manual_seed(42) # Set manual seed"
      ]
    },
    {
      "cell_type": "code",
      "execution_count": null,
      "id": "3bb2c837",
      "metadata": {
        "id": "3bb2c837",
        "colab": {
          "base_uri": "https://localhost:8080/"
        },
        "outputId": "bbce7293-64fe-49d9-e6dc-2882ff897a66"
      },
      "outputs": [
        {
          "output_type": "stream",
          "name": "stdout",
          "text": [
            "Using device cpu\n"
          ]
        }
      ],
      "source": [
        "# DO NOT CHANGE\n",
        "use_cuda = True\n",
        "use_cuda = False if not use_cuda else torch.cuda.is_available()\n",
        "device = torch.device('cuda:0' if use_cuda else 'cpu')\n",
        "torch.cuda.get_device_name(device) if use_cuda else 'cpu'\n",
        "print('Using device', device)"
      ]
    },
    {
      "cell_type": "markdown",
      "id": "8e24771e",
      "metadata": {
        "id": "8e24771e"
      },
      "source": [
        "## Load, clean and split the tabular dataset\n",
        "\n",
        "**Data description:**  \n",
        "Predict whether income exceeds $50K/yr based on census data. Also known as \"Census Income\" dataset.  \n",
        "\n",
        "Data is from https://archive.ics.uci.edu/dataset/2/adult\n",
        "\n",
        "*Disclaimer* numbers below for Neural Networks, etc are outdated, so do not orient on these\n",
        "\n",
        "**Task:** - download the dataset in python and load it here. Check the dataset size and preliminary artifacts.  \n",
        "\n",
        "*Hint:*\n",
        "* How many unique values the target column should have?"
      ]
    },
    {
      "cell_type": "code",
      "source": [
        "import requests\n",
        "import zipfile\n",
        "import io\n",
        "\n",
        "data_link = \"https://archive.ics.uci.edu/static/public/2/adult.zip\"\n",
        "\n",
        "\n",
        "\n",
        "response = requests.get(data_link)\n",
        "zip_file = zipfile.ZipFile(io.BytesIO(response.content))\n",
        "\n",
        "zip_file.extract(\"adult.data\")\n",
        "zip_file.extract(\"adult.test\")\n",
        "\n",
        "column_names = [\n",
        "    \"age\", \"workclass\", \"fnlwgt\", \"education\", \"education-num\",\n",
        "    \"marital-status\", \"occupation\", \"relationship\", \"race\",\n",
        "    \"sex\", \"capital-gain\", \"capital-loss\", \"hours-per-week\",\n",
        "    \"native-country\", \"income\"\n",
        "]\n",
        "\n",
        "train_data = pd.read_csv(\"adult.data\", names = column_names, sep=\",\")\n",
        "test_data = pd.read_csv(\"adult.test\", names =column_names, sep=\",\", skiprows = 1)\n",
        "\n",
        "train_data['income'] = train_data['income'].str.strip().replace({'<=50K.': '<=50K', '>50K.': '>50K'})\n",
        "test_data['income'] = test_data['income'].str.strip().replace({'<=50K.': '<=50K', '>50K.': '>50K'})\n",
        "\n",
        "train_data['income'] = train_data['income'].astype('category')\n",
        "test_data['income'] = test_data['income'].astype('category')\n",
        "\n"
      ],
      "metadata": {
        "id": "kHXNPkmNLBIJ"
      },
      "id": "kHXNPkmNLBIJ",
      "execution_count": null,
      "outputs": []
    },
    {
      "cell_type": "code",
      "execution_count": null,
      "id": "4bebdb9f-26ff-4b24-8114-40346ab1dd3c",
      "metadata": {
        "colab": {
          "base_uri": "https://localhost:8080/"
        },
        "id": "4bebdb9f-26ff-4b24-8114-40346ab1dd3c",
        "outputId": "ce890bfa-b0f1-44e7-b9e2-8812cfd96d4e"
      },
      "outputs": [
        {
          "output_type": "stream",
          "name": "stdout",
          "text": [
            "(32561, 15)\n",
            "age                           39\n",
            "workclass              State-gov\n",
            "fnlwgt                     77516\n",
            "education              Bachelors\n",
            "education-num                 13\n",
            "marital-status     Never-married\n",
            "occupation          Adm-clerical\n",
            "relationship       Not-in-family\n",
            "race                       White\n",
            "sex                         Male\n",
            "capital-gain                2174\n",
            "capital-loss                   0\n",
            "hours-per-week                40\n",
            "native-country     United-States\n",
            "income                     <=50K\n",
            "Name: 0, dtype: object\n"
          ]
        }
      ],
      "source": [
        "# TODO - download the dataset\n",
        "print(train_data.shape)\n",
        "print(train_data.iloc[0])\n",
        "\n"
      ]
    },
    {
      "cell_type": "markdown",
      "id": "61d9f9e1",
      "metadata": {
        "id": "61d9f9e1"
      },
      "source": [
        "We use the preprocessing pipeline from [Grinsztajn, 2022](https://arxiv.org/pdf/2207.08815.pdf).\n",
        "\n",
        "**No missing data**    \n",
        "\n",
        "Remove all rows containing at least one missing entry.    \n",
        "\n",
        "*In practice people often do not remove rows with missing values but try to fill missing values in a column with the mean or median values for numerical data and mode or median values for categorical data. Sometimes even simple prediction models are used to fill in the gaps but we will remove rows or columns with missing values for the sake of simplicity. Sometimes, even the fact that data is missing could be data itself (think about patients who came or missed doctor appointment). In this case we are going with the most simple way to handle Nans - basically removing such entries.*\n",
        "\n",
        "**Balanced classes**   \n",
        "\n",
        "For classification, the target is binarised if there are multiple classes, by taking the two most numerous classes, and we keep half of samples in each class.\n",
        "\n",
        "**Low cardinality categorical features**   \n",
        "\n",
        "Remove categorical features with more than 40 items.\n",
        "\n",
        "**High cardinality numerical features**   \n",
        "\n",
        "Remove numerical features with less than 10 unique values. Convert numerical features with 2 unique values to categorical.\n",
        "\n",
        "**Encode categorical values**   \n",
        "\n",
        "Use label encodings for categorical variables\n",
        "\n",
        "*Hint:*\n",
        "* To make t easier to drop rows with nan values, merge $X$ and $Y$ in the same dataframe"
      ]
    },
    {
      "cell_type": "code",
      "execution_count": null,
      "id": "fAWW5kChD6MU",
      "metadata": {
        "id": "fAWW5kChD6MU"
      },
      "outputs": [],
      "source": [
        "target_column = 'income'\n",
        "test_size = 0.2\n",
        "random_state = 42"
      ]
    },
    {
      "cell_type": "code",
      "source": [
        "train_data.isnull().sum()"
      ],
      "metadata": {
        "colab": {
          "base_uri": "https://localhost:8080/"
        },
        "id": "QNORVlXuEWwP",
        "outputId": "45ed26fe-e665-46e2-c2aa-ae7b609035a9"
      },
      "id": "QNORVlXuEWwP",
      "execution_count": null,
      "outputs": [
        {
          "output_type": "execute_result",
          "data": {
            "text/plain": [
              "age               0\n",
              "workclass         0\n",
              "fnlwgt            0\n",
              "education         0\n",
              "education-num     0\n",
              "marital-status    0\n",
              "occupation        0\n",
              "relationship      0\n",
              "race              0\n",
              "sex               0\n",
              "capital-gain      0\n",
              "capital-loss      0\n",
              "hours-per-week    0\n",
              "native-country    0\n",
              "income            0\n",
              "dtype: int64"
            ]
          },
          "metadata": {},
          "execution_count": 67
        }
      ]
    },
    {
      "cell_type": "code",
      "source": [
        "train_data.columns"
      ],
      "metadata": {
        "colab": {
          "base_uri": "https://localhost:8080/"
        },
        "id": "9P_1NiRSOzXr",
        "outputId": "83abd592-4c3b-42c5-f34b-a3c97ac29dd9"
      },
      "id": "9P_1NiRSOzXr",
      "execution_count": null,
      "outputs": [
        {
          "output_type": "execute_result",
          "data": {
            "text/plain": [
              "Index(['age', 'workclass', 'fnlwgt', 'education', 'education-num',\n",
              "       'marital-status', 'occupation', 'relationship', 'race', 'sex',\n",
              "       'capital-gain', 'capital-loss', 'hours-per-week', 'native-country',\n",
              "       'income'],\n",
              "      dtype='object')"
            ]
          },
          "metadata": {},
          "execution_count": 68
        }
      ]
    },
    {
      "cell_type": "code",
      "execution_count": null,
      "id": "3d77435f",
      "metadata": {
        "id": "3d77435f"
      },
      "outputs": [],
      "source": [
        "def remove_nans(df):\n",
        "    '''\n",
        "    this fucntion removes rows with nans\n",
        "    '''\n",
        "    # TODO\n",
        "    return df.dropna()\n",
        "\n",
        "\n",
        "def numerical_to_categorical(df, n=2, ignore=[target_column]):\n",
        "    '''\n",
        "    change the type of the column to categorical\n",
        "    if it has <= n unique values\n",
        "    '''\n",
        "    # TODO\n",
        "    for col in df.select_dtypes(include=['number']).columns:\n",
        "        if col not in ignore and df[col].nunique() <= n:\n",
        "            df[col] = pd.Categorical(df[col])\n",
        "    return df\n",
        "\n",
        "\n",
        "def remove_columns_by_n(df, only_categorical, n=10, direction='less', ignore=[target_column]):\n",
        "    '''\n",
        "\n",
        "    Remove columns with more or less than n unique values.\n",
        "    Usually it makes sense to apply this function to columns with categorical values (see below where it is called).\n",
        "    With the default values we remove all numerical columns which have less than 10 unique values (except for the target_column).\n",
        "    '''\n",
        "    # TODO\n",
        "    if only_categorical:\n",
        "        # Filter columns to only those that are categorical\n",
        "        cols_to_consider = df.select_dtypes(include=['category', 'object']).columns\n",
        "    else:\n",
        "        # Consider all columns\n",
        "        cols_to_consider = df.columns\n",
        "\n",
        "    if direction == 'less':\n",
        "        cols_to_remove = [col for col in cols_to_consider if df[col].nunique() < n and col not in ignore]\n",
        "    else:\n",
        "        cols_to_remove = [col for col in cols_to_consider if df[col].nunique() > n and col not in ignore]\n",
        "    return df.drop(columns=cols_to_remove)\n",
        "\n",
        "\n",
        "\n",
        "def object_to_categorical(df):\n",
        "    label_encoders = {}\n",
        "    for col in df.columns:\n",
        "        if df[col].dtype == 'object' or col == 'income':  # Explicitly check for 'income'\n",
        "            le = LabelEncoder()\n",
        "            df[col] = le.fit_transform(df[col])\n",
        "            label_encoders[col] = le\n",
        "    return df"
      ]
    },
    {
      "cell_type": "code",
      "execution_count": null,
      "id": "9033619f",
      "metadata": {
        "id": "9033619f",
        "colab": {
          "base_uri": "https://localhost:8080/"
        },
        "outputId": "62c1d710-e8dc-46b2-d8b0-44d0c43b50f4"
      },
      "outputs": [
        {
          "output_type": "stream",
          "name": "stdout",
          "text": [
            "(32561, 15)\n",
            "(32561, 4)\n",
            "education         9\n",
            "education-num    13\n",
            "occupation        1\n",
            "income            0\n",
            "Name: 0, dtype: int64\n"
          ]
        }
      ],
      "source": [
        "print(train_data.shape)\n",
        "df = train_data\n",
        "df = remove_nans(df)\n",
        "df = numerical_to_categorical(df, n=2, ignore=[target_column])\n",
        "\n",
        "df = remove_columns_by_n(df,only_categorical = False, n = 10, direction='less', ignore=[target_column])\n",
        "df = object_to_categorical(df)\n",
        "df = remove_columns_by_n(df, only_categorical = False, n=40, direction='more', ignore=[target_column])\n",
        "assert not df.isna().any().any(), 'There are still nans in the dataframe'\n",
        "\n",
        "print(df.shape)\n",
        "print(df.iloc[0])"
      ]
    },
    {
      "cell_type": "code",
      "source": [
        "df.columns"
      ],
      "metadata": {
        "colab": {
          "base_uri": "https://localhost:8080/"
        },
        "id": "Fx-NRqhaO4Kg",
        "outputId": "38ddd142-5b32-41dd-cab8-c367b54680b9"
      },
      "id": "Fx-NRqhaO4Kg",
      "execution_count": null,
      "outputs": [
        {
          "output_type": "execute_result",
          "data": {
            "text/plain": [
              "Index(['education', 'education-num', 'occupation', 'income'], dtype='object')"
            ]
          },
          "metadata": {},
          "execution_count": 71
        }
      ]
    },
    {
      "cell_type": "code",
      "execution_count": null,
      "id": "22348559",
      "metadata": {
        "id": "22348559",
        "colab": {
          "base_uri": "https://localhost:8080/"
        },
        "outputId": "01836b31-36de-4ae0-9308-6f2e9eac53ac"
      },
      "outputs": [
        {
          "output_type": "stream",
          "name": "stdout",
          "text": [
            "Shape of train_X: (26048, 3)\n",
            "Shape of test_X: (6513, 3)\n",
            "Type of train_y: <class 'numpy.ndarray'>\n",
            "Type of test_y: <class 'numpy.ndarray'>\n"
          ]
        }
      ],
      "source": [
        "# TODO : make train-test split from the dataframe using the parameters above\n",
        "# expected results variable names - train_X, test_X, train_y, test_y\n",
        "\n",
        "X = df.drop(columns=[target_column])\n",
        "y = df[target_column]\n",
        "\n",
        "X_encoded = pd.get_dummies(X)\n",
        "\n",
        "train_X, test_X, train_y, test_y = train_test_split(X_encoded, y, test_size=test_size, random_state=random_state)\n",
        "\n",
        "\n",
        "\n",
        "train_y = train_y.values\n",
        "test_y = test_y.values\n",
        "\n",
        "print(\"Shape of train_X:\", train_X.shape)\n",
        "print(\"Shape of test_X:\", test_X.shape)\n",
        "print(\"Type of train_y:\", type(train_y))\n",
        "print(\"Type of test_y:\", type(test_y))\n"
      ]
    },
    {
      "cell_type": "markdown",
      "id": "77f002d6",
      "metadata": {
        "id": "77f002d6"
      },
      "source": [
        "**TODO :**  \n",
        "\n",
        "* Did you split the dataset in a stratified manner or not? Why?\n",
        "* How did the dataset dimensions change after preprocessing?\n",
        "* How many unique values are in the target variable?"
      ]
    },
    {
      "cell_type": "markdown",
      "id": "f309f4d6",
      "metadata": {
        "id": "f309f4d6"
      },
      "source": [
        "## Task 1: Create a GradientBoostingClassifier"
      ]
    },
    {
      "cell_type": "code",
      "execution_count": null,
      "id": "cxbPa0evFrRF",
      "metadata": {
        "id": "cxbPa0evFrRF",
        "colab": {
          "base_uri": "https://localhost:8080/"
        },
        "outputId": "3a79c65c-5f44-4173-ebfe-3d9639bb18a1"
      },
      "outputs": [
        {
          "output_type": "stream",
          "name": "stdout",
          "text": [
            "Accuracy: 0.7853523721787194\n"
          ]
        }
      ],
      "source": [
        " ## TODO : define the GradientBoostingClassifier,\n",
        "## train it on the train set and predict on the test set\n",
        "\n",
        "gb_classifier = GradientBoostingClassifier()\n",
        "gb_classifier.fit(train_X, train_y)\n",
        "\n",
        "# Predict on the test set\n",
        "test_predictions = gb_classifier.predict(test_X)\n",
        "\n",
        "# Calculate accuracy\n",
        "accuracy = accuracy_score(test_y, test_predictions)\n",
        "print(\"Accuracy:\", accuracy)"
      ]
    },
    {
      "cell_type": "code",
      "execution_count": null,
      "id": "YZ5j6BMKFrcJ",
      "metadata": {
        "id": "YZ5j6BMKFrcJ",
        "colab": {
          "base_uri": "https://localhost:8080/"
        },
        "outputId": "382c3e79-deb1-4feb-f2b3-9304e2a2b672"
      },
      "outputs": [
        {
          "output_type": "stream",
          "name": "stdout",
          "text": [
            "Accuracy: 0.7853523721787194\n",
            "Precision: 0.6110397946084724\n",
            "Recall: 0.3029917250159134\n"
          ]
        }
      ],
      "source": [
        "## TODO : print  accuracy, precision, recall\n",
        "## Hint : use functions from sklearn metrics\n",
        "accuracy = accuracy_score(test_y, test_predictions)\n",
        "print(\"Accuracy:\", accuracy)\n",
        "\n",
        "precision = precision_score(test_y, test_predictions)\n",
        "print(\"Precision:\", precision)\n",
        "\n",
        "recall = recall_score(test_y, test_predictions)\n",
        "print(\"Recall:\", recall)"
      ]
    },
    {
      "cell_type": "code",
      "execution_count": null,
      "id": "598f0ffa",
      "metadata": {
        "id": "598f0ffa"
      },
      "outputs": [],
      "source": [
        "## TODO : Write a function which iterates over trees_amount,\n",
        "## train a classifier with a specified amount of trees and print accuracy, precision, and recall.\n",
        "## Note: the calculations may take several minutes (depending on the computer efficiency).\n",
        "\n",
        "def trees_amount_exploration(train_X, train_y, test_X, test_y, trees_amount=[1, 20, 50, 100]):\n",
        "    #TODO\n",
        "    for trees in trees_amount:\n",
        "        clf = GradientBoostingClassifier(n_estimators=trees)\n",
        "        clf.fit(train_X, train_y)\n",
        "        predictions = clf.predict(test_X)\n",
        "\n",
        "        accuracy = accuracy_score(test_y, predictions)\n",
        "        precision = precision_score(test_y, predictions)\n",
        "        recall = recall_score(test_y, predictions)\n",
        "\n",
        "        print(f\"Trees: {trees}, Accuracy: {accuracy}, Precision: {precision}, Recall: {recall}\")\n"
      ]
    },
    {
      "cell_type": "code",
      "execution_count": null,
      "id": "qcnxg4InEkRl",
      "metadata": {
        "id": "qcnxg4InEkRl",
        "colab": {
          "base_uri": "https://localhost:8080/"
        },
        "outputId": "37cf838b-3108-4925-997e-94f95ce91313"
      },
      "outputs": [
        {
          "output_type": "stream",
          "name": "stderr",
          "text": [
            "/usr/local/lib/python3.10/dist-packages/sklearn/metrics/_classification.py:1344: UndefinedMetricWarning: Precision is ill-defined and being set to 0.0 due to no predicted samples. Use `zero_division` parameter to control this behavior.\n",
            "  _warn_prf(average, modifier, msg_start, len(result))\n"
          ]
        },
        {
          "output_type": "stream",
          "name": "stdout",
          "text": [
            "Trees: 1, Accuracy: 0.7587901120835252, Precision: 0.0, Recall: 0.0\n",
            "Trees: 20, Accuracy: 0.7813603562106556, Precision: 0.7491525423728813, Recall: 0.1406747294716741\n",
            "Trees: 50, Accuracy: 0.7855059112544143, Precision: 0.6121134020618557, Recall: 0.302355187778485\n",
            "Trees: 100, Accuracy: 0.7853523721787194, Precision: 0.6110397946084724, Recall: 0.3029917250159134\n"
          ]
        }
      ],
      "source": [
        "trees_amount_exploration(train_X, train_y, test_X, test_y)"
      ]
    },
    {
      "cell_type": "code",
      "execution_count": null,
      "id": "518fc198",
      "metadata": {
        "id": "518fc198"
      },
      "outputs": [],
      "source": [
        "## TODO : Write a function which iterates over the learning rate,\n",
        "## train a classifier with a specified amount of trees and print accuracy, precision, and recall.\n",
        "## Note: the calculations may take several minutes (depending on the computer efficiency).\n",
        "\n",
        "def learning_rate_exploration(train_X, train_y, test_X, test_y, learning_rates = [0.1, 0.2, 0.3, 0.4, 0.5], trees_amount=100):\n",
        "    #TODO\n",
        "     for rate in learning_rates:\n",
        "        clf = GradientBoostingClassifier(n_estimators=trees_amount, learning_rate=rate)\n",
        "        clf.fit(train_X, train_y)\n",
        "        predictions = clf.predict(test_X)\n",
        "\n",
        "        accuracy = accuracy_score(test_y, predictions)\n",
        "        precision = precision_score(test_y, predictions)\n",
        "        recall = recall_score(test_y, predictions)\n",
        "\n",
        "        print(f\"Learning Rate: {rate}, Accuracy: {accuracy}, Precision: {precision}, Recall: {recall}\")"
      ]
    },
    {
      "cell_type": "code",
      "execution_count": null,
      "id": "afb2ae07",
      "metadata": {
        "id": "afb2ae07",
        "colab": {
          "base_uri": "https://localhost:8080/"
        },
        "outputId": "438ec90b-16dd-4707-92ed-245afe32cfe6"
      },
      "outputs": [
        {
          "output_type": "stream",
          "name": "stdout",
          "text": [
            "Learning Rate: 0.1, Accuracy: 0.7853523721787194, Precision: 0.6110397946084724, Recall: 0.3029917250159134\n",
            "Learning Rate: 0.2, Accuracy: 0.7853523721787194, Precision: 0.640650406504065, Recall: 0.2507956715467855\n",
            "Learning Rate: 0.3, Accuracy: 0.7858129894058038, Precision: 0.6437908496732027, Recall: 0.2507956715467855\n",
            "Learning Rate: 0.4, Accuracy: 0.7853523721787194, Precision: 0.640650406504065, Recall: 0.2507956715467855\n",
            "Learning Rate: 0.5, Accuracy: 0.7853523721787194, Precision: 0.640650406504065, Recall: 0.2507956715467855\n"
          ]
        }
      ],
      "source": [
        "learning_rate_exploration(train_X, train_y, test_X, test_y)"
      ]
    },
    {
      "cell_type": "code",
      "execution_count": null,
      "id": "T-akqJfbEkVF",
      "metadata": {
        "id": "T-akqJfbEkVF"
      },
      "outputs": [],
      "source": [
        "## TODO : Write a function which iterates over different depths,\n",
        "## train a classifier with a specified depth and print accuracy, precision, and recall\n",
        "## Set trees_amount= 50 to make the calculations faster\n",
        "## Note: the calculations may take several minutes (depending on the computer efficiency).\n",
        "\n",
        "def max_depth_exploration(train_X, train_y, test_X, test_y, depths=[1,2,3,5]):\n",
        "    # TODO\n",
        "    trees_amount = 50\n",
        "\n",
        "    for depth in depths:\n",
        "        clf = GradientBoostingClassifier(max_depth=depth, n_estimators=trees_amount)\n",
        "        clf.fit(train_X, train_y)\n",
        "        predictions = clf.predict(test_X)\n",
        "\n",
        "        accuracy = accuracy_score(test_y, predictions)\n",
        "        precision = precision_score(test_y, predictions)\n",
        "        recall = recall_score(test_y, predictions)\n",
        "\n",
        "        print(f\"Max Depth: {depth}, Accuracy: {accuracy:.4f}, Precision: {precision:.4f}, Recall: {recall:.4f}\")\n",
        "\n",
        "\n",
        "\n",
        "\n",
        "\n",
        "\n"
      ]
    },
    {
      "cell_type": "code",
      "execution_count": null,
      "id": "3oFAnFOnEkdX",
      "metadata": {
        "id": "3oFAnFOnEkdX",
        "colab": {
          "base_uri": "https://localhost:8080/"
        },
        "outputId": "9b5724c7-4165-4c47-a85e-f21ee0750937"
      },
      "outputs": [
        {
          "output_type": "stream",
          "name": "stdout",
          "text": [
            "Max Depth: 1, Accuracy: 0.7821, Precision: 0.6439, Recall: 0.2164\n",
            "Max Depth: 2, Accuracy: 0.7847, Precision: 0.6082, Recall: 0.3024\n",
            "Max Depth: 3, Accuracy: 0.7855, Precision: 0.6121, Recall: 0.3024\n",
            "Max Depth: 5, Accuracy: 0.7855, Precision: 0.6412, Recall: 0.2514\n"
          ]
        }
      ],
      "source": [
        "max_depth_exploration(train_X, train_y, test_X, test_y)"
      ]
    },
    {
      "cell_type": "markdown",
      "id": "75fc86d1",
      "metadata": {
        "id": "75fc86d1"
      },
      "source": [
        "**TODO :**   \n",
        "\n",
        "* How does the max_depth parameter influence the results?\n",
        "* How does the learning rate influence the results?\n",
        "* How does the number of trees in the ensemble influence the results?\n",
        "* Try to improve the accuracy by combining different max_depth, learning rate and number of trees. How well does your best model perform?"
      ]
    },
    {
      "cell_type": "code",
      "execution_count": null,
      "id": "aa0c330e",
      "metadata": {
        "id": "aa0c330e"
      },
      "outputs": [],
      "source": [
        "def plot_explained_variance(clf, X):\n",
        "    # Check if the classifier is a decision tree or gradient boosting classifier\n",
        "\n",
        "        # Calculate feature importances\n",
        "      importances = clf.feature_importances_\n",
        "\n",
        "      # Get feature names\n",
        "      feature_names = X.columns if hasattr(X, 'columns') else np.arange(len(importances))\n",
        "\n",
        "      # Sort the feature importances in descending order and get the indices\n",
        "      indices = np.argsort(importances)[::-1]\n",
        "\n",
        "      # Rearrange the feature names so they match the sorted feature importances\n",
        "      sorted_names = [feature_names[i] for i in indices]\n",
        "\n",
        "      # Create the plot\n",
        "      plt.figure(figsize=(10, 6))\n",
        "      plt.title('Feature Importances')\n",
        "      plt.bar(range(len(importances)), importances[indices], color=\"r\", align=\"center\")\n",
        "      plt.xticks(range(len(importances)), sorted_names, rotation=90)\n",
        "      plt.xlim([-1, len(importances)])\n",
        "      plt.xlabel('Feature')\n",
        "      plt.ylabel('Importance')\n",
        "      plt.show()\n"
      ]
    },
    {
      "cell_type": "code",
      "execution_count": null,
      "id": "6cf90239",
      "metadata": {
        "id": "6cf90239",
        "colab": {
          "base_uri": "https://localhost:8080/",
          "height": 655
        },
        "outputId": "6ff71a3f-2f50-46e2-fdda-4c8bcd744c0d"
      },
      "outputs": [
        {
          "output_type": "display_data",
          "data": {
            "text/plain": [
              "<Figure size 1000x600 with 1 Axes>"
            ],
            "image/png": "[encoded data removed]"
          },
          "metadata": {}
        }
      ],
      "source": [
        "## TODO : display the plot\n",
        "plot_explained_variance(gb_classifier, train_X)\n"
      ]
    },
    {
      "cell_type": "markdown",
      "id": "2e0872d8",
      "metadata": {
        "id": "2e0872d8"
      },
      "source": [
        "**TODO :** Interpret the plot.\n",
        "\n",
        "**TODO (optional):** Try to remove the least-important features and see what happens. Does to quality improve or degrade? Why?"
      ]
    },
    {
      "cell_type": "markdown",
      "id": "94d40f1b",
      "metadata": {
        "id": "94d40f1b"
      },
      "source": [
        "## [OPTIONAL] Implement Tree from scratch\n"
      ]
    },
    {
      "cell_type": "code",
      "execution_count": null,
      "id": "dee4eeef",
      "metadata": {
        "id": "dee4eeef"
      },
      "outputs": [],
      "source": [
        "n_samples = 100000 # our implementation took ~1 min with this amount of samples, you can reduce the number if neccessary\n",
        "X_train, X_test, y_train, y_test = train_X.to_numpy()[:n_samples], test_X.to_numpy(), train_y.to_numpy()[:n_samples], test_y.to_numpy()\n"
      ]
    },
    {
      "cell_type": "markdown",
      "id": "805f74cc",
      "metadata": {
        "id": "805f74cc"
      },
      "source": [
        "Next, we will implement a simple decision tree classifier ourselves.\n",
        "We will use the Gini impurity as a criterion for splitting. It is defined for a set of labels as\n",
        "$$ G = \\sum_{i=0}^C p(i) * (1- p(i)) $$\n",
        "\n",
        "Given labels $l$ and split in $l_a$ and $l_b$, the weighted removed impurity can be computed by $G(l) - \\frac{|l_a|}{|l|}G(l_a) - \\frac{|l_b|}{|l|}G(l_b)$.\n",
        "\n",
        "Here is a simple explanation of the Gini impurity that you may find useful: https://victorzhou.com/blog/gini-impurity/\n",
        "\n",
        "\n",
        "### Task 2.1\n",
        "\n",
        "1. Implement a function `gini_impurity(y)` that computes the Gini impurity for an array of labels `y`.\n",
        "2. Implement a function `weighted_difference(y, split)`, that calculates the removed Gini impurity for a given boolean array `split` and `y`.\n",
        "3. Implement a function `find_best_split`, that performs an exhaustive search over all possible splits, i.e. for all features in x and all values of these features.\n",
        "\n",
        "Note: We have converted the training data to numpy above. Please use these arrays for the task. During debugging, it might be a good idea to reduce the number of data points via the n_samples argument above to speed up computations."
      ]
    },
    {
      "cell_type": "markdown",
      "id": "d6b770a7",
      "metadata": {
        "id": "d6b770a7"
      },
      "source": [
        "### Task 2.3\n",
        "\n",
        "1. Implement a function `build_tree(X, t, depth)` which recursively builds a tree. Use the classes `Node` and `Leaf` as a data structure to build your tree.\n",
        "2. Implement a function `predict_tree(tree, x)` which makes a prediction for sample `x`. Obtain scores for the `wine` dataset and compare to `sklearn.tree.DecisionTree`.\n"
      ]
    },
    {
      "cell_type": "code",
      "execution_count": null,
      "id": "81924410",
      "metadata": {
        "id": "81924410"
      },
      "outputs": [],
      "source": [
        "class Node:\n",
        "    def __init__(self, left, right, n_feat, threshold):\n",
        "        self.left = left\n",
        "        self.right = right\n",
        "        self.n_feat = n_feat\n",
        "        self.threshold = threshold\n",
        "\n",
        "\n",
        "class Leaf:\n",
        "    def __init__(self, label):\n",
        "        self.label = label"
      ]
    },
    {
      "cell_type": "code",
      "execution_count": null,
      "id": "1ef87849",
      "metadata": {
        "id": "1ef87849"
      },
      "outputs": [],
      "source": [
        "# TODO: implement the function build_tree and predict_tree\n",
        "\n",
        "# Implement recursive tree function\n",
        "def build_tree(x, y, current_depth, max_depth=3, n_labels=2):\n",
        "    pass\n",
        "\n",
        "\n",
        "def predict_tree(node, x):\n",
        "    pass"
      ]
    },
    {
      "cell_type": "code",
      "execution_count": null,
      "id": "547ca58c",
      "metadata": {
        "id": "547ca58c"
      },
      "outputs": [],
      "source": [
        "# Build tree\n",
        "tree = build_tree(X_train, y_train, current_depth=0, max_depth=3, n_labels=2)\n",
        "predictions = predict_tree(tree, X_test)\n",
        "predictions"
      ]
    },
    {
      "cell_type": "code",
      "execution_count": null,
      "id": "d6da6847",
      "metadata": {
        "id": "d6da6847"
      },
      "outputs": [],
      "source": [
        "# Calculate training and test scores\n",
        "print('Accuracy Training: ', accuracy_score(y_train, predict_tree(tree, X_train)))\n",
        "print('Accuracy: ', accuracy_score(test_y, predictions))\n",
        "print('Precision: ', precision_score(test_y, predictions, average='macro'))\n",
        "print('Recall: ', recall_score(test_y, predictions, average='macro'))"
      ]
    },
    {
      "cell_type": "markdown",
      "id": "jhE75y_UN7Qx",
      "metadata": {
        "id": "jhE75y_UN7Qx"
      },
      "source": [
        "## Prepare for deep learning\n",
        "### Add all the necessary training functions\n",
        "*You can reuse them from previous practical exercises*"
      ]
    },
    {
      "cell_type": "code",
      "execution_count": null,
      "id": "LfDLPO2QODES",
      "metadata": {
        "id": "LfDLPO2QODES"
      },
      "outputs": [],
      "source": [
        "## TODO write a function that calculates the accuracy\n",
        "## Hint - you can use yours from practical 3\n",
        "\n",
        "def accuracy(correct, total):\n",
        "    \"\"\"\n",
        "    function to calculate the accuracy given the\n",
        "        correct: number of correctly classified samples\n",
        "        total: total number of samples\n",
        "    returns the ratio\n",
        "    \"\"\"\n",
        "    return correct/total\n"
      ]
    },
    {
      "cell_type": "code",
      "execution_count": null,
      "id": "EVe7SFnrODHP",
      "metadata": {
        "id": "EVe7SFnrODHP"
      },
      "outputs": [],
      "source": [
        "def train(dataloader, optimizer, model, loss_fn, device):\n",
        "    \"\"\" method to train the model \"\"\"\n",
        "    # Todo\n",
        "    train_loss = 0\n",
        "    correct = 0\n",
        "    total = 0\n",
        "\n",
        "    model.train()\n",
        "\n",
        "    for data, target in dataloader:\n",
        "        data, target = data.to(device), target.to(device)\n",
        "        data = data.float()\n",
        "\n",
        "        # Forward pass\n",
        "        output = model(data)\n",
        "        loss  = loss_fn(output, target)\n",
        "\n",
        "        #backward pass\n",
        "        optimizer.zero_grad()\n",
        "        loss.backward()\n",
        "        optimizer.step()\n",
        "\n",
        "        train_loss += loss.item()\n",
        "        correct += (output.argmax(1) == target).sum().item()\n",
        "        total += target.size(0)\n",
        "\n",
        "\n",
        "    avg_train_loss = train_loss / len(dataloader)\n",
        "    avg_train_accuracy = accuracy(correct,total)\n",
        "\n",
        "    return avg_train_loss, avg_train_accuracy\n",
        "\n",
        "\n",
        "def validate(dataloader, model, loss_fn, device):\n",
        "    \"\"\" method to compute the metrics on the validation set \"\"\"\n",
        "    # Todo\n",
        "    val_loss = 0\n",
        "    total = 0\n",
        "    correct = 0\n",
        "\n",
        "    model.eval()\n",
        "\n",
        "    for data, target in dataloader:\n",
        "        data, target = data.to(device), target.to(device)\n",
        "\n",
        "        data = data.float()\n",
        "\n",
        "        #forward pass\n",
        "        output = model(data)\n",
        "        loss = loss_fn(output, target)\n",
        "\n",
        "        val_loss += loss.item()\n",
        "        correct += (output.argmax(1) == target).sum().item()\n",
        "        total += target.size(0)\n",
        "\n",
        "    avg_val_loss = val_loss / len(dataloader)\n",
        "    avg_val_accuracy = accuracy(correct, total)\n",
        "\n",
        "    return avg_val_loss, avg_val_accuracy"
      ]
    },
    {
      "cell_type": "code",
      "execution_count": null,
      "id": "pzGM0bPqxw3V",
      "metadata": {
        "id": "pzGM0bPqxw3V"
      },
      "outputs": [],
      "source": [
        "#TODO write a run_training function that\n",
        "# - calls the train and validate functions for each epoch\n",
        "# - saves the train_losses, val_losses, train_accs, val_accs as arrays for each epoch\n",
        "## Hint - you can use yours from practical 3\n",
        "#from tqdm import trange\n",
        "\n",
        "\n",
        "def train_model(model, optimizer, loss_function, device, num_epochs, train_dataloader, val_dataloader):\n",
        "    \"\"\" method to run the training procedure \"\"\"\n",
        "    # TODO\n",
        "    train_loss_history = []\n",
        "    val_loss_history = []\n",
        "    train_accuracy_history = []\n",
        "    val_accuracy_history = []\n",
        "\n",
        "    for epoch in range(num_epochs):\n",
        "        train_loss, train_accuracy = train(train_dataloader, optimizer, model, loss_function, device)\n",
        "        val_loss, val_accuracy = validate(val_dataloader, model, loss_function, device)\n",
        "\n",
        "        print(f'{epoch+1}/{num_epochs}, Training Loss : {train_loss:.4f}, Validation Loss : {val_loss:.4f}')\n",
        "        print(f'{epoch+1}/{num_epochs}, Training Accuracy : {train_accuracy:.4f}, Validation Accuracy : {val_accuracy:.4f}')\n",
        "\n",
        "\n",
        "        train_loss_history.append(train_loss)\n",
        "        val_loss_history.append(val_loss)\n",
        "        train_accuracy_history.append(train_accuracy)\n",
        "        val_accuracy_history.append(val_accuracy)\n",
        "    return train_loss_history, val_loss_history, train_accuracy_history, val_accuracy_history"
      ]
    },
    {
      "cell_type": "code",
      "execution_count": null,
      "id": "ngflrAEJxw5t",
      "metadata": {
        "id": "ngflrAEJxw5t"
      },
      "outputs": [],
      "source": [
        "# TODO write a plot_model_progress function\n",
        "## It should plot epochs vs metric progress\n",
        "## Hint - you can use yours from practical 2 or 3\n",
        "\n",
        "def plot_model_progress(train_losses, val_losses, train_accs, val_accs):\n",
        "    epochs = range(1, len(train_losses) + 1)\n",
        "\n",
        "    # Dynamic y-axis limits for loss\n",
        "    loss_min = min(min(train_losses), min(val_losses))\n",
        "    loss_max = max(max(train_losses), max(val_losses))\n",
        "    loss_padding = (loss_max - loss_min) * 0.1\n",
        "\n",
        "    # Dynamic y-axis limits for accuracy\n",
        "    acc_min = min(min(train_accs), min(val_accs))\n",
        "    acc_max = max(max(train_accs), max(val_accs))\n",
        "    acc_padding = (acc_max - acc_min) * 0.1\n",
        "\n",
        "    # Plot losses\n",
        "    plt.figure(figsize=(12, 6))\n",
        "    plt.subplot(1, 2, 1)\n",
        "    plt.plot(epochs, train_losses, label='Train Loss')\n",
        "    plt.plot(epochs, val_losses, label='Validation Loss')\n",
        "    plt.xlabel('Epochs')\n",
        "    plt.ylabel('Loss')\n",
        "    plt.title('Training and Validation Loss')\n",
        "    plt.legend()\n",
        "    plt.ylim([loss_min - loss_padding, loss_max + loss_padding])\n",
        "\n",
        "    # Plot accuracies\n",
        "    plt.subplot(1, 2, 2)\n",
        "    plt.plot(epochs, train_accs, label='Train Accuracy')\n",
        "    plt.plot(epochs, val_accs, label='Validation Accuracy')\n",
        "    plt.xlabel('Epochs')\n",
        "    plt.ylabel('Accuracy')\n",
        "    plt.title('Training and Validation Accuracy')\n",
        "    plt.legend()\n",
        "    plt.ylim([acc_min - acc_padding, acc_max + acc_padding])\n",
        "\n",
        "    plt.tight_layout()\n",
        "    plt.show()\n",
        "\n"
      ]
    },
    {
      "cell_type": "markdown",
      "id": "9iqaRi2xRADg",
      "metadata": {
        "id": "9iqaRi2xRADg"
      },
      "source": [
        "### Convert a pandas dataframe to a PyTorch dataset"
      ]
    },
    {
      "cell_type": "code",
      "execution_count": null,
      "id": "e3dcbc2c",
      "metadata": {
        "id": "e3dcbc2c"
      },
      "outputs": [],
      "source": [
        "## TODO : Define the dataset, apply normalization in the getitem method\n",
        "## Hint : you can use/adapt your code from practical 2\n",
        "class TabularDataset(torch.utils.data.Dataset):\n",
        "    def __init__(self, df_x, df_y, mean=None, std=None, normalise=True):\n",
        "        '''\n",
        "        TODO: save params to self attributes,\n",
        "        x is data without target column\n",
        "        y is target column\n",
        "        transform df to_numpy\n",
        "        '''\n",
        "        self.x = df_x.to_numpy().astype(np.float32) if not isinstance(df_x, np.ndarray) else df_x.astype(np.float32)\n",
        "        self.y = df_y.to_numpy().astype(np.int64) if not isinstance(df_y, np.ndarray) else df_y\n",
        "        self.mean = mean\n",
        "        self.std = std\n",
        "        self.normalise = normalise\n",
        "\n",
        "\n",
        "    def __len__(self):\n",
        "        return len(self.x)\n",
        "\n",
        "    def __getitem__(self, index):\n",
        "      x = self.x[index]\n",
        "      y = self.y[index]\n",
        "\n",
        "      if self.normalise and self.mean is not None and self.std is not None:\n",
        "          x = (x - self.mean) / self.std\n",
        "\n",
        "      # Convert y to a tensor directly here\n",
        "      x = torch.from_numpy(x)\n",
        "      y = torch.tensor(y, dtype=torch.long)  # Create tensor directly here\n",
        "\n",
        "      return x, y\n"
      ]
    },
    {
      "cell_type": "code",
      "execution_count": null,
      "id": "3jJXxpF-KIpz",
      "metadata": {
        "id": "3jJXxpF-KIpz",
        "colab": {
          "base_uri": "https://localhost:8080/"
        },
        "outputId": "2df8c8bf-88c3-4e5a-cd31-00b6213ab4b4"
      },
      "outputs": [
        {
          "output_type": "stream",
          "name": "stdout",
          "text": [
            "Mean of training data (numeric features): education        10.287853\n",
            "education-num    10.080544\n",
            "occupation        6.573633\n",
            "dtype: float64\n",
            "Standard deviation of training data (numeric features): education        3.871331\n",
            "education-num    2.575202\n",
            "occupation       4.227614\n",
            "dtype: float64\n"
          ]
        }
      ],
      "source": [
        "## TODO : calculate mean and std for the train set\n",
        "## Hint : be careful with categorical values. Convert them them to numerical\n",
        "## Hint : the response variable should be of datatype integer\n",
        "\n",
        "\n",
        "def identify_categorical_columns(df):\n",
        "    # Categorical columns are often object or category types\n",
        "    categorical = df.select_dtypes(include=['object', 'category']).columns.tolist()\n",
        "    return categorical\n",
        "\n",
        "\n",
        "categorical_columns = identify_categorical_columns(train_X)\n",
        "exclude_columns = categorical_columns\n",
        "\n",
        "numeric_columns = train_X.columns.difference(exclude_columns)  # Get numeric columns by excluding categorical and target\n",
        "train_mean = train_X[numeric_columns].mean()\n",
        "train_std = train_X[numeric_columns].std()\n",
        "\n",
        "# Print the computed means and standard deviations\n",
        "print(\"Mean of training data (numeric features):\", train_mean)\n",
        "print(\"Standard deviation of training data (numeric features):\", train_std)\n",
        "\n",
        "# Ensure the target column is integer if it's categorical\n",
        "#train_y = train_y.astype(int)\n",
        "\n"
      ]
    },
    {
      "cell_type": "code",
      "execution_count": null,
      "id": "Ef6dNkihxzYd",
      "metadata": {
        "id": "Ef6dNkihxzYd"
      },
      "outputs": [],
      "source": [
        "# TODO : define new datasets with mean, std and normalise=True\n",
        "# be careful with the labels, they should start from 0!\n",
        "\n",
        "\n",
        "train_dataset = TabularDataset(train_X, train_y, mean=train_mean.values, std=train_std.values, normalise=True)\n",
        "test_dataset = TabularDataset(test_X, test_y, mean=train_mean.values, std=train_std.values, normalise=True)\n",
        "\n",
        "\n",
        "## TODO : define dataloaders, with specified batch size and shuffled\n",
        "batch_size = 256\n",
        "train_loader = DataLoader(train_dataset, batch_size=batch_size, shuffle=True)\n",
        "test_loader = DataLoader(test_dataset, batch_size=batch_size, shuffle=True)\n"
      ]
    },
    {
      "cell_type": "markdown",
      "id": "N28MlXQ7ON1j",
      "metadata": {
        "id": "N28MlXQ7ON1j"
      },
      "source": [
        "## Logistic regression"
      ]
    },
    {
      "cell_type": "code",
      "execution_count": null,
      "id": "NT-EtgZKOLb0",
      "metadata": {
        "id": "NT-EtgZKOLb0"
      },
      "outputs": [],
      "source": [
        "class LR(torch.nn.Module):\n",
        "    \"\"\"\n",
        "    The logistic regression model inherits from torch.nn.Module\n",
        "    which is the base class for all neural network modules.\n",
        "    \"\"\"\n",
        "    def __init__(self, input_dim, output_dim):\n",
        "        \"\"\" Initializes internal Module state. \"\"\"\n",
        "        super(LR, self).__init__()\n",
        "        # TODO define linear layer for the model\n",
        "        self.linear = torch.nn.Linear(input_dim, output_dim)\n",
        "\n",
        "\n",
        "    def forward(self, x):\n",
        "        \"\"\" Defines the computation performed at every call. \"\"\"\n",
        "        # What are the dimensions of your input layer?\n",
        "        x = x.to(torch.float32)\n",
        "        # TODO run the data through the layer\n",
        "        outputs = self.linear(x)\n",
        "\n",
        "        return outputs"
      ]
    },
    {
      "cell_type": "code",
      "execution_count": null,
      "id": "eWDd_hYGOZSj",
      "metadata": {
        "id": "eWDd_hYGOZSj",
        "colab": {
          "base_uri": "https://localhost:8080/"
        },
        "outputId": "c1426e14-47b6-4cb1-d8db-c42796cdc19c"
      },
      "outputs": [
        {
          "output_type": "execute_result",
          "data": {
            "text/plain": [
              "LR(\n",
              "  (linear): Linear(in_features=3, out_features=2, bias=True)\n",
              ")"
            ]
          },
          "metadata": {},
          "execution_count": 187
        }
      ],
      "source": [
        "## TODO define model, loss and optimizers\n",
        "## don't forget to move everything for the correct devices\n",
        "##\n",
        "import torch.optim as optim\n",
        "train_y_tensor = torch.tensor(train_y)\n",
        "\n",
        "output_dim = len(torch.unique(train_y_tensor))\n",
        "input_dim = train_X.shape[1]\n",
        "\n",
        "\n",
        "lr=0.001\n",
        "model = LR(input_dim, output_dim)\n",
        "loss_function = nn.CrossEntropyLoss()\n",
        "optimizer = optim.Adam(model.parameters(), lr=lr)\n",
        "model.to(device)\n",
        "\n"
      ]
    },
    {
      "cell_type": "code",
      "execution_count": null,
      "id": "6EFwKn-iOgNv",
      "metadata": {
        "id": "6EFwKn-iOgNv",
        "colab": {
          "base_uri": "https://localhost:8080/"
        },
        "outputId": "31e6feb6-e170-4c62-cf24-650b48626f15"
      },
      "outputs": [
        {
          "output_type": "stream",
          "name": "stdout",
          "text": [
            "1/30, Training Loss : 0.9514, Validation Loss : 0.8911\n",
            "1/30, Training Accuracy : 0.2477, Validation Accuracy : 0.2598\n",
            "2/30, Training Loss : 0.8392, Validation Loss : 0.7926\n",
            "2/30, Training Accuracy : 0.2787, Validation Accuracy : 0.3077\n",
            "3/30, Training Loss : 0.7520, Validation Loss : 0.7157\n",
            "3/30, Training Accuracy : 0.3534, Validation Accuracy : 0.4477\n",
            "4/30, Training Loss : 0.6848, Validation Loss : 0.6564\n",
            "4/30, Training Accuracy : 0.5283, Validation Accuracy : 0.6281\n",
            "5/30, Training Loss : 0.6339, Validation Loss : 0.6122\n",
            "5/30, Training Accuracy : 0.6846, Validation Accuracy : 0.7331\n",
            "6/30, Training Loss : 0.5958, Validation Loss : 0.5791\n",
            "6/30, Training Accuracy : 0.7526, Validation Accuracy : 0.7737\n",
            "7/30, Training Loss : 0.5677, Validation Loss : 0.5547\n",
            "7/30, Training Accuracy : 0.7771, Validation Accuracy : 0.7737\n",
            "8/30, Training Loss : 0.5469, Validation Loss : 0.5367\n",
            "8/30, Training Accuracy : 0.7769, Validation Accuracy : 0.7737\n",
            "9/30, Training Loss : 0.5316, Validation Loss : 0.5234\n",
            "9/30, Training Accuracy : 0.7785, Validation Accuracy : 0.7752\n",
            "10/30, Training Loss : 0.5202, Validation Loss : 0.5136\n",
            "10/30, Training Accuracy : 0.7788, Validation Accuracy : 0.7809\n",
            "11/30, Training Loss : 0.5120, Validation Loss : 0.5062\n",
            "11/30, Training Accuracy : 0.7791, Validation Accuracy : 0.7809\n",
            "12/30, Training Loss : 0.5057, Validation Loss : 0.5009\n",
            "12/30, Training Accuracy : 0.7801, Validation Accuracy : 0.7809\n",
            "13/30, Training Loss : 0.5012, Validation Loss : 0.4970\n",
            "13/30, Training Accuracy : 0.7798, Validation Accuracy : 0.7720\n",
            "14/30, Training Loss : 0.4979, Validation Loss : 0.4940\n",
            "14/30, Training Accuracy : 0.7735, Validation Accuracy : 0.7720\n",
            "15/30, Training Loss : 0.4956, Validation Loss : 0.4919\n",
            "15/30, Training Accuracy : 0.7735, Validation Accuracy : 0.7720\n",
            "16/30, Training Loss : 0.4940, Validation Loss : 0.4903\n",
            "16/30, Training Accuracy : 0.7770, Validation Accuracy : 0.7720\n",
            "17/30, Training Loss : 0.4929, Validation Loss : 0.4893\n",
            "17/30, Training Accuracy : 0.7735, Validation Accuracy : 0.7720\n",
            "18/30, Training Loss : 0.4918, Validation Loss : 0.4885\n",
            "18/30, Training Accuracy : 0.7740, Validation Accuracy : 0.7809\n",
            "19/30, Training Loss : 0.4912, Validation Loss : 0.4879\n",
            "19/30, Training Accuracy : 0.7788, Validation Accuracy : 0.7720\n",
            "20/30, Training Loss : 0.4909, Validation Loss : 0.4875\n",
            "20/30, Training Accuracy : 0.7766, Validation Accuracy : 0.7809\n",
            "21/30, Training Loss : 0.4905, Validation Loss : 0.4872\n",
            "21/30, Training Accuracy : 0.7762, Validation Accuracy : 0.7809\n",
            "22/30, Training Loss : 0.4903, Validation Loss : 0.4871\n",
            "22/30, Training Accuracy : 0.7798, Validation Accuracy : 0.7809\n",
            "23/30, Training Loss : 0.4902, Validation Loss : 0.4869\n",
            "23/30, Training Accuracy : 0.7805, Validation Accuracy : 0.7809\n",
            "24/30, Training Loss : 0.4902, Validation Loss : 0.4869\n",
            "24/30, Training Accuracy : 0.7793, Validation Accuracy : 0.7720\n",
            "25/30, Training Loss : 0.4902, Validation Loss : 0.4868\n",
            "25/30, Training Accuracy : 0.7798, Validation Accuracy : 0.7809\n",
            "26/30, Training Loss : 0.4899, Validation Loss : 0.4867\n",
            "26/30, Training Accuracy : 0.7806, Validation Accuracy : 0.7809\n",
            "27/30, Training Loss : 0.4900, Validation Loss : 0.4867\n",
            "27/30, Training Accuracy : 0.7806, Validation Accuracy : 0.7809\n",
            "28/30, Training Loss : 0.4901, Validation Loss : 0.4867\n",
            "28/30, Training Accuracy : 0.7783, Validation Accuracy : 0.7809\n",
            "29/30, Training Loss : 0.4900, Validation Loss : 0.4867\n",
            "29/30, Training Accuracy : 0.7806, Validation Accuracy : 0.7809\n",
            "30/30, Training Loss : 0.4900, Validation Loss : 0.4866\n",
            "30/30, Training Accuracy : 0.7806, Validation Accuracy : 0.7807\n"
          ]
        }
      ],
      "source": [
        "## TODO train the network\n",
        "num_epochs = 30\n",
        "train_loader = DataLoader(train_dataset, batch_size=256, shuffle=True)\n",
        "val_loader = DataLoader(test_dataset, batch_size=256, shuffle=False)\n",
        "\n",
        "# Device configuration\n",
        "model.to(device)\n",
        "\n",
        "# Start training\n",
        "# Assuming your run_training function has already collected these metrics\n",
        "LR_train_loss_history, LR_val_loss_history, LR_train_accuracy_history, LR_val_accuracy_history = train_model(model, optimizer, loss_function, device, num_epochs, train_loader, val_loader)"
      ]
    },
    {
      "cell_type": "code",
      "execution_count": null,
      "id": "H-IJWOsATYul",
      "metadata": {
        "id": "H-IJWOsATYul",
        "colab": {
          "base_uri": "https://localhost:8080/",
          "height": 591
        },
        "outputId": "9b8b0779-1f1d-46ae-f79e-360968d51392"
      },
      "outputs": [
        {
          "output_type": "display_data",
          "data": {
            "text/plain": [
              "<Figure size 1200x600 with 2 Axes>"
            ],
            "image/png": "[encoded data removed]"
          },
          "metadata": {}
        }
      ],
      "source": [
        "## todo - plot epochs vs loss with plot_model_progress\n",
        "plot_model_progress(LR_train_loss_history, LR_val_loss_history, LR_train_accuracy_history, LR_val_accuracy_history)\n"
      ]
    },
    {
      "cell_type": "markdown",
      "id": "cb1bca9a",
      "metadata": {
        "id": "cb1bca9a"
      },
      "source": [
        "\n",
        "## Create a simple MLP\n",
        "\n",
        "As the default tree has 3 layers, let's make a MLP with 3 linear layers and ReLU.\n",
        "Please notice that making convolutions on tabular data does not make much sense even though it is technically possible.   \n",
        "\n",
        "**TODO :** Explain why making convolutions on tabular data does not make much sense. Why do we use an MLP, not a CNN from the previous homework?"
      ]
    },
    {
      "cell_type": "code",
      "execution_count": null,
      "id": "4eecbb52",
      "metadata": {
        "id": "4eecbb52"
      },
      "outputs": [],
      "source": [
        "class TabularNetwork(torch.nn.Module):\n",
        "    def __init__(self, input_dim, output_dim):\n",
        "        \"\"\" Initializes internal Module state. \"\"\"\n",
        "        super(TabularNetwork, self).__init__()\n",
        "        self.network = nn.Sequential(\n",
        "            # TODO : define 3 linear layer with sizes\n",
        "            # input_dim -> input_dim // 2 -> output_dim\n",
        "            # using ReLU as nonlinearity\n",
        "\n",
        "        )\n",
        "\n",
        "        self.network = nn.Sequential(\n",
        "            # TODO : define 3 linear layer with sizes\n",
        "            # input_dim -> input_dim // 2 -> output_dim\n",
        "            # using ReLU as nonlinearity\n",
        "            nn.Linear(input_dim, input_dim // 2),  # First linear layer from input_dim to input_dim // 2\n",
        "            nn.ReLU(),                             # ReLU activation\n",
        "            nn.Linear(input_dim // 2, input_dim // 4),  # Second linear layer from input_dim // 2 to input_dim // 4\n",
        "            nn.ReLU(),                             # ReLU activation\n",
        "            nn.Linear(input_dim // 4, output_dim)  #\n",
        "\n",
        "        )\n",
        "\n",
        "\n",
        "    def forward(self, x):\n",
        "        \"\"\" Defines the computation performed at every call. \"\"\"\n",
        "        # TODO\n",
        "        x = self.network(x)  # Pass the input through the sequential model\n",
        "        return x"
      ]
    },
    {
      "cell_type": "code",
      "execution_count": null,
      "id": "5OGid8SpMvZz",
      "metadata": {
        "id": "5OGid8SpMvZz"
      },
      "outputs": [],
      "source": [
        "## TODO : define model, optimizer, cross entropy loss,\n",
        "## put model to the device, and train mode\n",
        "## you can optionally try to add regularization\n",
        "lr=0.001\n",
        "model = TabularNetwork(input_dim, output_dim)\n",
        "loss_function = nn.CrossEntropyLoss()\n",
        "optimizer = optim.Adam(model.parameters(), lr=lr, weight_decay=1e-4)\n"
      ]
    },
    {
      "cell_type": "code",
      "execution_count": null,
      "id": "Z-WNxtczM5Iv",
      "metadata": {
        "id": "Z-WNxtczM5Iv",
        "colab": {
          "base_uri": "https://localhost:8080/"
        },
        "outputId": "2d9db2a5-ff7e-476d-b26f-c5d3e929085a"
      },
      "outputs": [
        {
          "output_type": "stream",
          "name": "stdout",
          "text": [
            "1/30, Training Loss : 0.6693, Validation Loss : 0.6473\n",
            "1/30, Training Accuracy : 0.7593, Validation Accuracy : 0.7588\n",
            "2/30, Training Loss : 0.6300, Validation Loss : 0.6145\n",
            "2/30, Training Accuracy : 0.7593, Validation Accuracy : 0.7588\n",
            "3/30, Training Loss : 0.6021, Validation Loss : 0.5917\n",
            "3/30, Training Accuracy : 0.7593, Validation Accuracy : 0.7588\n",
            "4/30, Training Loss : 0.5833, Validation Loss : 0.5765\n",
            "4/30, Training Accuracy : 0.7593, Validation Accuracy : 0.7588\n",
            "5/30, Training Loss : 0.5708, Validation Loss : 0.5667\n",
            "5/30, Training Accuracy : 0.7593, Validation Accuracy : 0.7588\n",
            "6/30, Training Loss : 0.5629, Validation Loss : 0.5606\n",
            "6/30, Training Accuracy : 0.7593, Validation Accuracy : 0.7588\n",
            "7/30, Training Loss : 0.5579, Validation Loss : 0.5569\n",
            "7/30, Training Accuracy : 0.7593, Validation Accuracy : 0.7588\n",
            "8/30, Training Loss : 0.5551, Validation Loss : 0.5549\n",
            "8/30, Training Accuracy : 0.7593, Validation Accuracy : 0.7588\n",
            "9/30, Training Loss : 0.5535, Validation Loss : 0.5537\n",
            "9/30, Training Accuracy : 0.7593, Validation Accuracy : 0.7588\n",
            "10/30, Training Loss : 0.5528, Validation Loss : 0.5532\n",
            "10/30, Training Accuracy : 0.7593, Validation Accuracy : 0.7588\n",
            "11/30, Training Loss : 0.5524, Validation Loss : 0.5529\n",
            "11/30, Training Accuracy : 0.7593, Validation Accuracy : 0.7588\n",
            "12/30, Training Loss : 0.5520, Validation Loss : 0.5527\n",
            "12/30, Training Accuracy : 0.7593, Validation Accuracy : 0.7588\n",
            "13/30, Training Loss : 0.5520, Validation Loss : 0.5527\n",
            "13/30, Training Accuracy : 0.7593, Validation Accuracy : 0.7588\n",
            "14/30, Training Loss : 0.5519, Validation Loss : 0.5526\n",
            "14/30, Training Accuracy : 0.7593, Validation Accuracy : 0.7588\n",
            "15/30, Training Loss : 0.5519, Validation Loss : 0.5526\n",
            "15/30, Training Accuracy : 0.7593, Validation Accuracy : 0.7588\n",
            "16/30, Training Loss : 0.5517, Validation Loss : 0.5526\n",
            "16/30, Training Accuracy : 0.7593, Validation Accuracy : 0.7588\n",
            "17/30, Training Loss : 0.5519, Validation Loss : 0.5526\n",
            "17/30, Training Accuracy : 0.7593, Validation Accuracy : 0.7588\n",
            "18/30, Training Loss : 0.5518, Validation Loss : 0.5526\n",
            "18/30, Training Accuracy : 0.7593, Validation Accuracy : 0.7588\n",
            "19/30, Training Loss : 0.5519, Validation Loss : 0.5526\n",
            "19/30, Training Accuracy : 0.7593, Validation Accuracy : 0.7588\n",
            "20/30, Training Loss : 0.5518, Validation Loss : 0.5526\n",
            "20/30, Training Accuracy : 0.7593, Validation Accuracy : 0.7588\n",
            "21/30, Training Loss : 0.5520, Validation Loss : 0.5526\n",
            "21/30, Training Accuracy : 0.7593, Validation Accuracy : 0.7588\n",
            "22/30, Training Loss : 0.5518, Validation Loss : 0.5526\n",
            "22/30, Training Accuracy : 0.7593, Validation Accuracy : 0.7588\n",
            "23/30, Training Loss : 0.5517, Validation Loss : 0.5526\n",
            "23/30, Training Accuracy : 0.7593, Validation Accuracy : 0.7588\n",
            "24/30, Training Loss : 0.5519, Validation Loss : 0.5526\n",
            "24/30, Training Accuracy : 0.7593, Validation Accuracy : 0.7588\n",
            "25/30, Training Loss : 0.5520, Validation Loss : 0.5526\n",
            "25/30, Training Accuracy : 0.7593, Validation Accuracy : 0.7588\n",
            "26/30, Training Loss : 0.5518, Validation Loss : 0.5526\n",
            "26/30, Training Accuracy : 0.7593, Validation Accuracy : 0.7588\n",
            "27/30, Training Loss : 0.5519, Validation Loss : 0.5526\n",
            "27/30, Training Accuracy : 0.7593, Validation Accuracy : 0.7588\n",
            "28/30, Training Loss : 0.5519, Validation Loss : 0.5526\n",
            "28/30, Training Accuracy : 0.7593, Validation Accuracy : 0.7588\n",
            "29/30, Training Loss : 0.5520, Validation Loss : 0.5526\n",
            "29/30, Training Accuracy : 0.7593, Validation Accuracy : 0.7588\n",
            "30/30, Training Loss : 0.5520, Validation Loss : 0.5526\n",
            "30/30, Training Accuracy : 0.7593, Validation Accuracy : 0.7588\n"
          ]
        }
      ],
      "source": [
        "## TODO : Train model\n",
        "## TODO : Train model\n",
        "num_epochs = 30\n",
        "train_loader = DataLoader(train_dataset, batch_size=256, shuffle=True)\n",
        "val_loader = DataLoader(test_dataset, batch_size=256, shuffle=False)\n",
        "\n",
        "# Device configuration\n",
        "model.to(device)\n",
        "\n",
        "# Start training\n",
        "MLP_train_loss_history, MLP_val_loss_history, MLP_train_accuracy_history, MLP_val_accuracy_history = train_model(model, optimizer, loss_function, device, num_epochs, train_loader, val_loader,)\n"
      ]
    },
    {
      "cell_type": "code",
      "execution_count": null,
      "id": "I_xVns4qM5eO",
      "metadata": {
        "id": "I_xVns4qM5eO",
        "colab": {
          "base_uri": "https://localhost:8080/",
          "height": 591
        },
        "outputId": "53b28c5e-ab99-47d2-f278-30b9d488ccbf"
      },
      "outputs": [
        {
          "output_type": "display_data",
          "data": {
            "text/plain": [
              "<Figure size 1200x600 with 2 Axes>"
            ],
            "image/png": "[encoded data removed]"
          },
          "metadata": {}
        }
      ],
      "source": [
        "## todo - plot epochs vs loss with plot_model_progress\n",
        "plot_model_progress(MLP_train_loss_history, MLP_val_loss_history, MLP_train_accuracy_history, MLP_val_accuracy_history)"
      ]
    },
    {
      "cell_type": "code",
      "execution_count": null,
      "id": "JRAEaYnYUpd_",
      "metadata": {
        "id": "JRAEaYnYUpd_"
      },
      "outputs": [],
      "source": [
        "## todo - plot epochs and accuracy with plot_model_progress"
      ]
    },
    {
      "cell_type": "markdown",
      "id": "J8HbVqiUznBu",
      "metadata": {
        "id": "J8HbVqiUznBu"
      },
      "source": [
        "**TODO:** Did your network perform better or worse than the GradientBoostingClassifier on this dataset? Why?\n"
      ]
    },
    {
      "cell_type": "markdown",
      "id": "cc0f5f87",
      "metadata": {
        "id": "cc0f5f87"
      },
      "source": [
        "## Bonus tasks (optional)\n",
        "* Try to use SGD instead of Adam as optimizer. What do you notice?\n",
        "Here are different opinions on this topic:\n",
        "  * https://codeahoy.com/questions/ds-interview/33/#:~:text=Adam%20tends%20to%20converge%20faster,converges%20to%20more%20optimal%20solutions.\n",
        "  * https://shaoanlu.wordpress.com/2017/05/29/sgd-all-which-one-is-the-best-optimizer-dogs-vs-cats-toy-experiment/\n",
        "  * https://datascience.stackexchange.com/questions/30344/why-not-always-use-the-adam-optimization-technique\n",
        "\n",
        "* Try to make your MLP twice deeper. What do you notice? Why?\n",
        "\n",
        "## Advanced topic to read about:\n",
        "**Tools which may be helpful for data exploration:**\n",
        "* df.describe() - returns some basic statistics for your dataset - https://pandas.pydata.org/docs/reference/api/pandas.DataFrame.describe.html\n",
        "* ydata-profiling (previous pandas-profiling) - generates interactive data exploration report: basic statistics, nans, correlations between different features - https://github.com/ydataai/ydata-profiling\n",
        "\n",
        "**Tree libraries**\n",
        "* XGBoost - XGBoost stands for “Extreme Gradient Boosting”, where the term “Gradient Boosting” originates from the paper Greedy Function Approximation: A Gradient Boosting Machine, by Friedman. https://xgboost.readthedocs.io/en/stable/tutorials/model.html\n",
        "* LightGBM - industrial library for XGBoost from Miscrosoft. LightGBM is a gradient boosting framework that uses tree based learning algorithms. It is designed to be distributed and efficient. https://lightgbm.readthedocs.io/en/v3.3.2/"
      ]
    }
  ],
  "metadata": {
    "accelerator": "GPU",
    "colab": {
      "gpuType": "T4",
      "provenance": []
    },
    "kernelspec": {
      "display_name": "Python 3 (ipykernel)",
      "language": "python",
      "name": "python3"
    },
    "language_info": {
      "codemirror_mode": {
        "name": "ipython",
        "version": 3
      },
      "file_extension": ".py",
      "mimetype": "text/x-python",
      "name": "python",
      "nbconvert_exporter": "python",
      "pygments_lexer": "ipython3",
      "version": "3.9.18"
    },
    "vscode": {
      "interpreter": {
        "hash": "31f2aee4e71d21fbe5cf8b01ff0e069b9275f58929596ceb00d14d90e3e16cd6"
      }
    }
  },
  "nbformat": 4,
  "nbformat_minor": 5
}